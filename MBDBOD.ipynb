{
 "cells": [
  {
   "cell_type": "markdown",
   "id": "0f752a69",
   "metadata": {},
   "source": [
    "<center style='font-size:28px;'><u><b>Making Business Decisions Based on Data</b></u></center>"
   ]
  },
  {
   "cell_type": "markdown",
   "id": "5c5c32ff",
   "metadata": {},
   "source": [
    "# Project description"
   ]
  },
  {
   "cell_type": "markdown",
   "id": "c41273b3",
   "metadata": {},
   "source": [
    "<ul>A big online store has a list of hypotheses that may help boost revenue.</ul>\n",
    "<ul>The project is about prioritize these hypotheses, launch an A/B test, and analyze the results.</ul>\n",
    "<div><b>In particular:</b></div>\n",
    "\n",
    "- Utilise ICE and RICE methodologies, and compare their effect\n",
    "- Visualise various metrics, cumulative metrics and relative differences\n",
    "- Calculate percentiles\n",
    "- Find statistical significances for metric differences\n",
    "- Make conclusions and conjectures\n",
    "- Make a decision based on the test results"
   ]
  },
  {
   "cell_type": "markdown",
   "id": "764c5de3",
   "metadata": {},
   "source": [
    "## Description of the data"
   ]
  },
  {
   "cell_type": "markdown",
   "id": "72069924",
   "metadata": {},
   "source": [
    "- **hypotheses**\n",
    "<ul>Hypothesis — brief descriptions of the hypotheses</ul>\n",
    "<ul>Reach — user reach, on a scale of one to ten</ul>\n",
    "<ul>Impact — impact on users, on a scale of one to ten</ul>\n",
    "<ul>Confidence — confidence in the hypothesis, on a scale of one to ten</ul>\n",
    "<ul>Effort — the resources required to test a hypothesis, on a scale of one to ten. The higher the Effort value, the more resource-intensive the test.</ul>\n",
    "\n",
    "- **orders**\n",
    "<ul>transactionId — order identifier</ul>\n",
    "<ul>visitorId — identifier of the user who placed the order</ul>\n",
    "<ul>date — of the order</ul>\n",
    "<ul>revenue — from the order</ul>\n",
    "<ul>group — the A/B test group that the user belongs to</ul>\n",
    "\n",
    "- **visits**\n",
    "<ul>date — date</ul>\n",
    "<ul>group — A/B test group</ul>\n",
    "<ul>visits — the number of visits on the date specified in the A/B test group specified</ul>\n"
   ]
  },
  {
   "cell_type": "markdown",
   "id": "2fe64156",
   "metadata": {},
   "source": [
    "*Data needs to be preprocessed as **there might be mistakes in the original datasets**; for example, some of the visitors might have gotten into both group A and group B*"
   ]
  },
  {
   "cell_type": "code",
   "execution_count": 1,
   "id": "4c62be9c",
   "metadata": {},
   "outputs": [],
   "source": [
    "import pandas as pd\n",
    "import numpy as np\n",
    "import matplotlib.pyplot as plt\n",
    "import seaborn as sns\n",
    "from scipy import stats\n",
    "import math"
   ]
  },
  {
   "cell_type": "markdown",
   "id": "12f8c601",
   "metadata": {},
   "source": [
    "# Opening files"
   ]
  },
  {
   "cell_type": "code",
   "execution_count": 2,
   "id": "7ded718b",
   "metadata": {},
   "outputs": [],
   "source": [
    "try:\n",
    "    hypotheses = pd.read_csv('hypotheses_us.csv')\n",
    "except:\n",
    "    hypotheses = pd.read_csv('https://code.s3.yandex.net/datasets/hypotheses_us.csv')\n",
    "try:\n",
    "    orders = pd.read_csv('orders_us.csv')\n",
    "except:\n",
    "    orders = pd.read_csv('https://code.s3.yandex.net/datasets/orders_us.csv')\n",
    "try:\n",
    "    visits = pd.read_csv('visits_us.csv')\n",
    "except:\n",
    "    visits = pd.read_csv('https://code.s3.yandex.net/datasets/visits_us.csv')"
   ]
  },
  {
   "cell_type": "markdown",
   "id": "0cd5318d",
   "metadata": {},
   "source": [
    "## `Hypotheses`"
   ]
  },
  {
   "cell_type": "code",
   "execution_count": 3,
   "id": "e2868fa1",
   "metadata": {},
   "outputs": [
    {
     "data": {
      "text/html": [
       "<div>\n",
       "<style scoped>\n",
       "    .dataframe tbody tr th:only-of-type {\n",
       "        vertical-align: middle;\n",
       "    }\n",
       "\n",
       "    .dataframe tbody tr th {\n",
       "        vertical-align: top;\n",
       "    }\n",
       "\n",
       "    .dataframe thead th {\n",
       "        text-align: right;\n",
       "    }\n",
       "</style>\n",
       "<table border=\"1\" class=\"dataframe\">\n",
       "  <thead>\n",
       "    <tr style=\"text-align: right;\">\n",
       "      <th></th>\n",
       "      <th>Hypothesis;Reach;Impact;Confidence;Effort</th>\n",
       "    </tr>\n",
       "  </thead>\n",
       "  <tbody>\n",
       "    <tr>\n",
       "      <th>0</th>\n",
       "      <td>Add two new channels for attracting traffic. T...</td>\n",
       "    </tr>\n",
       "    <tr>\n",
       "      <th>1</th>\n",
       "      <td>Launch your own delivery service. This will sh...</td>\n",
       "    </tr>\n",
       "    <tr>\n",
       "      <th>2</th>\n",
       "      <td>Add product recommendation blocks to the store...</td>\n",
       "    </tr>\n",
       "    <tr>\n",
       "      <th>3</th>\n",
       "      <td>Change the category structure. This will incre...</td>\n",
       "    </tr>\n",
       "    <tr>\n",
       "      <th>4</th>\n",
       "      <td>Change the background color on the main page. ...</td>\n",
       "    </tr>\n",
       "  </tbody>\n",
       "</table>\n",
       "</div>"
      ],
      "text/plain": [
       "           Hypothesis;Reach;Impact;Confidence;Effort\n",
       "0  Add two new channels for attracting traffic. T...\n",
       "1  Launch your own delivery service. This will sh...\n",
       "2  Add product recommendation blocks to the store...\n",
       "3  Change the category structure. This will incre...\n",
       "4  Change the background color on the main page. ..."
      ]
     },
     "execution_count": 3,
     "metadata": {},
     "output_type": "execute_result"
    }
   ],
   "source": [
    "hypotheses.head()"
   ]
  },
  {
   "cell_type": "markdown",
   "id": "32ec75ee",
   "metadata": {},
   "source": [
    "Seems the lines are quite long.."
   ]
  },
  {
   "cell_type": "code",
   "execution_count": 4,
   "id": "e99a8655",
   "metadata": {},
   "outputs": [
    {
     "name": "stdout",
     "output_type": "stream",
     "text": [
      "<class 'pandas.core.frame.DataFrame'>\n",
      "RangeIndex: 9 entries, 0 to 8\n",
      "Data columns (total 1 columns):\n",
      " #   Column                                     Non-Null Count  Dtype \n",
      "---  ------                                     --------------  ----- \n",
      " 0   Hypothesis;Reach;Impact;Confidence;Effort  9 non-null      object\n",
      "dtypes: object(1)\n",
      "memory usage: 200.0+ bytes\n"
     ]
    }
   ],
   "source": [
    "hypotheses.info()"
   ]
  },
  {
   "cell_type": "markdown",
   "id": "9d83c520",
   "metadata": {},
   "source": [
    "Its not clear what that one column exactly contain. Before looking into it, casting has to be done."
   ]
  },
  {
   "cell_type": "code",
   "execution_count": 5,
   "id": "729c6040",
   "metadata": {},
   "outputs": [
    {
     "name": "stdout",
     "output_type": "stream",
     "text": [
      "<class 'pandas.core.frame.DataFrame'>\n",
      "RangeIndex: 9 entries, 0 to 8\n",
      "Data columns (total 1 columns):\n",
      " #   Column                                     Non-Null Count  Dtype \n",
      "---  ------                                     --------------  ----- \n",
      " 0   Hypothesis;Reach;Impact;Confidence;Effort  9 non-null      string\n",
      "dtypes: string(1)\n",
      "memory usage: 200.0 bytes\n"
     ]
    }
   ],
   "source": [
    "hypotheses['Hypothesis;Reach;Impact;Confidence;Effort'] = hypotheses['Hypothesis;Reach;Impact;Confidence;Effort'].astype('string')\n",
    "hypotheses.info()"
   ]
  },
  {
   "cell_type": "code",
   "execution_count": 6,
   "id": "c05ca795",
   "metadata": {},
   "outputs": [
    {
     "data": {
      "text/plain": [
       "['Add two new channels for attracting traffic. This will bring 30% more users;3;10;8;6',\n",
       " 'Launch your own delivery service. This will shorten delivery time;2;5;4;10',\n",
       " \"Add product recommendation blocks to the store's site. This will increase conversion and average purchase size;8;3;7;3\",\n",
       " 'Change the category structure. This will increase conversion since users will find the products they want more quickly;8;3;3;8',\n",
       " 'Change the background color on the main page. This will increase user engagement;3;1;1;1',\n",
       " 'Add a customer review page. This will increase the number of orders;3;2;2;3',\n",
       " 'Show banners with current offers and sales on the main page. This will boost conversion;5;3;8;3',\n",
       " 'Add a subscription form to all the main pages. This will help you compile a mailing list;10;7;8;5',\n",
       " 'Launch a promotion that gives users discounts on their birthdays;1;9;9;5']"
      ]
     },
     "execution_count": 6,
     "metadata": {},
     "output_type": "execute_result"
    }
   ],
   "source": [
    "rows = []\n",
    "for j in range(0,9):\n",
    "    rows.append(hypotheses.iloc[j,0])\n",
    "rows"
   ]
  },
  {
   "cell_type": "markdown",
   "id": "37bb0336",
   "metadata": {},
   "source": [
    "So everything is split by ';' just as the name of the column hints. A new table - <code>hypos</code> - will present the information clearer; The original table will be kept as is."
   ]
  },
  {
   "cell_type": "code",
   "execution_count": 7,
   "id": "265f0db9",
   "metadata": {},
   "outputs": [
    {
     "data": {
      "text/html": [
       "<div>\n",
       "<style scoped>\n",
       "    .dataframe tbody tr th:only-of-type {\n",
       "        vertical-align: middle;\n",
       "    }\n",
       "\n",
       "    .dataframe tbody tr th {\n",
       "        vertical-align: top;\n",
       "    }\n",
       "\n",
       "    .dataframe thead th {\n",
       "        text-align: right;\n",
       "    }\n",
       "</style>\n",
       "<table border=\"1\" class=\"dataframe\">\n",
       "  <thead>\n",
       "    <tr style=\"text-align: right;\">\n",
       "      <th></th>\n",
       "      <th>Hypothesis</th>\n",
       "      <th>Reach</th>\n",
       "      <th>Impact</th>\n",
       "      <th>Confidence</th>\n",
       "      <th>Effort</th>\n",
       "    </tr>\n",
       "  </thead>\n",
       "  <tbody>\n",
       "    <tr>\n",
       "      <th>0</th>\n",
       "      <td>Add two new channels for attracting traffic. T...</td>\n",
       "      <td>3</td>\n",
       "      <td>10</td>\n",
       "      <td>8</td>\n",
       "      <td>6</td>\n",
       "    </tr>\n",
       "    <tr>\n",
       "      <th>1</th>\n",
       "      <td>Launch your own delivery service. This will sh...</td>\n",
       "      <td>2</td>\n",
       "      <td>5</td>\n",
       "      <td>4</td>\n",
       "      <td>10</td>\n",
       "    </tr>\n",
       "    <tr>\n",
       "      <th>2</th>\n",
       "      <td>Add product recommendation blocks to the store...</td>\n",
       "      <td>8</td>\n",
       "      <td>3</td>\n",
       "      <td>7</td>\n",
       "      <td>3</td>\n",
       "    </tr>\n",
       "    <tr>\n",
       "      <th>3</th>\n",
       "      <td>Change the category structure. This will incre...</td>\n",
       "      <td>8</td>\n",
       "      <td>3</td>\n",
       "      <td>3</td>\n",
       "      <td>8</td>\n",
       "    </tr>\n",
       "    <tr>\n",
       "      <th>4</th>\n",
       "      <td>Change the background color on the main page. ...</td>\n",
       "      <td>3</td>\n",
       "      <td>1</td>\n",
       "      <td>1</td>\n",
       "      <td>1</td>\n",
       "    </tr>\n",
       "    <tr>\n",
       "      <th>5</th>\n",
       "      <td>Add a customer review page. This will increase...</td>\n",
       "      <td>3</td>\n",
       "      <td>2</td>\n",
       "      <td>2</td>\n",
       "      <td>3</td>\n",
       "    </tr>\n",
       "    <tr>\n",
       "      <th>6</th>\n",
       "      <td>Show banners with current offers and sales on ...</td>\n",
       "      <td>5</td>\n",
       "      <td>3</td>\n",
       "      <td>8</td>\n",
       "      <td>3</td>\n",
       "    </tr>\n",
       "    <tr>\n",
       "      <th>7</th>\n",
       "      <td>Add a subscription form to all the main pages....</td>\n",
       "      <td>10</td>\n",
       "      <td>7</td>\n",
       "      <td>8</td>\n",
       "      <td>5</td>\n",
       "    </tr>\n",
       "    <tr>\n",
       "      <th>8</th>\n",
       "      <td>Launch a promotion that gives users discounts ...</td>\n",
       "      <td>1</td>\n",
       "      <td>9</td>\n",
       "      <td>9</td>\n",
       "      <td>5</td>\n",
       "    </tr>\n",
       "  </tbody>\n",
       "</table>\n",
       "</div>"
      ],
      "text/plain": [
       "                                          Hypothesis Reach Impact Confidence  \\\n",
       "0  Add two new channels for attracting traffic. T...     3     10          8   \n",
       "1  Launch your own delivery service. This will sh...     2      5          4   \n",
       "2  Add product recommendation blocks to the store...     8      3          7   \n",
       "3  Change the category structure. This will incre...     8      3          3   \n",
       "4  Change the background color on the main page. ...     3      1          1   \n",
       "5  Add a customer review page. This will increase...     3      2          2   \n",
       "6  Show banners with current offers and sales on ...     5      3          8   \n",
       "7  Add a subscription form to all the main pages....    10      7          8   \n",
       "8  Launch a promotion that gives users discounts ...     1      9          9   \n",
       "\n",
       "  Effort  \n",
       "0      6  \n",
       "1     10  \n",
       "2      3  \n",
       "3      8  \n",
       "4      1  \n",
       "5      3  \n",
       "6      3  \n",
       "7      5  \n",
       "8      5  "
      ]
     },
     "execution_count": 7,
     "metadata": {},
     "output_type": "execute_result"
    }
   ],
   "source": [
    "lst = []\n",
    "for j in range(len(rows)):\n",
    "    tmp_row = rows[j].split(';')\n",
    "    lst.append(tmp_row)\n",
    "    \n",
    "cols = hypotheses.columns[0].split(';')\n",
    "hypos = pd.DataFrame(columns=cols, data=lst)\n",
    "hypos"
   ]
  },
  {
   "cell_type": "markdown",
   "id": "005a99ae",
   "metadata": {},
   "source": [
    "Its not gonna be too convenient to work closely with the hypotheses once they're ready to analysis, so an auxiliary table is introduced - <code>hyp_aux</code>, one that displays the full hypotheses's text clearly. In turn the full hypothesis in <code>hypos</code> is replaced by the hypothesis ID."
   ]
  },
  {
   "cell_type": "code",
   "execution_count": 8,
   "id": "281327fd",
   "metadata": {},
   "outputs": [],
   "source": [
    "for j in range(len(hypos)):\n",
    "    hypos.replace(hypos['Hypothesis'][j],'H{j}'.format(j=j),inplace=True)\n",
    "\n",
    "hyp_aux = []\n",
    "for j in range(len(rows)):\n",
    "    h = rows[j].split(';')[0]\n",
    "    h = 'H{j} - '.format(j=j) + h\n",
    "    hyp_aux.append(h)"
   ]
  },
  {
   "cell_type": "code",
   "execution_count": 9,
   "id": "9f468a10",
   "metadata": {},
   "outputs": [
    {
     "name": "stdout",
     "output_type": "stream",
     "text": [
      "<class 'pandas.core.frame.DataFrame'>\n",
      "RangeIndex: 9 entries, 0 to 8\n",
      "Data columns (total 5 columns):\n",
      " #   Column      Non-Null Count  Dtype \n",
      "---  ------      --------------  ----- \n",
      " 0   Hypothesis  9 non-null      object\n",
      " 1   Reach       9 non-null      object\n",
      " 2   Impact      9 non-null      object\n",
      " 3   Confidence  9 non-null      object\n",
      " 4   Effort      9 non-null      object\n",
      "dtypes: object(5)\n",
      "memory usage: 488.0+ bytes\n"
     ]
    }
   ],
   "source": [
    "hypos.info()"
   ]
  },
  {
   "cell_type": "code",
   "execution_count": 10,
   "id": "13c1ca12",
   "metadata": {},
   "outputs": [
    {
     "name": "stdout",
     "output_type": "stream",
     "text": [
      "<class 'pandas.core.frame.DataFrame'>\n",
      "RangeIndex: 9 entries, 0 to 8\n",
      "Data columns (total 5 columns):\n",
      " #   Column      Non-Null Count  Dtype \n",
      "---  ------      --------------  ----- \n",
      " 0   Hypothesis  9 non-null      string\n",
      " 1   Reach       9 non-null      int64 \n",
      " 2   Impact      9 non-null      int64 \n",
      " 3   Confidence  9 non-null      int64 \n",
      " 4   Effort      9 non-null      int64 \n",
      "dtypes: int64(4), string(1)\n",
      "memory usage: 488.0 bytes\n"
     ]
    }
   ],
   "source": [
    "hypos = hypos.astype({'Hypothesis' : 'string','Reach' : 'int64','Impact' : 'int64','Confidence' : 'int64','Effort' : 'int64'})\n",
    "hypos.info()"
   ]
  },
  {
   "cell_type": "markdown",
   "id": "2269d3eb",
   "metadata": {},
   "source": [
    "So whats left is the <code>hypos</code> table storing RICE and \"hypothesis ID\", and <code>hyp_aux</code> with the full hypothesis and matching ID's (a list of strings)"
   ]
  },
  {
   "cell_type": "code",
   "execution_count": 11,
   "id": "cbd21632",
   "metadata": {},
   "outputs": [
    {
     "data": {
      "text/html": [
       "<div>\n",
       "<style scoped>\n",
       "    .dataframe tbody tr th:only-of-type {\n",
       "        vertical-align: middle;\n",
       "    }\n",
       "\n",
       "    .dataframe tbody tr th {\n",
       "        vertical-align: top;\n",
       "    }\n",
       "\n",
       "    .dataframe thead th {\n",
       "        text-align: right;\n",
       "    }\n",
       "</style>\n",
       "<table border=\"1\" class=\"dataframe\">\n",
       "  <thead>\n",
       "    <tr style=\"text-align: right;\">\n",
       "      <th></th>\n",
       "      <th>Hypothesis</th>\n",
       "      <th>Reach</th>\n",
       "      <th>Impact</th>\n",
       "      <th>Confidence</th>\n",
       "      <th>Effort</th>\n",
       "    </tr>\n",
       "  </thead>\n",
       "  <tbody>\n",
       "    <tr>\n",
       "      <th>0</th>\n",
       "      <td>H0</td>\n",
       "      <td>3</td>\n",
       "      <td>10</td>\n",
       "      <td>8</td>\n",
       "      <td>6</td>\n",
       "    </tr>\n",
       "    <tr>\n",
       "      <th>1</th>\n",
       "      <td>H1</td>\n",
       "      <td>2</td>\n",
       "      <td>5</td>\n",
       "      <td>4</td>\n",
       "      <td>10</td>\n",
       "    </tr>\n",
       "    <tr>\n",
       "      <th>2</th>\n",
       "      <td>H2</td>\n",
       "      <td>8</td>\n",
       "      <td>3</td>\n",
       "      <td>7</td>\n",
       "      <td>3</td>\n",
       "    </tr>\n",
       "    <tr>\n",
       "      <th>3</th>\n",
       "      <td>H3</td>\n",
       "      <td>8</td>\n",
       "      <td>3</td>\n",
       "      <td>3</td>\n",
       "      <td>8</td>\n",
       "    </tr>\n",
       "    <tr>\n",
       "      <th>4</th>\n",
       "      <td>H4</td>\n",
       "      <td>3</td>\n",
       "      <td>1</td>\n",
       "      <td>1</td>\n",
       "      <td>1</td>\n",
       "    </tr>\n",
       "    <tr>\n",
       "      <th>5</th>\n",
       "      <td>H5</td>\n",
       "      <td>3</td>\n",
       "      <td>2</td>\n",
       "      <td>2</td>\n",
       "      <td>3</td>\n",
       "    </tr>\n",
       "    <tr>\n",
       "      <th>6</th>\n",
       "      <td>H6</td>\n",
       "      <td>5</td>\n",
       "      <td>3</td>\n",
       "      <td>8</td>\n",
       "      <td>3</td>\n",
       "    </tr>\n",
       "    <tr>\n",
       "      <th>7</th>\n",
       "      <td>H7</td>\n",
       "      <td>10</td>\n",
       "      <td>7</td>\n",
       "      <td>8</td>\n",
       "      <td>5</td>\n",
       "    </tr>\n",
       "    <tr>\n",
       "      <th>8</th>\n",
       "      <td>H8</td>\n",
       "      <td>1</td>\n",
       "      <td>9</td>\n",
       "      <td>9</td>\n",
       "      <td>5</td>\n",
       "    </tr>\n",
       "  </tbody>\n",
       "</table>\n",
       "</div>"
      ],
      "text/plain": [
       "  Hypothesis  Reach  Impact  Confidence  Effort\n",
       "0         H0      3      10           8       6\n",
       "1         H1      2       5           4      10\n",
       "2         H2      8       3           7       3\n",
       "3         H3      8       3           3       8\n",
       "4         H4      3       1           1       1\n",
       "5         H5      3       2           2       3\n",
       "6         H6      5       3           8       3\n",
       "7         H7     10       7           8       5\n",
       "8         H8      1       9           9       5"
      ]
     },
     "execution_count": 11,
     "metadata": {},
     "output_type": "execute_result"
    }
   ],
   "source": [
    "hypos"
   ]
  },
  {
   "cell_type": "code",
   "execution_count": 12,
   "id": "4ad05718",
   "metadata": {},
   "outputs": [
    {
     "data": {
      "text/plain": [
       "['H0 - Add two new channels for attracting traffic. This will bring 30% more users',\n",
       " 'H1 - Launch your own delivery service. This will shorten delivery time',\n",
       " \"H2 - Add product recommendation blocks to the store's site. This will increase conversion and average purchase size\",\n",
       " 'H3 - Change the category structure. This will increase conversion since users will find the products they want more quickly',\n",
       " 'H4 - Change the background color on the main page. This will increase user engagement',\n",
       " 'H5 - Add a customer review page. This will increase the number of orders',\n",
       " 'H6 - Show banners with current offers and sales on the main page. This will boost conversion',\n",
       " 'H7 - Add a subscription form to all the main pages. This will help you compile a mailing list',\n",
       " 'H8 - Launch a promotion that gives users discounts on their birthdays']"
      ]
     },
     "execution_count": 12,
     "metadata": {},
     "output_type": "execute_result"
    }
   ],
   "source": [
    "hyp_aux"
   ]
  },
  {
   "cell_type": "markdown",
   "id": "44d66b05",
   "metadata": {},
   "source": [
    "## `orders`"
   ]
  },
  {
   "cell_type": "code",
   "execution_count": 13,
   "id": "57af6721",
   "metadata": {},
   "outputs": [
    {
     "name": "stdout",
     "output_type": "stream",
     "text": [
      "<class 'pandas.core.frame.DataFrame'>\n",
      "RangeIndex: 1197 entries, 0 to 1196\n",
      "Data columns (total 5 columns):\n",
      " #   Column         Non-Null Count  Dtype  \n",
      "---  ------         --------------  -----  \n",
      " 0   transactionId  1197 non-null   int64  \n",
      " 1   visitorId      1197 non-null   int64  \n",
      " 2   date           1197 non-null   object \n",
      " 3   revenue        1197 non-null   float64\n",
      " 4   group          1197 non-null   object \n",
      "dtypes: float64(1), int64(2), object(2)\n",
      "memory usage: 46.9+ KB\n"
     ]
    }
   ],
   "source": [
    "orders.info()"
   ]
  },
  {
   "cell_type": "code",
   "execution_count": 14,
   "id": "1029cdcb",
   "metadata": {},
   "outputs": [
    {
     "data": {
      "text/html": [
       "<div>\n",
       "<style scoped>\n",
       "    .dataframe tbody tr th:only-of-type {\n",
       "        vertical-align: middle;\n",
       "    }\n",
       "\n",
       "    .dataframe tbody tr th {\n",
       "        vertical-align: top;\n",
       "    }\n",
       "\n",
       "    .dataframe thead th {\n",
       "        text-align: right;\n",
       "    }\n",
       "</style>\n",
       "<table border=\"1\" class=\"dataframe\">\n",
       "  <thead>\n",
       "    <tr style=\"text-align: right;\">\n",
       "      <th></th>\n",
       "      <th>transactionId</th>\n",
       "      <th>visitorId</th>\n",
       "      <th>date</th>\n",
       "      <th>revenue</th>\n",
       "      <th>group</th>\n",
       "    </tr>\n",
       "  </thead>\n",
       "  <tbody>\n",
       "    <tr>\n",
       "      <th>0</th>\n",
       "      <td>3667963787</td>\n",
       "      <td>3312258926</td>\n",
       "      <td>2019-08-15</td>\n",
       "      <td>30.4</td>\n",
       "      <td>B</td>\n",
       "    </tr>\n",
       "    <tr>\n",
       "      <th>1</th>\n",
       "      <td>2804400009</td>\n",
       "      <td>3642806036</td>\n",
       "      <td>2019-08-15</td>\n",
       "      <td>15.2</td>\n",
       "      <td>B</td>\n",
       "    </tr>\n",
       "    <tr>\n",
       "      <th>2</th>\n",
       "      <td>2961555356</td>\n",
       "      <td>4069496402</td>\n",
       "      <td>2019-08-15</td>\n",
       "      <td>10.2</td>\n",
       "      <td>A</td>\n",
       "    </tr>\n",
       "    <tr>\n",
       "      <th>3</th>\n",
       "      <td>3797467345</td>\n",
       "      <td>1196621759</td>\n",
       "      <td>2019-08-15</td>\n",
       "      <td>155.1</td>\n",
       "      <td>B</td>\n",
       "    </tr>\n",
       "    <tr>\n",
       "      <th>4</th>\n",
       "      <td>2282983706</td>\n",
       "      <td>2322279887</td>\n",
       "      <td>2019-08-15</td>\n",
       "      <td>40.5</td>\n",
       "      <td>B</td>\n",
       "    </tr>\n",
       "  </tbody>\n",
       "</table>\n",
       "</div>"
      ],
      "text/plain": [
       "   transactionId   visitorId        date  revenue group\n",
       "0     3667963787  3312258926  2019-08-15     30.4     B\n",
       "1     2804400009  3642806036  2019-08-15     15.2     B\n",
       "2     2961555356  4069496402  2019-08-15     10.2     A\n",
       "3     3797467345  1196621759  2019-08-15    155.1     B\n",
       "4     2282983706  2322279887  2019-08-15     40.5     B"
      ]
     },
     "execution_count": 14,
     "metadata": {},
     "output_type": "execute_result"
    }
   ],
   "source": [
    "orders.head()"
   ]
  },
  {
   "cell_type": "markdown",
   "id": "76680429",
   "metadata": {},
   "source": [
    "Some casting needs to be done"
   ]
  },
  {
   "cell_type": "code",
   "execution_count": 15,
   "id": "453bde07",
   "metadata": {},
   "outputs": [
    {
     "name": "stdout",
     "output_type": "stream",
     "text": [
      "<class 'pandas.core.frame.DataFrame'>\n",
      "RangeIndex: 1197 entries, 0 to 1196\n",
      "Data columns (total 5 columns):\n",
      " #   Column         Non-Null Count  Dtype         \n",
      "---  ------         --------------  -----         \n",
      " 0   transactionId  1197 non-null   int64         \n",
      " 1   visitorId      1197 non-null   int64         \n",
      " 2   date           1197 non-null   datetime64[ns]\n",
      " 3   revenue        1197 non-null   float64       \n",
      " 4   group          1197 non-null   string        \n",
      "dtypes: datetime64[ns](1), float64(1), int64(2), string(1)\n",
      "memory usage: 46.9 KB\n"
     ]
    }
   ],
   "source": [
    "orders = orders.astype({'date': 'datetime64[ns]','group': 'string'})\n",
    "orders.info()"
   ]
  },
  {
   "cell_type": "markdown",
   "id": "0f3faa44",
   "metadata": {},
   "source": [
    "### Pre-Processing"
   ]
  },
  {
   "cell_type": "code",
   "execution_count": 16,
   "id": "54393f3d",
   "metadata": {},
   "outputs": [
    {
     "name": "stdout",
     "output_type": "stream",
     "text": [
      "Number of duplicated - 0\n",
      "Num of suspicious orders (pre-processing-wise) - 0\n",
      "All orders between 2019-08-01 00:00:00 to 2019-08-31 00:00:00\n",
      "Num of faulty payment ID's - 0\n",
      "Num of faulty user ID's - 0\n",
      "Unique payments - 1197\n",
      "Unique visitors - 1031\n"
     ]
    }
   ],
   "source": [
    "print(f'Number of duplicated - {orders.duplicated().sum()}')\n",
    "tmp = len(orders[orders['revenue'] <= 1])\n",
    "print(f'Num of suspicious orders (pre-processing-wise) - {tmp}')\n",
    "print(f'All orders between {orders.date.min()} to {orders.date.max()}')\n",
    "tmp = len(orders[orders['transactionId'] == 0])\n",
    "print(f\"Num of faulty payment ID's - {tmp}\")\n",
    "tmp = len(orders[orders['visitorId'] == 0])\n",
    "print(f\"Num of faulty user ID's - {tmp}\")\n",
    "print('Unique payments -',orders['transactionId'].nunique())\n",
    "print('Unique visitors -',orders['visitorId'].nunique())"
   ]
  },
  {
   "cell_type": "markdown",
   "id": "604cb0ed",
   "metadata": {},
   "source": [
    "Each visitor is responsible for at least one transaction. In addition, some users bought more than once."
   ]
  },
  {
   "cell_type": "markdown",
   "id": "2201a65e",
   "metadata": {},
   "source": [
    "<div>As mentioned, the A/B group selection might contain errors, specifically - some of the visitors might have gotten into both group A and group B. Those users are to be find, preferably deleted; However, if there are too many of them it'll be too problematic and the test would probably better start all over again from the A/A stage.</div>"
   ]
  },
  {
   "cell_type": "code",
   "execution_count": 17,
   "id": "9cbbd1d5",
   "metadata": {
    "scrolled": true
   },
   "outputs": [
    {
     "data": {
      "text/plain": [
       "58"
      ]
     },
     "execution_count": 17,
     "metadata": {},
     "output_type": "execute_result"
    }
   ],
   "source": [
    "orda = orders[orders['group'] == 'A']\n",
    "ordb = orders[orders['group'] == 'B']\n",
    "ordab = orda.merge(ordb, on='visitorId',how='inner')\n",
    "AB_users = orda.merge(ordb,on='visitorId')['visitorId'].unique()\n",
    "len(AB_users)"
   ]
  },
  {
   "cell_type": "code",
   "execution_count": 18,
   "id": "3036b2d2",
   "metadata": {},
   "outputs": [
    {
     "data": {
      "text/plain": [
       "181"
      ]
     },
     "execution_count": 18,
     "metadata": {},
     "output_type": "execute_result"
    }
   ],
   "source": [
    "len(orders[orders['visitorId'].isin(AB_users)])"
   ]
  },
  {
   "cell_type": "markdown",
   "id": "e1174830",
   "metadata": {},
   "source": [
    "The problematic data makes 15% of total transactions and 5% of distinct users. An abnormal AB user made about 181/58 = 3 purchases, compared with the normal user (A user who's exclusively belongs to either A or B) who made just (1031-58)/(1197-181)=0.96=1 order in average. Maybe because those users were so active it confused who set up the test. Or all users had their group change, but only those 58 abnormal users were able to buy something before the mix.\n",
    "Either way, the proportion is low enough so that its possible to delete those abnormal-users records and continue with the A/B test."
   ]
  },
  {
   "cell_type": "code",
   "execution_count": 19,
   "id": "15161995",
   "metadata": {},
   "outputs": [
    {
     "data": {
      "text/plain": [
       "B    548\n",
       "A    468\n",
       "Name: group, dtype: Int64"
      ]
     },
     "execution_count": 19,
     "metadata": {},
     "output_type": "execute_result"
    }
   ],
   "source": [
    "orders = orders[~orders['visitorId'].isin(AB_users)]\n",
    "orders.group.value_counts()"
   ]
  },
  {
   "cell_type": "markdown",
   "id": "832de53c",
   "metadata": {},
   "source": [
    "<p>The groups are'nt equal, by about 20%. However, seems like its OK (Tutor comment in slack - <b>\"This should not affect the conversion rate) As for the average check, the difference should not be that big to really influence the test, you can use sampling technique or not, it's not a big deal in this specific case\".</b> I myself don't have any idea actually..</p> "
   ]
  },
  {
   "cell_type": "markdown",
   "id": "11e146dd",
   "metadata": {},
   "source": [
    "`orders` is cleared for analysis. <code>orda</code> and <code>ordb</code> are introduced for ease of analysis later"
   ]
  },
  {
   "cell_type": "code",
   "execution_count": 20,
   "id": "64ba0f68",
   "metadata": {},
   "outputs": [],
   "source": [
    "orda = orders[orders['group'] == 'A']\n",
    "ordb = orders[orders['group'] == 'B']"
   ]
  },
  {
   "cell_type": "markdown",
   "id": "0519499b",
   "metadata": {},
   "source": [
    "## `visits`"
   ]
  },
  {
   "cell_type": "code",
   "execution_count": 21,
   "id": "9dc8b87c",
   "metadata": {},
   "outputs": [
    {
     "data": {
      "text/html": [
       "<div>\n",
       "<style scoped>\n",
       "    .dataframe tbody tr th:only-of-type {\n",
       "        vertical-align: middle;\n",
       "    }\n",
       "\n",
       "    .dataframe tbody tr th {\n",
       "        vertical-align: top;\n",
       "    }\n",
       "\n",
       "    .dataframe thead th {\n",
       "        text-align: right;\n",
       "    }\n",
       "</style>\n",
       "<table border=\"1\" class=\"dataframe\">\n",
       "  <thead>\n",
       "    <tr style=\"text-align: right;\">\n",
       "      <th></th>\n",
       "      <th>date</th>\n",
       "      <th>group</th>\n",
       "      <th>visits</th>\n",
       "    </tr>\n",
       "  </thead>\n",
       "  <tbody>\n",
       "    <tr>\n",
       "      <th>0</th>\n",
       "      <td>2019-08-01</td>\n",
       "      <td>A</td>\n",
       "      <td>719</td>\n",
       "    </tr>\n",
       "    <tr>\n",
       "      <th>1</th>\n",
       "      <td>2019-08-02</td>\n",
       "      <td>A</td>\n",
       "      <td>619</td>\n",
       "    </tr>\n",
       "    <tr>\n",
       "      <th>2</th>\n",
       "      <td>2019-08-03</td>\n",
       "      <td>A</td>\n",
       "      <td>507</td>\n",
       "    </tr>\n",
       "    <tr>\n",
       "      <th>3</th>\n",
       "      <td>2019-08-04</td>\n",
       "      <td>A</td>\n",
       "      <td>717</td>\n",
       "    </tr>\n",
       "    <tr>\n",
       "      <th>4</th>\n",
       "      <td>2019-08-05</td>\n",
       "      <td>A</td>\n",
       "      <td>756</td>\n",
       "    </tr>\n",
       "  </tbody>\n",
       "</table>\n",
       "</div>"
      ],
      "text/plain": [
       "         date group  visits\n",
       "0  2019-08-01     A     719\n",
       "1  2019-08-02     A     619\n",
       "2  2019-08-03     A     507\n",
       "3  2019-08-04     A     717\n",
       "4  2019-08-05     A     756"
      ]
     },
     "execution_count": 21,
     "metadata": {},
     "output_type": "execute_result"
    }
   ],
   "source": [
    "visits.head()"
   ]
  },
  {
   "cell_type": "code",
   "execution_count": 22,
   "id": "2a7fcb88",
   "metadata": {},
   "outputs": [
    {
     "name": "stdout",
     "output_type": "stream",
     "text": [
      "<class 'pandas.core.frame.DataFrame'>\n",
      "RangeIndex: 62 entries, 0 to 61\n",
      "Data columns (total 3 columns):\n",
      " #   Column  Non-Null Count  Dtype \n",
      "---  ------  --------------  ----- \n",
      " 0   date    62 non-null     object\n",
      " 1   group   62 non-null     object\n",
      " 2   visits  62 non-null     int64 \n",
      "dtypes: int64(1), object(2)\n",
      "memory usage: 1.6+ KB\n"
     ]
    }
   ],
   "source": [
    "visits.info()"
   ]
  },
  {
   "cell_type": "code",
   "execution_count": 23,
   "id": "e8c3586f",
   "metadata": {},
   "outputs": [
    {
     "name": "stdout",
     "output_type": "stream",
     "text": [
      "<class 'pandas.core.frame.DataFrame'>\n",
      "RangeIndex: 62 entries, 0 to 61\n",
      "Data columns (total 3 columns):\n",
      " #   Column  Non-Null Count  Dtype         \n",
      "---  ------  --------------  -----         \n",
      " 0   date    62 non-null     datetime64[ns]\n",
      " 1   group   62 non-null     string        \n",
      " 2   visits  62 non-null     int64         \n",
      "dtypes: datetime64[ns](1), int64(1), string(1)\n",
      "memory usage: 1.6 KB\n"
     ]
    }
   ],
   "source": [
    "visits = visits.astype({'date': 'datetime64[ns]', 'group': 'string'})\n",
    "visits.info()"
   ]
  },
  {
   "cell_type": "markdown",
   "id": "b943e6a3",
   "metadata": {},
   "source": [
    "### Pre-Processing"
   ]
  },
  {
   "cell_type": "code",
   "execution_count": 24,
   "id": "799ae669",
   "metadata": {},
   "outputs": [
    {
     "name": "stdout",
     "output_type": "stream",
     "text": [
      "Number of duplicated - 0\n",
      "Num of suspicious visits (pre-processing-wise) - 0\n",
      "All visits between 2019-08-01 00:00:00 to 2019-08-31 00:00:00\n"
     ]
    },
    {
     "data": {
      "text/plain": [
       "B    31\n",
       "A    31\n",
       "Name: group, dtype: Int64"
      ]
     },
     "execution_count": 24,
     "metadata": {},
     "output_type": "execute_result"
    }
   ],
   "source": [
    "print(f'Number of duplicated - {visits.duplicated().sum()}')\n",
    "tmp = len(visits[visits['visits'] <= 1])\n",
    "print(f'Num of suspicious visits (pre-processing-wise) - {tmp}')\n",
    "print(f'All visits between {visits.date.min()} to {visits.date.max()}')\n",
    "visits.group.value_counts()"
   ]
  },
  {
   "cell_type": "code",
   "execution_count": 25,
   "id": "711afff5",
   "metadata": {},
   "outputs": [
    {
     "name": "stdout",
     "output_type": "stream",
     "text": [
      "31\n",
      "31\n"
     ]
    }
   ],
   "source": [
    "print(len(visits[visits['group'] == 'A']['date'].value_counts()))\n",
    "print(len(visits[visits['group'] == 'B']['date'].value_counts()))"
   ]
  },
  {
   "cell_type": "markdown",
   "id": "1d7d3a46",
   "metadata": {},
   "source": [
    "Now its witnessed that for each group there are 31 rows, one row for each day in August. Visits is cleared. <code>visa</code> and <code>visb</code> are introduced for ease of analysis later:"
   ]
  },
  {
   "cell_type": "code",
   "execution_count": 26,
   "id": "43ff2e69",
   "metadata": {},
   "outputs": [],
   "source": [
    "visa = visits[visits['group'] == 'A']\n",
    "visb = visits[visits['group'] == 'B']"
   ]
  },
  {
   "cell_type": "markdown",
   "id": "6f3b74e3",
   "metadata": {},
   "source": [
    "## Pre-Processing summation"
   ]
  },
  {
   "cell_type": "markdown",
   "id": "bc669e34",
   "metadata": {},
   "source": [
    "- <b>Users with records in both A and B groups were deleted. The data left is good enough for the test to continue</b>\n",
    "- <b>Auxiliary tables were introduced for ease of analysis - <code>orda</code>, <code>ordb</code>, <code>visa</code> and <code>visb</code></b>\n",
    "- <b>Turns out all <code>orders</code> and <code>visits</code> information is of August 2019</b>"
   ]
  },
  {
   "cell_type": "markdown",
   "id": "549df8fa",
   "metadata": {},
   "source": [
    "# Prioritizing Hypotheses"
   ]
  },
  {
   "cell_type": "code",
   "execution_count": 27,
   "id": "42830ed6",
   "metadata": {},
   "outputs": [
    {
     "data": {
      "text/html": [
       "<div>\n",
       "<style scoped>\n",
       "    .dataframe tbody tr th:only-of-type {\n",
       "        vertical-align: middle;\n",
       "    }\n",
       "\n",
       "    .dataframe tbody tr th {\n",
       "        vertical-align: top;\n",
       "    }\n",
       "\n",
       "    .dataframe thead th {\n",
       "        text-align: right;\n",
       "    }\n",
       "</style>\n",
       "<table border=\"1\" class=\"dataframe\">\n",
       "  <thead>\n",
       "    <tr style=\"text-align: right;\">\n",
       "      <th></th>\n",
       "      <th>Hypothesis</th>\n",
       "      <th>Reach</th>\n",
       "      <th>Impact</th>\n",
       "      <th>Confidence</th>\n",
       "      <th>Effort</th>\n",
       "      <th>ICE</th>\n",
       "    </tr>\n",
       "  </thead>\n",
       "  <tbody>\n",
       "    <tr>\n",
       "      <th>8</th>\n",
       "      <td>H8</td>\n",
       "      <td>1</td>\n",
       "      <td>9</td>\n",
       "      <td>9</td>\n",
       "      <td>5</td>\n",
       "      <td>16.200000</td>\n",
       "    </tr>\n",
       "    <tr>\n",
       "      <th>0</th>\n",
       "      <td>H0</td>\n",
       "      <td>3</td>\n",
       "      <td>10</td>\n",
       "      <td>8</td>\n",
       "      <td>6</td>\n",
       "      <td>13.333333</td>\n",
       "    </tr>\n",
       "    <tr>\n",
       "      <th>7</th>\n",
       "      <td>H7</td>\n",
       "      <td>10</td>\n",
       "      <td>7</td>\n",
       "      <td>8</td>\n",
       "      <td>5</td>\n",
       "      <td>11.200000</td>\n",
       "    </tr>\n",
       "    <tr>\n",
       "      <th>6</th>\n",
       "      <td>H6</td>\n",
       "      <td>5</td>\n",
       "      <td>3</td>\n",
       "      <td>8</td>\n",
       "      <td>3</td>\n",
       "      <td>8.000000</td>\n",
       "    </tr>\n",
       "    <tr>\n",
       "      <th>2</th>\n",
       "      <td>H2</td>\n",
       "      <td>8</td>\n",
       "      <td>3</td>\n",
       "      <td>7</td>\n",
       "      <td>3</td>\n",
       "      <td>7.000000</td>\n",
       "    </tr>\n",
       "    <tr>\n",
       "      <th>1</th>\n",
       "      <td>H1</td>\n",
       "      <td>2</td>\n",
       "      <td>5</td>\n",
       "      <td>4</td>\n",
       "      <td>10</td>\n",
       "      <td>2.000000</td>\n",
       "    </tr>\n",
       "    <tr>\n",
       "      <th>5</th>\n",
       "      <td>H5</td>\n",
       "      <td>3</td>\n",
       "      <td>2</td>\n",
       "      <td>2</td>\n",
       "      <td>3</td>\n",
       "      <td>1.333333</td>\n",
       "    </tr>\n",
       "    <tr>\n",
       "      <th>3</th>\n",
       "      <td>H3</td>\n",
       "      <td>8</td>\n",
       "      <td>3</td>\n",
       "      <td>3</td>\n",
       "      <td>8</td>\n",
       "      <td>1.125000</td>\n",
       "    </tr>\n",
       "    <tr>\n",
       "      <th>4</th>\n",
       "      <td>H4</td>\n",
       "      <td>3</td>\n",
       "      <td>1</td>\n",
       "      <td>1</td>\n",
       "      <td>1</td>\n",
       "      <td>1.000000</td>\n",
       "    </tr>\n",
       "  </tbody>\n",
       "</table>\n",
       "</div>"
      ],
      "text/plain": [
       "  Hypothesis  Reach  Impact  Confidence  Effort        ICE\n",
       "8         H8      1       9           9       5  16.200000\n",
       "0         H0      3      10           8       6  13.333333\n",
       "7         H7     10       7           8       5  11.200000\n",
       "6         H6      5       3           8       3   8.000000\n",
       "2         H2      8       3           7       3   7.000000\n",
       "1         H1      2       5           4      10   2.000000\n",
       "5         H5      3       2           2       3   1.333333\n",
       "3         H3      8       3           3       8   1.125000\n",
       "4         H4      3       1           1       1   1.000000"
      ]
     },
     "execution_count": 27,
     "metadata": {},
     "output_type": "execute_result"
    }
   ],
   "source": [
    "hypos['ICE'] = (hypos['Impact'] * hypos['Confidence'] / hypos['Effort'])\n",
    "hypos.sort_values('ICE',ascending=False,inplace=True)\n",
    "hypos"
   ]
  },
  {
   "cell_type": "code",
   "execution_count": 28,
   "id": "44af0bf6",
   "metadata": {},
   "outputs": [
    {
     "data": {
      "text/html": [
       "<div>\n",
       "<style scoped>\n",
       "    .dataframe tbody tr th:only-of-type {\n",
       "        vertical-align: middle;\n",
       "    }\n",
       "\n",
       "    .dataframe tbody tr th {\n",
       "        vertical-align: top;\n",
       "    }\n",
       "\n",
       "    .dataframe thead th {\n",
       "        text-align: right;\n",
       "    }\n",
       "</style>\n",
       "<table border=\"1\" class=\"dataframe\">\n",
       "  <thead>\n",
       "    <tr style=\"text-align: right;\">\n",
       "      <th></th>\n",
       "      <th>Hypothesis</th>\n",
       "      <th>Reach</th>\n",
       "      <th>Impact</th>\n",
       "      <th>Confidence</th>\n",
       "      <th>Effort</th>\n",
       "      <th>ICE</th>\n",
       "      <th>RICE</th>\n",
       "    </tr>\n",
       "  </thead>\n",
       "  <tbody>\n",
       "    <tr>\n",
       "      <th>7</th>\n",
       "      <td>H7</td>\n",
       "      <td>10</td>\n",
       "      <td>7</td>\n",
       "      <td>8</td>\n",
       "      <td>5</td>\n",
       "      <td>11.200000</td>\n",
       "      <td>112.0</td>\n",
       "    </tr>\n",
       "    <tr>\n",
       "      <th>2</th>\n",
       "      <td>H2</td>\n",
       "      <td>8</td>\n",
       "      <td>3</td>\n",
       "      <td>7</td>\n",
       "      <td>3</td>\n",
       "      <td>7.000000</td>\n",
       "      <td>56.0</td>\n",
       "    </tr>\n",
       "    <tr>\n",
       "      <th>0</th>\n",
       "      <td>H0</td>\n",
       "      <td>3</td>\n",
       "      <td>10</td>\n",
       "      <td>8</td>\n",
       "      <td>6</td>\n",
       "      <td>13.333333</td>\n",
       "      <td>40.0</td>\n",
       "    </tr>\n",
       "    <tr>\n",
       "      <th>6</th>\n",
       "      <td>H6</td>\n",
       "      <td>5</td>\n",
       "      <td>3</td>\n",
       "      <td>8</td>\n",
       "      <td>3</td>\n",
       "      <td>8.000000</td>\n",
       "      <td>40.0</td>\n",
       "    </tr>\n",
       "    <tr>\n",
       "      <th>8</th>\n",
       "      <td>H8</td>\n",
       "      <td>1</td>\n",
       "      <td>9</td>\n",
       "      <td>9</td>\n",
       "      <td>5</td>\n",
       "      <td>16.200000</td>\n",
       "      <td>16.2</td>\n",
       "    </tr>\n",
       "    <tr>\n",
       "      <th>3</th>\n",
       "      <td>H3</td>\n",
       "      <td>8</td>\n",
       "      <td>3</td>\n",
       "      <td>3</td>\n",
       "      <td>8</td>\n",
       "      <td>1.125000</td>\n",
       "      <td>9.0</td>\n",
       "    </tr>\n",
       "    <tr>\n",
       "      <th>1</th>\n",
       "      <td>H1</td>\n",
       "      <td>2</td>\n",
       "      <td>5</td>\n",
       "      <td>4</td>\n",
       "      <td>10</td>\n",
       "      <td>2.000000</td>\n",
       "      <td>4.0</td>\n",
       "    </tr>\n",
       "    <tr>\n",
       "      <th>5</th>\n",
       "      <td>H5</td>\n",
       "      <td>3</td>\n",
       "      <td>2</td>\n",
       "      <td>2</td>\n",
       "      <td>3</td>\n",
       "      <td>1.333333</td>\n",
       "      <td>4.0</td>\n",
       "    </tr>\n",
       "    <tr>\n",
       "      <th>4</th>\n",
       "      <td>H4</td>\n",
       "      <td>3</td>\n",
       "      <td>1</td>\n",
       "      <td>1</td>\n",
       "      <td>1</td>\n",
       "      <td>1.000000</td>\n",
       "      <td>3.0</td>\n",
       "    </tr>\n",
       "  </tbody>\n",
       "</table>\n",
       "</div>"
      ],
      "text/plain": [
       "  Hypothesis  Reach  Impact  Confidence  Effort        ICE   RICE\n",
       "7         H7     10       7           8       5  11.200000  112.0\n",
       "2         H2      8       3           7       3   7.000000   56.0\n",
       "0         H0      3      10           8       6  13.333333   40.0\n",
       "6         H6      5       3           8       3   8.000000   40.0\n",
       "8         H8      1       9           9       5  16.200000   16.2\n",
       "3         H3      8       3           3       8   1.125000    9.0\n",
       "1         H1      2       5           4      10   2.000000    4.0\n",
       "5         H5      3       2           2       3   1.333333    4.0\n",
       "4         H4      3       1           1       1   1.000000    3.0"
      ]
     },
     "execution_count": 28,
     "metadata": {},
     "output_type": "execute_result"
    }
   ],
   "source": [
    "hypos['RICE'] = hypos['Reach'] * hypos['Impact'] * hypos['Confidence'] / hypos['Effort']\n",
    "hypos.sort_values('RICE',ascending=False,inplace=True)\n",
    "hypos"
   ]
  },
  {
   "cell_type": "markdown",
   "id": "a80a9910",
   "metadata": {},
   "source": [
    "As witnessed, choosing RICE over ICE (or the other way round) changes prioritization of hypotheses: H8 and H0 top the ICE table, but with a pretty low reach they plunge, overall a third of the RICE of H7, the winner. H7's ICE was 1.5 times less than that of ICE table 1st place - H8, but with 10 times bigger REACH it surpassed it by 10/1.5=6.6 ~= 112/16.2 times. As H7 is so far in front, there's no doubt that's the task adviced to do next."
   ]
  },
  {
   "cell_type": "code",
   "execution_count": 29,
   "id": "add2c936",
   "metadata": {},
   "outputs": [
    {
     "data": {
      "text/plain": [
       "'H7 - Add a subscription form to all the main pages. This will help you compile a mailing list'"
      ]
     },
     "execution_count": 29,
     "metadata": {},
     "output_type": "execute_result"
    }
   ],
   "source": [
    "hyp_aux[7]"
   ]
  },
  {
   "cell_type": "markdown",
   "id": "a293f5ce",
   "metadata": {},
   "source": [
    "Make sense. Predictable total-reach task, with high impact."
   ]
  },
  {
   "cell_type": "markdown",
   "id": "bf842126",
   "metadata": {},
   "source": [
    "# A/B Test Analysis"
   ]
  },
  {
   "cell_type": "markdown",
   "id": "3069fdd6",
   "metadata": {},
   "source": [
    "- **Graph cumulative revenue by group. Make conclusions and conjectures**"
   ]
  },
  {
   "cell_type": "code",
   "execution_count": 30,
   "id": "79dcb7bd",
   "metadata": {},
   "outputs": [
    {
     "data": {
      "image/png": "[encoded data removed]",
      "text/plain": [
       "<Figure size 1080x432 with 1 Axes>"
      ]
     },
     "metadata": {
      "needs_background": "light"
     },
     "output_type": "display_data"
    }
   ],
   "source": [
    "orda_grouped_cumrev = orda.groupby('date')['revenue'].sum().cumsum().reset_index()\n",
    "orda_grouped_cumrev.columns = ['date','cumrev']\n",
    "ordb_grouped_cumrev = ordb.groupby('date')['revenue'].sum().cumsum().reset_index()\n",
    "ordb_grouped_cumrev.columns = ['date','cumrev']\n",
    "\n",
    "plt.rcParams[\"figure.figsize\"] = (15,6)\n",
    "plt.plot(orda_grouped_cumrev['date'], orda_grouped_cumrev['cumrev'], label='A')\n",
    "plt.plot(ordb_grouped_cumrev['date'], ordb_grouped_cumrev['cumrev'], label='B')\n",
    "plt.legend()\n",
    "plt.title('cumulative revenue by group')\n",
    "plt.xlabel('date')\n",
    "plt.ylabel('cumulative revenue')\n",
    "plt.xticks(rotation=45)\n",
    "plt.show()"
   ]
  },
  {
   "cell_type": "markdown",
   "id": "9d02e1fc",
   "metadata": {},
   "source": [
    "Both groups are about the same for the first 2 weeks, with a small advantage for the B group. After that, the B group cumulative revenue jumps, while continuing to grow at around the same speed as before. There's a good chance that one jump at 19/08 is due to a single purchase, so it shouldn't be regarded to the difference between the groups. However, B group is consistently getting further away from the A graph, so that's a good sign the hypothesis is true."
   ]
  },
  {
   "cell_type": "markdown",
   "id": "a03bf2db",
   "metadata": {},
   "source": [
    "- **Graph cumulative average order size by group. Make conclusions and conjectures**"
   ]
  },
  {
   "cell_type": "code",
   "execution_count": 31,
   "id": "d834e3bc",
   "metadata": {},
   "outputs": [],
   "source": [
    "orda_grouped_cumord = orda.groupby('date')['revenue'].count().cumsum().reset_index()\n",
    "orda_grouped_cumord.columns = ['date','cumord']\n",
    "a = orda_grouped_cumrev.merge(orda_grouped_cumord,on='date')\n",
    "a['cumul_avch']=a['cumrev']/a['cumord']\n",
    "\n",
    "ordb_grouped_cumord = ordb.groupby('date')['revenue'].count().cumsum().reset_index()\n",
    "ordb_grouped_cumord.columns = ['date','cumord']\n",
    "b = ordb_grouped_cumrev.merge(ordb_grouped_cumord,on='date')\n",
    "b['cumul_avch']=b['cumrev']/b['cumord']"
   ]
  },
  {
   "cell_type": "code",
   "execution_count": 32,
   "id": "40d96e43",
   "metadata": {},
   "outputs": [
    {
     "data": {
      "image/png": "[encoded data removed]",
      "text/plain": [
       "<Figure size 1080x432 with 1 Axes>"
      ]
     },
     "metadata": {
      "needs_background": "light"
     },
     "output_type": "display_data"
    }
   ],
   "source": [
    "plt.plot(a['date'], a['cumul_avch'], label='A')\n",
    "plt.plot(b['date'], b['cumul_avch'], label='B')\n",
    "plt.legend()\n",
    "plt.title('Cumulative Average Check by Group')\n",
    "plt.xlabel('date')\n",
    "plt.ylabel('cumulative average check')\n",
    "plt.show()"
   ]
  },
  {
   "cell_type": "markdown",
   "id": "5280fc77",
   "metadata": {},
   "source": [
    "The results are ambiguous - the first half of the test doesn't have a clear winner as both groups take the lead at some stage; Whereas the second half of the test has a clear winner, but its due to a probably single order that could have been made by a user from A group equally the same. Moreover, at this part of the test where B take the lead, its cumulative average check actually inclined down, while A's cumulative average check inclined up."
   ]
  },
  {
   "cell_type": "markdown",
   "id": "e7802f83",
   "metadata": {},
   "source": [
    "- **Graph the relative difference in cumulative average order size for group B compared with group A. Make conclusions and conjectures**"
   ]
  },
  {
   "cell_type": "code",
   "execution_count": 33,
   "id": "21e0e752",
   "metadata": {},
   "outputs": [
    {
     "data": {
      "text/html": [
       "<div>\n",
       "<style scoped>\n",
       "    .dataframe tbody tr th:only-of-type {\n",
       "        vertical-align: middle;\n",
       "    }\n",
       "\n",
       "    .dataframe tbody tr th {\n",
       "        vertical-align: top;\n",
       "    }\n",
       "\n",
       "    .dataframe thead th {\n",
       "        text-align: right;\n",
       "    }\n",
       "</style>\n",
       "<table border=\"1\" class=\"dataframe\">\n",
       "  <thead>\n",
       "    <tr style=\"text-align: right;\">\n",
       "      <th></th>\n",
       "      <th>date</th>\n",
       "      <th>cumrev_x</th>\n",
       "      <th>cumord_x</th>\n",
       "      <th>cumul_avch_x</th>\n",
       "      <th>cumrev_y</th>\n",
       "      <th>cumord_y</th>\n",
       "      <th>cumul_avch_y</th>\n",
       "      <th>rel</th>\n",
       "    </tr>\n",
       "  </thead>\n",
       "  <tbody>\n",
       "    <tr>\n",
       "      <th>0</th>\n",
       "      <td>2019-08-01</td>\n",
       "      <td>2266.6</td>\n",
       "      <td>23</td>\n",
       "      <td>98.547826</td>\n",
       "      <td>967.2</td>\n",
       "      <td>17</td>\n",
       "      <td>56.894118</td>\n",
       "      <td>-0.422675</td>\n",
       "    </tr>\n",
       "    <tr>\n",
       "      <th>1</th>\n",
       "      <td>2019-08-02</td>\n",
       "      <td>3734.9</td>\n",
       "      <td>42</td>\n",
       "      <td>88.926190</td>\n",
       "      <td>3535.3</td>\n",
       "      <td>40</td>\n",
       "      <td>88.382500</td>\n",
       "      <td>-0.006114</td>\n",
       "    </tr>\n",
       "    <tr>\n",
       "      <th>2</th>\n",
       "      <td>2019-08-03</td>\n",
       "      <td>5550.1</td>\n",
       "      <td>66</td>\n",
       "      <td>84.092424</td>\n",
       "      <td>4606.9</td>\n",
       "      <td>54</td>\n",
       "      <td>85.312963</td>\n",
       "      <td>0.014514</td>\n",
       "    </tr>\n",
       "    <tr>\n",
       "      <th>3</th>\n",
       "      <td>2019-08-04</td>\n",
       "      <td>6225.6</td>\n",
       "      <td>77</td>\n",
       "      <td>80.851948</td>\n",
       "      <td>6138.5</td>\n",
       "      <td>68</td>\n",
       "      <td>90.272059</td>\n",
       "      <td>0.116511</td>\n",
       "    </tr>\n",
       "    <tr>\n",
       "      <th>4</th>\n",
       "      <td>2019-08-05</td>\n",
       "      <td>7623.6</td>\n",
       "      <td>99</td>\n",
       "      <td>77.006061</td>\n",
       "      <td>7587.8</td>\n",
       "      <td>89</td>\n",
       "      <td>85.256180</td>\n",
       "      <td>0.107136</td>\n",
       "    </tr>\n",
       "  </tbody>\n",
       "</table>\n",
       "</div>"
      ],
      "text/plain": [
       "        date  cumrev_x  cumord_x  cumul_avch_x  cumrev_y  cumord_y  \\\n",
       "0 2019-08-01    2266.6        23     98.547826     967.2        17   \n",
       "1 2019-08-02    3734.9        42     88.926190    3535.3        40   \n",
       "2 2019-08-03    5550.1        66     84.092424    4606.9        54   \n",
       "3 2019-08-04    6225.6        77     80.851948    6138.5        68   \n",
       "4 2019-08-05    7623.6        99     77.006061    7587.8        89   \n",
       "\n",
       "   cumul_avch_y       rel  \n",
       "0     56.894118 -0.422675  \n",
       "1     88.382500 -0.006114  \n",
       "2     85.312963  0.014514  \n",
       "3     90.272059  0.116511  \n",
       "4     85.256180  0.107136  "
      ]
     },
     "execution_count": 33,
     "metadata": {},
     "output_type": "execute_result"
    }
   ],
   "source": [
    "rel_cum_avch = a.merge(b,on='date')\n",
    "rel_cum_avch['rel'] = rel_cum_avch['cumul_avch_y']/rel_cum_avch['cumul_avch_x']-1\n",
    "rel_cum_avch.head()"
   ]
  },
  {
   "cell_type": "code",
   "execution_count": 34,
   "id": "070230ce",
   "metadata": {},
   "outputs": [
    {
     "data": {
      "image/png": "[encoded data removed]",
      "text/plain": [
       "<Figure size 1080x432 with 1 Axes>"
      ]
     },
     "metadata": {
      "needs_background": "light"
     },
     "output_type": "display_data"
    }
   ],
   "source": [
    "plt.plot(rel_cum_avch['date'], rel_cum_avch['rel'])\n",
    "plt.title('B relative to A (cumulative average check)')\n",
    "plt.xlabel('date')\n",
    "plt.ylabel('relative difference - B over A')\n",
    "plt.show()"
   ]
  },
  {
   "cell_type": "markdown",
   "id": "ecb617b4",
   "metadata": {},
   "source": [
    "Reminds some motives from earlier - first two weeks are'nt clear, and afterwards B takes the lead but simultaneously has a less and less positive difference over A. So, its too ambiguous to conclude anything"
   ]
  },
  {
   "cell_type": "markdown",
   "id": "02f21bbe",
   "metadata": {},
   "source": [
    "- **Calculate each group's conversion rate as the ratio of orders to the number of visits for each day. Plot the daily conversion rates of the two groups and describe the difference. Draw conclusions and make conjectures**"
   ]
  },
  {
   "cell_type": "code",
   "execution_count": 35,
   "id": "7a7102a3",
   "metadata": {},
   "outputs": [],
   "source": [
    "orda_per_day = orda.groupby('date')['revenue'].count().reset_index()\n",
    "orda_per_day.columns = ['date','orders']\n",
    "ordb_per_day = ordb.groupby('date')['revenue'].count().reset_index()\n",
    "ordb_per_day.columns = ['date','orders']\n",
    "\n",
    "cona  = visa.merge(orda_per_day,on='date')\n",
    "conb  = visb.merge(ordb_per_day,on='date')\n",
    "cona['conversion'] = cona['orders']/cona['visits']\n",
    "conb['conversion'] = conb['orders']/conb['visits']"
   ]
  },
  {
   "cell_type": "code",
   "execution_count": 36,
   "id": "1b996eff",
   "metadata": {},
   "outputs": [
    {
     "data": {
      "image/png": "[encoded data removed]",
      "text/plain": [
       "<Figure size 1080x432 with 1 Axes>"
      ]
     },
     "metadata": {
      "needs_background": "light"
     },
     "output_type": "display_data"
    }
   ],
   "source": [
    "plt.plot(cona['date'], cona['conversion'], label='A')\n",
    "plt.plot(conb['date'], conb['conversion'], label='B')\n",
    "plt.axhline(y=cona['conversion'].mean(), color='b', linestyle='--')\n",
    "plt.axhline(y=conb['conversion'].mean(), color='orange', linestyle='--')\n",
    "plt.legend()\n",
    "plt.title('Daily Conversion')\n",
    "plt.xlabel('date')\n",
    "plt.ylabel('conversion')\n",
    "plt.show()"
   ]
  },
  {
   "cell_type": "markdown",
   "id": "c210d2ee",
   "metadata": {},
   "source": [
    "Conversion itself varies considerably between 1% to 6%, for both groups. However, B's conversion is mostly better - Around 15% higher than A's one. That's a very good sign for the hypothesis."
   ]
  },
  {
   "cell_type": "code",
   "execution_count": 37,
   "id": "2e0d6e98",
   "metadata": {},
   "outputs": [
    {
     "data": {
      "image/png": "[encoded data removed]",
      "text/plain": [
       "<Figure size 1080x432 with 1 Axes>"
      ]
     },
     "metadata": {
      "needs_background": "light"
     },
     "output_type": "display_data"
    }
   ],
   "source": [
    "datesGroups = orders[['date', 'group']].drop_duplicates()\n",
    "\n",
    "ordersAggregated = datesGroups.apply(lambda x: orders[np.logical_and(orders['date'] <= x['date'], orders['group'] == x['group'])].agg({'date':'max', 'group':'max', 'transactionId':pd.Series.nunique, 'visitorId':pd.Series.nunique, 'revenue':'sum'}), axis=1).sort_values(by=['date', 'group'])\n",
    "\n",
    "visitorsAggregated = datesGroups.apply(\n",
    "    lambda x: visits[\n",
    "        np.logical_and(\n",
    "            visits['date'] <= x['date'], visits['group'] == x['group']\n",
    "        )\n",
    "    ].agg({'date': 'max', 'group': 'max', 'visits': 'sum'}),\n",
    "    axis=1\n",
    ")\n",
    "\n",
    "ordersAggregated=ordersAggregated.sort_values(by=['date','group'])\n",
    "visitorsAggregated=visitorsAggregated.sort_values(by=['date','group'])\n",
    "\n",
    "cumulativeData = ordersAggregated.merge(\n",
    "   visitorsAggregated, left_on=['date', 'group'], right_on=['date', 'group'])\n",
    "\n",
    "cumulativeData.columns=['date', 'group', 'orders', 'buyers', 'revenue', 'visitors']\n",
    "\n",
    "cumulativeData['conversion']=cumulativeData['orders']/cumulativeData['visitors']\n",
    "\n",
    "cuma = cumulativeData[cumulativeData['group'] == 'A']\n",
    "cumb = cumulativeData[cumulativeData['group'] == 'B']\n",
    "\n",
    "plt.plot(cuma['date'], cuma['conversion'], label='A')\n",
    "plt.plot(cumb['date'], cumb['conversion'], label='B')\n",
    "plt.axhline(y=cuma['conversion'].mean(), color='b', linestyle='--')\n",
    "plt.axhline(y=cumb['conversion'].mean(), color='orange', linestyle='--')\n",
    "plt.legend()\n",
    "plt.title('Cumulative Daily Conversion')\n",
    "plt.xlabel('date')\n",
    "plt.ylabel('conversion')\n",
    "plt.show()"
   ]
  },
  {
   "cell_type": "markdown",
   "id": "a0608ff7",
   "metadata": {},
   "source": [
    "Overall, B's cumulative conversion's better, by 2/27 = 7.5%. Its twice less better than the daily case, but still significantly better."
   ]
  },
  {
   "cell_type": "markdown",
   "id": "20f969ff",
   "metadata": {},
   "source": [
    "- **Plot a scatter chart of the number of orders per user. Make conclusions and conjectures**"
   ]
  },
  {
   "cell_type": "code",
   "execution_count": 38,
   "id": "519691bd",
   "metadata": {},
   "outputs": [
    {
     "data": {
      "image/png": "[encoded data removed]",
      "text/plain": [
       "<Figure size 1080x432 with 1 Axes>"
      ]
     },
     "metadata": {
      "needs_background": "light"
     },
     "output_type": "display_data"
    }
   ],
   "source": [
    "orders_per_user = orders.groupby(['visitorId','group'])['revenue'].count().reset_index().reset_index()\n",
    "sns.scatterplot(x = \"index\", y = \"revenue\", data = orders_per_user, hue = \"group\",alpha=.5)\n",
    "plt.title('Orders per User')\n",
    "plt.xlabel('user index')\n",
    "plt.ylabel('Num of Orders')\n",
    "plt.show()"
   ]
  },
  {
   "cell_type": "markdown",
   "id": "1b46cd1d",
   "metadata": {},
   "source": [
    "Seems the absolute majority of buyers bought only once."
   ]
  },
  {
   "cell_type": "markdown",
   "id": "16115c4a",
   "metadata": {},
   "source": [
    "- **Calculate the 95th and 99th percentiles for the number of orders per user. Define the point at which a data point becomes an anomaly.**"
   ]
  },
  {
   "cell_type": "code",
   "execution_count": 39,
   "id": "efbb6dfc",
   "metadata": {},
   "outputs": [
    {
     "data": {
      "text/plain": [
       "1    937\n",
       "2     29\n",
       "3      7\n",
       "Name: revenue, dtype: int64"
      ]
     },
     "execution_count": 39,
     "metadata": {},
     "output_type": "execute_result"
    }
   ],
   "source": [
    "orders_per_user.revenue.value_counts()"
   ]
  },
  {
   "cell_type": "code",
   "execution_count": 40,
   "id": "04e213f3",
   "metadata": {},
   "outputs": [
    {
     "name": "stdout",
     "output_type": "stream",
     "text": [
      "95th percentile - index        9.234000e+02\n",
      "visitorId    4.029952e+09\n",
      "revenue      1.000000e+00\n",
      "Name: 0.95, dtype: float64\n",
      "99th percentile - index        9.622800e+02\n",
      "visitorId    4.233005e+09\n",
      "revenue      2.000000e+00\n",
      "Name: 0.99, dtype: float64\n"
     ]
    }
   ],
   "source": [
    "print('95th percentile -',orders_per_user.quantile(.95))\n",
    "print('99th percentile -',orders_per_user.quantile(.99))"
   ]
  },
  {
   "cell_type": "markdown",
   "id": "7189c907",
   "metadata": {},
   "source": [
    "No point in cutting by index, and thus declare some users with 2 orders as viable while declaring others with the same number of orders as not. Therefore, the choice is whether or not to include users with 2 orders in the filtered data (users with 3 orders are without a doubt an anomaly). 29 / 966 = 0.03 i.e 3%. It sounds like not so much, and the profit will be to have a really clean data to base conclusions upon. So, <b>users with more than 1 order will be considered an anomaly.</b>"
   ]
  },
  {
   "cell_type": "markdown",
   "id": "a7122bbd",
   "metadata": {},
   "source": [
    "- **Plot a scatter chart of order prices. Make conclusions and conjectures.**"
   ]
  },
  {
   "cell_type": "code",
   "execution_count": 41,
   "id": "205f314a",
   "metadata": {},
   "outputs": [
    {
     "data": {
      "text/plain": [
       "count     1016.000000\n",
       "mean       130.770866\n",
       "std        648.079810\n",
       "min          5.000000\n",
       "25%         20.775000\n",
       "50%         50.100000\n",
       "75%        126.950000\n",
       "max      19920.400000\n",
       "Name: revenue, dtype: float64"
      ]
     },
     "execution_count": 41,
     "metadata": {},
     "output_type": "execute_result"
    }
   ],
   "source": [
    "orders.revenue.describe()"
   ]
  },
  {
   "cell_type": "markdown",
   "id": "756a2994",
   "metadata": {},
   "source": [
    "So IQR = 106, Q3 + 1.5*IQR = 127 + 159 = 286. No bottom border for outliers. The mean is greater than Q3 so there's obviously a serious effect of outliers here."
   ]
  },
  {
   "cell_type": "code",
   "execution_count": 42,
   "id": "75e9e158",
   "metadata": {},
   "outputs": [
    {
     "data": {
      "image/png": "[encoded data removed]",
      "text/plain": [
       "<Figure size 1152x288 with 2 Axes>"
      ]
     },
     "metadata": {
      "needs_background": "light"
     },
     "output_type": "display_data"
    }
   ],
   "source": [
    "fig = plt.figure(figsize=(16,4))\n",
    "\n",
    "plt.subplot(121)\n",
    "plt.title('Order Prices')\n",
    "plt.xlabel('index')\n",
    "plt.ylabel('Order Price')\n",
    "sns.scatterplot(data = orders.reset_index(), x = 'index', y = 'revenue')\n",
    "\n",
    "plt.subplot(122)\n",
    "plt.title('Order Prices (zoomed)')\n",
    "plt.xlabel('index')\n",
    "plt.ylabel('Order Price')\n",
    "plt.ylim(0, 1000)\n",
    "sns.scatterplot(data = orders.reset_index(), x = 'index', y = 'revenue')\n",
    "\n",
    "plt.show()"
   ]
  },
  {
   "cell_type": "markdown",
   "id": "43cdbe49",
   "metadata": {},
   "source": [
    "Seems the absolute majority of orders are of less than 1200 dollars, with only a few orders that cost more. The lower thick line upper bound is way less, around 200. Between 300 to 400 there's less but not a negligible amount of orders"
   ]
  },
  {
   "cell_type": "markdown",
   "id": "f0a6e92e",
   "metadata": {},
   "source": [
    "- **Calculate the 95th and 99th percentiles of order prices. Define the point at which a data point becomes an anomaly**"
   ]
  },
  {
   "cell_type": "code",
   "execution_count": 43,
   "id": "42a6f50b",
   "metadata": {},
   "outputs": [
    {
     "name": "stdout",
     "output_type": "stream",
     "text": [
      "95th percentile - 414.275\n",
      "99th percentile - 830.3\n"
     ]
    }
   ],
   "source": [
    "print('95th percentile -',orders.revenue.quantile(.95))\n",
    "print('99th percentile -',orders.revenue.quantile(.99))"
   ]
  },
  {
   "cell_type": "markdown",
   "id": "28e583a6",
   "metadata": {},
   "source": [
    "Both much bigger than the previously suggested Q3+1.5IQR = 286 bound. Taking the latter as bound would remove more than 5% of the data. To prevent that, and not losing way more than 5%, **the upper bound will be set as 400 dollars.**"
   ]
  },
  {
   "cell_type": "markdown",
   "id": "e60da3a7",
   "metadata": {},
   "source": [
    "- **Find the statistical significance of the difference in conversion between the groups using the raw data. Make conclusions and conjectures.**"
   ]
  },
  {
   "cell_type": "markdown",
   "id": "4f29ec98",
   "metadata": {},
   "source": [
    "## Total Conversion"
   ]
  },
  {
   "cell_type": "code",
   "execution_count": 44,
   "id": "7868a64b",
   "metadata": {},
   "outputs": [],
   "source": [
    "a_successes = cona.orders.sum()\n",
    "b_successes = conb.orders.sum()\n",
    "a_trials = cona.visits.sum()\n",
    "b_trials = conb.visits.sum()"
   ]
  },
  {
   "cell_type": "code",
   "execution_count": 45,
   "id": "c4a6312e",
   "metadata": {},
   "outputs": [],
   "source": [
    "def check_hypothesis(successes1,trials1, successes2,trials2, alpha=0.05):\n",
    "    #proportion for success in the first group\n",
    "    p1 = successes1/trials1\n",
    "\n",
    "   #proportion for success in the second group\n",
    "    p2 = successes2/trials2\n",
    "    p_combined = (successes1 + successes2) / (trials1 + trials2)\n",
    "\n",
    "  \n",
    "    difference = p1 - p2\n",
    "    \n",
    "    \n",
    "    z_value = difference / math.sqrt(p_combined * (1 - p_combined) * (1/trials1 + 1/trials2))\n",
    "\n",
    "  \n",
    "    distr = stats.norm(0, 1) \n",
    "\n",
    "\n",
    "    p_value = (1 - distr.cdf(abs(z_value))) * 2\n",
    "\n",
    "    print('p-value: ', p_value)\n",
    "    if p_value<alpha:\n",
    "        print('Reject H0')\n",
    "    else:\n",
    "        print('Fail to Reject H0')"
   ]
  },
  {
   "cell_type": "markdown",
   "id": "b7925e78",
   "metadata": {},
   "source": [
    "- <b>H<sub>0</sub></b> - difference in total conversion distributions between A and B is statistically insignificant\n",
    "- <b>H<sub>1</sub></b> - difference in total conversion distributions between A and B is statistically significant\n",
    "- $\\alpha$ = 0.05"
   ]
  },
  {
   "cell_type": "code",
   "execution_count": 46,
   "id": "23a6e651",
   "metadata": {},
   "outputs": [
    {
     "name": "stdout",
     "output_type": "stream",
     "text": [
      "p-value:  0.016851380434703023\n",
      "Reject H0\n"
     ]
    }
   ],
   "source": [
    "check_hypothesis(a_successes,a_trials, b_successes,b_trials, alpha=0.05)"
   ]
  },
  {
   "cell_type": "markdown",
   "id": "99ae7614",
   "metadata": {},
   "source": [
    "Earlier, a 15% difference between the overall groups's conversions was witnessed. So, its not a surprise."
   ]
  },
  {
   "cell_type": "markdown",
   "id": "fecdaf23",
   "metadata": {},
   "source": [
    "## Daily Conversion"
   ]
  },
  {
   "cell_type": "code",
   "execution_count": 47,
   "id": "cba2821b",
   "metadata": {},
   "outputs": [],
   "source": [
    "def testing_average(sample1,sample2,alpha=0.05):\n",
    "    #checking normality\n",
    "    sample1=sample1.dropna()\n",
    "    sample2=sample2.dropna()\n",
    "    stat1, p1_norm=stats.shapiro(sample1)\n",
    "    stat2, p2_norm=stats.shapiro(sample2)\n",
    "    if p1_norm > alpha and p2_norm>alpha:\n",
    "        #then both normal, perform t-test.\n",
    "        #for t-test also should check the equality of variances\n",
    "        statslev,p_levene=stats.levene(sample1, sample2)\n",
    "        if p_levene<alpha:\n",
    "           #variances are not equal\n",
    "            statist,p_value=stats.ttest_ind(sample1, sample2,equal_var=False)\n",
    "        else:\n",
    "            statist,p_value=stats.ttest_ind(sample1, sample2,equal_var=True) \n",
    "    else:\n",
    "        statist,p_value=stats.mannwhitneyu(sample1, sample2)\n",
    "    print(p_value)\n",
    "    if p_value<alpha:\n",
    "        print('Reject H0')\n",
    "    else:\n",
    "        print('Fail to Reject H0')"
   ]
  },
  {
   "cell_type": "markdown",
   "id": "5b5e1a65",
   "metadata": {},
   "source": [
    "- <b>H<sub>0</sub></b> - differences in conversion between A and B are statistically insignificant\n",
    "- <b>H<sub>1</sub></b> - differences in conversion between A and B are statistically significant\n",
    "- $\\alpha$ = 0.05"
   ]
  },
  {
   "cell_type": "code",
   "execution_count": 48,
   "id": "f35d4b0e",
   "metadata": {},
   "outputs": [
    {
     "name": "stdout",
     "output_type": "stream",
     "text": [
      "0.09573715593918651\n",
      "Fail to Reject H0\n"
     ]
    }
   ],
   "source": [
    "testing_average(cona['conversion'],conb['conversion'],alpha=0.05)"
   ]
  },
  {
   "cell_type": "markdown",
   "id": "13cfd03d",
   "metadata": {},
   "source": [
    "Earlier, the graphs for daily conversion looked pretty similar. Without those mean lines it was hard to tell exactly which group is better. So it makes sense the test didn't reject the null hypothesis, as that hypothesis might be true, even when the total conversions are definitely not the same.<p><b>However, sampling might change this result</b></p>"
   ]
  },
  {
   "cell_type": "code",
   "execution_count": 49,
   "id": "11d6848d",
   "metadata": {},
   "outputs": [],
   "source": [
    "orders_by_usersA = orders[orders['group']=='A'].groupby('visitorId', as_index=False).agg({'transactionId' : pd.Series.nunique})\n",
    "orders_by_usersA.columns = ['userId', 'orders']\n",
    "\n",
    "orders_by_usersB = orders[orders['group']=='B'].groupby('visitorId', as_index=False).agg({'transactionId' : pd.Series.nunique})\n",
    "orders_by_usersB.columns = ['userId', 'orders']\n",
    "\n",
    "sampleA = pd.concat([orders_by_usersA['orders'],pd.Series(0, index=np.arange(visits[visits['group']=='A']['visits'].sum() - len(orders_by_usersA['orders'])), name='orders')],axis=0)\n",
    "\n",
    "sampleB = pd.concat([orders_by_usersB['orders'],pd.Series(0, index=np.arange(visits[visits['group']=='B']['visits'].sum() - len(orders_by_usersB['orders'])), name='orders')],axis=0)"
   ]
  },
  {
   "cell_type": "code",
   "execution_count": 51,
   "id": "aac02c2c",
   "metadata": {},
   "outputs": [
    {
     "name": "stdout",
     "output_type": "stream",
     "text": [
      "0.0055090420550073455\n",
      "Reject H0\n"
     ]
    },
    {
     "name": "stderr",
     "output_type": "stream",
     "text": [
      "C:\\Users\\idanm\\anaconda3\\lib\\site-packages\\scipy\\stats\\morestats.py:1681: UserWarning: p-value may not be accurate for N > 5000.\n",
      "  warnings.warn(\"p-value may not be accurate for N > 5000.\")\n"
     ]
    }
   ],
   "source": [
    "testing_average(sampleA,sampleB,alpha=0.05)"
   ]
  },
  {
   "cell_type": "markdown",
   "id": "5903870e",
   "metadata": {},
   "source": [
    "So, after sampling, results align with total conversion - Turns out the difference is by good chance significant"
   ]
  },
  {
   "cell_type": "markdown",
   "id": "32d777b3",
   "metadata": {},
   "source": [
    "- **Find the statistical significance of the difference in average order size between the groups using the raw data. Make conclusions and conjectures**"
   ]
  },
  {
   "cell_type": "code",
   "execution_count": 52,
   "id": "da902aca",
   "metadata": {},
   "outputs": [
    {
     "name": "stdout",
     "output_type": "stream",
     "text": [
      "A's mean revenue - 113.70085470085463\n",
      "B's mean revenue - 145.34890510948907\n"
     ]
    }
   ],
   "source": [
    "print(\"A's mean revenue -\",orda.revenue.mean())\n",
    "print(\"B's mean revenue -\",ordb.revenue.mean())"
   ]
  },
  {
   "cell_type": "markdown",
   "id": "ae58c94b",
   "metadata": {},
   "source": [
    "B group has greater overall average check, bigger than A's average check by almost 30%, its a lot."
   ]
  },
  {
   "cell_type": "code",
   "execution_count": 53,
   "id": "1c34ee37",
   "metadata": {},
   "outputs": [],
   "source": [
    "orda_per_day = orda.groupby('date')['revenue'].count().reset_index()\n",
    "orda_per_day.columns = ['date','orders']\n",
    "ordb_per_day = ordb.groupby('date')['revenue'].count().reset_index()\n",
    "ordb_per_day.columns = ['date','orders']"
   ]
  },
  {
   "cell_type": "code",
   "execution_count": 54,
   "id": "b663b3dc",
   "metadata": {},
   "outputs": [],
   "source": [
    "reva_per_day = orda.groupby('date')['revenue'].sum().reset_index()\n",
    "avcha = reva_per_day.merge(orda_per_day,on='date')\n",
    "avcha['avch'] = avcha['revenue']/avcha['orders']\n",
    "revb_per_day = ordb.groupby('date')['revenue'].sum().reset_index()\n",
    "avchb = revb_per_day.merge(ordb_per_day,on='date')\n",
    "avchb['avch'] = avchb['revenue']/avchb['orders']"
   ]
  },
  {
   "cell_type": "code",
   "execution_count": 55,
   "id": "4c37e477",
   "metadata": {},
   "outputs": [
    {
     "name": "stdout",
     "output_type": "stream",
     "text": [
      "A's mean average check - 115.51247176082741\n",
      "B's mean average check - 138.37116968351648\n"
     ]
    }
   ],
   "source": [
    "print(\"A's mean average check -\",avcha['avch'].mean())\n",
    "print(\"B's mean average check -\",avchb['avch'].mean())"
   ]
  },
  {
   "cell_type": "markdown",
   "id": "d088d719",
   "metadata": {},
   "source": [
    "Also when taking the mean by day, B's average check is still much bigger."
   ]
  },
  {
   "cell_type": "markdown",
   "id": "30a0876e",
   "metadata": {},
   "source": [
    "- <b>H<sub>0</sub></b> - difference in average-check distributions between A and B are statistically insignificant\n",
    "- <b>H<sub>1</sub></b> - difference in average-check distributions between A and B are statistically significant\n",
    "- $\\alpha$ = 0.05"
   ]
  },
  {
   "cell_type": "code",
   "execution_count": 56,
   "id": "076d3b6d",
   "metadata": {},
   "outputs": [
    {
     "name": "stdout",
     "output_type": "stream",
     "text": [
      "0.4775457158686006\n",
      "Fail to Reject H0\n"
     ]
    }
   ],
   "source": [
    "testing_average(avcha['avch'],avchb['avch'],alpha=0.05)"
   ]
  },
  {
   "cell_type": "markdown",
   "id": "fca5cbbe",
   "metadata": {},
   "source": [
    "Results are surprising. B's average check is so much bigger that H0 was predicted to be rejected. Maybe outliers have something to do with it"
   ]
  },
  {
   "cell_type": "markdown",
   "id": "cbf8f596",
   "metadata": {},
   "source": [
    "- **Find the statistical significance of the difference in conversion between the groups using the filtered data. Make conclusions and conjectures**"
   ]
  },
  {
   "cell_type": "markdown",
   "id": "879792ff",
   "metadata": {},
   "source": [
    "## Filtering Data"
   ]
  },
  {
   "cell_type": "markdown",
   "id": "01976c1a",
   "metadata": {},
   "source": [
    "First, data needs to be filtered - users with more than 1 order and orders exceeding 400 dollars are to be filtered out"
   ]
  },
  {
   "cell_type": "code",
   "execution_count": 57,
   "id": "637de768",
   "metadata": {},
   "outputs": [
    {
     "data": {
      "text/plain": [
       "79"
      ]
     },
     "execution_count": 57,
     "metadata": {},
     "output_type": "execute_result"
    }
   ],
   "source": [
    "big_users = orders.groupby('visitorId')['revenue'].count().reset_index()\n",
    "big_users = big_users[big_users['revenue'] != np.percentile(orders_per_user['revenue'], 95)]\n",
    "big_users.revenue.sum()"
   ]
  },
  {
   "cell_type": "code",
   "execution_count": 58,
   "id": "2012ec56",
   "metadata": {},
   "outputs": [
    {
     "data": {
      "text/html": [
       "<div>\n",
       "<style scoped>\n",
       "    .dataframe tbody tr th:only-of-type {\n",
       "        vertical-align: middle;\n",
       "    }\n",
       "\n",
       "    .dataframe tbody tr th {\n",
       "        vertical-align: top;\n",
       "    }\n",
       "\n",
       "    .dataframe thead th {\n",
       "        text-align: right;\n",
       "    }\n",
       "</style>\n",
       "<table border=\"1\" class=\"dataframe\">\n",
       "  <thead>\n",
       "    <tr style=\"text-align: right;\">\n",
       "      <th></th>\n",
       "      <th>transactionId</th>\n",
       "      <th>visitorId</th>\n",
       "      <th>date</th>\n",
       "      <th>revenue</th>\n",
       "      <th>group</th>\n",
       "    </tr>\n",
       "  </thead>\n",
       "  <tbody>\n",
       "    <tr>\n",
       "      <th>0</th>\n",
       "      <td>3667963787</td>\n",
       "      <td>3312258926</td>\n",
       "      <td>2019-08-15</td>\n",
       "      <td>30.4</td>\n",
       "      <td>B</td>\n",
       "    </tr>\n",
       "    <tr>\n",
       "      <th>1</th>\n",
       "      <td>2804400009</td>\n",
       "      <td>3642806036</td>\n",
       "      <td>2019-08-15</td>\n",
       "      <td>15.2</td>\n",
       "      <td>B</td>\n",
       "    </tr>\n",
       "    <tr>\n",
       "      <th>3</th>\n",
       "      <td>3797467345</td>\n",
       "      <td>1196621759</td>\n",
       "      <td>2019-08-15</td>\n",
       "      <td>155.1</td>\n",
       "      <td>B</td>\n",
       "    </tr>\n",
       "    <tr>\n",
       "      <th>4</th>\n",
       "      <td>2282983706</td>\n",
       "      <td>2322279887</td>\n",
       "      <td>2019-08-15</td>\n",
       "      <td>40.5</td>\n",
       "      <td>B</td>\n",
       "    </tr>\n",
       "    <tr>\n",
       "      <th>5</th>\n",
       "      <td>182168103</td>\n",
       "      <td>935554773</td>\n",
       "      <td>2019-08-15</td>\n",
       "      <td>35.0</td>\n",
       "      <td>B</td>\n",
       "    </tr>\n",
       "    <tr>\n",
       "      <th>...</th>\n",
       "      <td>...</td>\n",
       "      <td>...</td>\n",
       "      <td>...</td>\n",
       "      <td>...</td>\n",
       "      <td>...</td>\n",
       "    </tr>\n",
       "    <tr>\n",
       "      <th>1191</th>\n",
       "      <td>3592955527</td>\n",
       "      <td>608641596</td>\n",
       "      <td>2019-08-14</td>\n",
       "      <td>255.7</td>\n",
       "      <td>B</td>\n",
       "    </tr>\n",
       "    <tr>\n",
       "      <th>1192</th>\n",
       "      <td>2662137336</td>\n",
       "      <td>3733762160</td>\n",
       "      <td>2019-08-14</td>\n",
       "      <td>100.8</td>\n",
       "      <td>B</td>\n",
       "    </tr>\n",
       "    <tr>\n",
       "      <th>1193</th>\n",
       "      <td>2203539145</td>\n",
       "      <td>370388673</td>\n",
       "      <td>2019-08-14</td>\n",
       "      <td>50.1</td>\n",
       "      <td>A</td>\n",
       "    </tr>\n",
       "    <tr>\n",
       "      <th>1194</th>\n",
       "      <td>1807773912</td>\n",
       "      <td>573423106</td>\n",
       "      <td>2019-08-14</td>\n",
       "      <td>165.3</td>\n",
       "      <td>A</td>\n",
       "    </tr>\n",
       "    <tr>\n",
       "      <th>1196</th>\n",
       "      <td>3936777065</td>\n",
       "      <td>2108080724</td>\n",
       "      <td>2019-08-15</td>\n",
       "      <td>3120.1</td>\n",
       "      <td>B</td>\n",
       "    </tr>\n",
       "  </tbody>\n",
       "</table>\n",
       "<p>937 rows × 5 columns</p>\n",
       "</div>"
      ],
      "text/plain": [
       "      transactionId   visitorId       date  revenue group\n",
       "0        3667963787  3312258926 2019-08-15     30.4     B\n",
       "1        2804400009  3642806036 2019-08-15     15.2     B\n",
       "3        3797467345  1196621759 2019-08-15    155.1     B\n",
       "4        2282983706  2322279887 2019-08-15     40.5     B\n",
       "5         182168103   935554773 2019-08-15     35.0     B\n",
       "...             ...         ...        ...      ...   ...\n",
       "1191     3592955527   608641596 2019-08-14    255.7     B\n",
       "1192     2662137336  3733762160 2019-08-14    100.8     B\n",
       "1193     2203539145   370388673 2019-08-14     50.1     A\n",
       "1194     1807773912   573423106 2019-08-14    165.3     A\n",
       "1196     3936777065  2108080724 2019-08-15   3120.1     B\n",
       "\n",
       "[937 rows x 5 columns]"
      ]
     },
     "execution_count": 58,
     "metadata": {},
     "output_type": "execute_result"
    }
   ],
   "source": [
    "orders_new = orders[~orders['visitorId'].isin(big_users['visitorId'])]\n",
    "orders_new"
   ]
  },
  {
   "cell_type": "markdown",
   "id": "15ca9ec2",
   "metadata": {},
   "source": [
    "Thats great, because 1016- 79 = 937, so first step of filtering done"
   ]
  },
  {
   "cell_type": "code",
   "execution_count": 59,
   "id": "639e3852",
   "metadata": {},
   "outputs": [
    {
     "data": {
      "text/plain": [
       "50"
      ]
     },
     "execution_count": 59,
     "metadata": {},
     "output_type": "execute_result"
    }
   ],
   "source": [
    "big_orders = orders_new[orders_new['revenue'] > np.percentile(orders['revenue'], 95)]\n",
    "len(big_orders)"
   ]
  },
  {
   "cell_type": "markdown",
   "id": "110b3a18",
   "metadata": {},
   "source": [
    "All those records should be deleted, while other orders from users appearing here should be kept. Luckily, from the pre-processing its known all transaction Id's are unique. So, all those above 400 (practically, top 5% orders) dollars records could be deleted by their transactionId."
   ]
  },
  {
   "cell_type": "code",
   "execution_count": 60,
   "id": "678d59ee",
   "metadata": {},
   "outputs": [
    {
     "data": {
      "text/html": [
       "<div>\n",
       "<style scoped>\n",
       "    .dataframe tbody tr th:only-of-type {\n",
       "        vertical-align: middle;\n",
       "    }\n",
       "\n",
       "    .dataframe tbody tr th {\n",
       "        vertical-align: top;\n",
       "    }\n",
       "\n",
       "    .dataframe thead th {\n",
       "        text-align: right;\n",
       "    }\n",
       "</style>\n",
       "<table border=\"1\" class=\"dataframe\">\n",
       "  <thead>\n",
       "    <tr style=\"text-align: right;\">\n",
       "      <th></th>\n",
       "      <th>transactionId</th>\n",
       "      <th>visitorId</th>\n",
       "      <th>date</th>\n",
       "      <th>revenue</th>\n",
       "      <th>group</th>\n",
       "    </tr>\n",
       "  </thead>\n",
       "  <tbody>\n",
       "    <tr>\n",
       "      <th>0</th>\n",
       "      <td>3667963787</td>\n",
       "      <td>3312258926</td>\n",
       "      <td>2019-08-15</td>\n",
       "      <td>30.4</td>\n",
       "      <td>B</td>\n",
       "    </tr>\n",
       "    <tr>\n",
       "      <th>1</th>\n",
       "      <td>2804400009</td>\n",
       "      <td>3642806036</td>\n",
       "      <td>2019-08-15</td>\n",
       "      <td>15.2</td>\n",
       "      <td>B</td>\n",
       "    </tr>\n",
       "    <tr>\n",
       "      <th>3</th>\n",
       "      <td>3797467345</td>\n",
       "      <td>1196621759</td>\n",
       "      <td>2019-08-15</td>\n",
       "      <td>155.1</td>\n",
       "      <td>B</td>\n",
       "    </tr>\n",
       "    <tr>\n",
       "      <th>4</th>\n",
       "      <td>2282983706</td>\n",
       "      <td>2322279887</td>\n",
       "      <td>2019-08-15</td>\n",
       "      <td>40.5</td>\n",
       "      <td>B</td>\n",
       "    </tr>\n",
       "    <tr>\n",
       "      <th>5</th>\n",
       "      <td>182168103</td>\n",
       "      <td>935554773</td>\n",
       "      <td>2019-08-15</td>\n",
       "      <td>35.0</td>\n",
       "      <td>B</td>\n",
       "    </tr>\n",
       "    <tr>\n",
       "      <th>...</th>\n",
       "      <td>...</td>\n",
       "      <td>...</td>\n",
       "      <td>...</td>\n",
       "      <td>...</td>\n",
       "      <td>...</td>\n",
       "    </tr>\n",
       "    <tr>\n",
       "      <th>1190</th>\n",
       "      <td>38478481</td>\n",
       "      <td>1197745035</td>\n",
       "      <td>2019-08-14</td>\n",
       "      <td>135.3</td>\n",
       "      <td>B</td>\n",
       "    </tr>\n",
       "    <tr>\n",
       "      <th>1191</th>\n",
       "      <td>3592955527</td>\n",
       "      <td>608641596</td>\n",
       "      <td>2019-08-14</td>\n",
       "      <td>255.7</td>\n",
       "      <td>B</td>\n",
       "    </tr>\n",
       "    <tr>\n",
       "      <th>1192</th>\n",
       "      <td>2662137336</td>\n",
       "      <td>3733762160</td>\n",
       "      <td>2019-08-14</td>\n",
       "      <td>100.8</td>\n",
       "      <td>B</td>\n",
       "    </tr>\n",
       "    <tr>\n",
       "      <th>1193</th>\n",
       "      <td>2203539145</td>\n",
       "      <td>370388673</td>\n",
       "      <td>2019-08-14</td>\n",
       "      <td>50.1</td>\n",
       "      <td>A</td>\n",
       "    </tr>\n",
       "    <tr>\n",
       "      <th>1194</th>\n",
       "      <td>1807773912</td>\n",
       "      <td>573423106</td>\n",
       "      <td>2019-08-14</td>\n",
       "      <td>165.3</td>\n",
       "      <td>A</td>\n",
       "    </tr>\n",
       "  </tbody>\n",
       "</table>\n",
       "<p>887 rows × 5 columns</p>\n",
       "</div>"
      ],
      "text/plain": [
       "      transactionId   visitorId       date  revenue group\n",
       "0        3667963787  3312258926 2019-08-15     30.4     B\n",
       "1        2804400009  3642806036 2019-08-15     15.2     B\n",
       "3        3797467345  1196621759 2019-08-15    155.1     B\n",
       "4        2282983706  2322279887 2019-08-15     40.5     B\n",
       "5         182168103   935554773 2019-08-15     35.0     B\n",
       "...             ...         ...        ...      ...   ...\n",
       "1190       38478481  1197745035 2019-08-14    135.3     B\n",
       "1191     3592955527   608641596 2019-08-14    255.7     B\n",
       "1192     2662137336  3733762160 2019-08-14    100.8     B\n",
       "1193     2203539145   370388673 2019-08-14     50.1     A\n",
       "1194     1807773912   573423106 2019-08-14    165.3     A\n",
       "\n",
       "[887 rows x 5 columns]"
      ]
     },
     "execution_count": 60,
     "metadata": {},
     "output_type": "execute_result"
    }
   ],
   "source": [
    "orders_new = orders_new[~orders_new['transactionId'].isin(big_orders['transactionId'])]\n",
    "orders_new"
   ]
  },
  {
   "cell_type": "markdown",
   "id": "24507fa5",
   "metadata": {},
   "source": [
    "And data is filtered. Tables for calculating conversion and average check need to be updated."
   ]
  },
  {
   "cell_type": "code",
   "execution_count": 61,
   "id": "86d2b0aa",
   "metadata": {},
   "outputs": [],
   "source": [
    "orda_new = orders_new[orders_new['group'] == 'A']\n",
    "ordb_new = orders_new[orders_new['group'] == 'B']\n",
    "orda_per_day_new = orda_new.groupby('date')['revenue'].count().reset_index()\n",
    "orda_per_day_new.columns = ['date','orders']\n",
    "ordb_per_day_new = ordb_new.groupby('date')['revenue'].count().reset_index()\n",
    "ordb_per_day_new.columns = ['date','orders']\n",
    "\n",
    "cona_new  = visa.merge(orda_per_day_new,on='date')\n",
    "conb_new  = visb.merge(ordb_per_day_new,on='date')\n",
    "cona_new['conversion'] = cona_new['orders']/cona_new['visits']\n",
    "conb_new['conversion'] = conb_new['orders']/conb_new['visits']"
   ]
  },
  {
   "cell_type": "markdown",
   "id": "64aacde2",
   "metadata": {},
   "source": [
    "## Total Conversion"
   ]
  },
  {
   "cell_type": "code",
   "execution_count": 62,
   "id": "d4b51914",
   "metadata": {},
   "outputs": [],
   "source": [
    "a_successes_new = cona_new.orders.sum()\n",
    "b_successes_new = conb_new.orders.sum()\n",
    "a_trials_new = cona_new.visits.sum()\n",
    "b_trials_new = conb_new.visits.sum()"
   ]
  },
  {
   "cell_type": "markdown",
   "id": "6d396c06",
   "metadata": {},
   "source": [
    "- <b>H<sub>0</sub></b> - difference in total conversions for A and B are statistically insignificant (filtered data)\n",
    "- <b>H<sub>1</sub></b> - difference in total conversions for A and B are statistically significant (filtered data)\n",
    "- $\\alpha$ = 0.05"
   ]
  },
  {
   "cell_type": "code",
   "execution_count": 63,
   "id": "0feefd4a",
   "metadata": {},
   "outputs": [
    {
     "name": "stdout",
     "output_type": "stream",
     "text": [
      "p-value:  0.016199413442176347\n",
      "Reject H0\n"
     ]
    }
   ],
   "source": [
    "check_hypothesis(a_successes_new,a_trials_new, b_successes_new,b_trials_new, alpha=0.05)"
   ]
  },
  {
   "cell_type": "markdown",
   "id": "1fab8d84",
   "metadata": {},
   "source": [
    "p-value is a bit smaller, and still smaller by 3 times than the alpha value."
   ]
  },
  {
   "cell_type": "code",
   "execution_count": 64,
   "id": "07cb7a48",
   "metadata": {},
   "outputs": [
    {
     "data": {
      "text/plain": [
       "0.021669513236549958"
      ]
     },
     "execution_count": 64,
     "metadata": {},
     "output_type": "execute_result"
    }
   ],
   "source": [
    "a_successes_new / a_trials_new"
   ]
  },
  {
   "cell_type": "code",
   "execution_count": 65,
   "id": "73820956",
   "metadata": {},
   "outputs": [
    {
     "data": {
      "text/plain": [
       "0.02542820892366251"
      ]
     },
     "execution_count": 65,
     "metadata": {},
     "output_type": "execute_result"
    }
   ],
   "source": [
    "b_successes_new / b_trials_new"
   ]
  },
  {
   "cell_type": "markdown",
   "id": "8d9ad0b0",
   "metadata": {},
   "source": [
    "B's total conversion rate is bigger by 16%, so accordingly H0 is rejected."
   ]
  },
  {
   "cell_type": "markdown",
   "id": "49c98748",
   "metadata": {},
   "source": [
    "## Daily Conversion"
   ]
  },
  {
   "cell_type": "markdown",
   "id": "d5b3c6dd",
   "metadata": {},
   "source": [
    "- <b>H<sub>0</sub></b> - difference in daily conversions between A and B are statistically insignificant (filtered data)\n",
    "- <b>H<sub>1</sub></b> - difference in daily conversions between A and B are statistically significant (filtered data)\n",
    "- $\\alpha$ = 0.05"
   ]
  },
  {
   "cell_type": "code",
   "execution_count": 66,
   "id": "2f416508",
   "metadata": {},
   "outputs": [
    {
     "name": "stdout",
     "output_type": "stream",
     "text": [
      "0.021674782335834378\n",
      "Reject H0\n"
     ]
    }
   ],
   "source": [
    "testing_average(cona_new['conversion'],conb_new['conversion'],alpha=0.05)"
   ]
  },
  {
   "cell_type": "markdown",
   "id": "95463db0",
   "metadata": {},
   "source": [
    "Seems like without outliers the conversions differ. Its not what we got earlier, but its not overwhelming as B's total conversion is much bigger. Seems like outliers prevented the rejection of H0 earlier."
   ]
  },
  {
   "cell_type": "code",
   "execution_count": 67,
   "id": "c745560f",
   "metadata": {},
   "outputs": [],
   "source": [
    "orders_by_usersA_fil = orders_new[orders_new['group']=='A'].groupby('visitorId', as_index=False).agg({'transactionId' : pd.Series.nunique})\n",
    "orders_by_usersA_fil.columns = ['userId', 'orders']\n",
    "\n",
    "orders_by_usersB_fil = orders_new[orders_new['group']=='B'].groupby('visitorId', as_index=False).agg({'transactionId' : pd.Series.nunique})\n",
    "orders_by_usersB_fil.columns = ['userId', 'orders']\n",
    "\n",
    "sampleA_fil = pd.concat([orders_by_usersA_fil['orders'],pd.Series(0, index=np.arange(visits[visits['group']=='A']['visits'].sum() - len(orders_by_usersA_fil['orders'])), name='orders')],axis=0)\n",
    "\n",
    "sampleB_fil = pd.concat([orders_by_usersB_fil['orders'],pd.Series(0, index=np.arange(visits[visits['group']=='B']['visits'].sum() - len(orders_by_usersB_fil['orders'])), name='orders')],axis=0)"
   ]
  },
  {
   "cell_type": "code",
   "execution_count": 68,
   "id": "4a9cee9e",
   "metadata": {},
   "outputs": [
    {
     "name": "stdout",
     "output_type": "stream",
     "text": [
      "0.008100454286571687\n",
      "Reject H0\n"
     ]
    },
    {
     "name": "stderr",
     "output_type": "stream",
     "text": [
      "C:\\Users\\idanm\\anaconda3\\lib\\site-packages\\scipy\\stats\\morestats.py:1681: UserWarning: p-value may not be accurate for N > 5000.\n",
      "  warnings.warn(\"p-value may not be accurate for N > 5000.\")\n"
     ]
    }
   ],
   "source": [
    "testing_average(sampleA_fil,sampleB_fil,alpha=0.05)"
   ]
  },
  {
   "cell_type": "markdown",
   "id": "050e8a50",
   "metadata": {},
   "source": [
    "In this case, sampling don't change the result"
   ]
  },
  {
   "cell_type": "markdown",
   "id": "824a2b6a",
   "metadata": {},
   "source": [
    "- **Find the statistical significance of the difference in average order size between the groups using the filtered data. Make conclusions and conjectures**"
   ]
  },
  {
   "cell_type": "code",
   "execution_count": 69,
   "id": "df8fb83b",
   "metadata": {},
   "outputs": [
    {
     "name": "stdout",
     "output_type": "stream",
     "text": [
      "A's mean revenue - 80.74679802955667\n",
      "B's mean revenue - 78.05821205821198\n"
     ]
    }
   ],
   "source": [
    "print(\"A's mean revenue -\",orda_new.revenue.mean())\n",
    "print(\"B's mean revenue -\",ordb_new.revenue.mean())"
   ]
  },
  {
   "cell_type": "markdown",
   "id": "87bd889e",
   "metadata": {},
   "source": [
    "Earlier B's mean was much bigger. Now they're about the same, with B's mean even smaller."
   ]
  },
  {
   "cell_type": "code",
   "execution_count": 70,
   "id": "d744752a",
   "metadata": {},
   "outputs": [],
   "source": [
    "reva_per_day_new = orda_new.groupby('date')['revenue'].sum().reset_index()\n",
    "avcha_new = reva_per_day_new.merge(orda_per_day_new,on='date')\n",
    "avcha_new['avch'] = avcha_new['revenue']/avcha_new['orders']\n",
    "revb_per_day_new = ordb_new.groupby('date')['revenue'].sum().reset_index()\n",
    "avchb_new = revb_per_day_new.merge(ordb_per_day_new,on='date')\n",
    "avchb_new['avch'] = avchb_new['revenue']/avchb_new['orders']"
   ]
  },
  {
   "cell_type": "code",
   "execution_count": 71,
   "id": "3aa7e2a3",
   "metadata": {},
   "outputs": [
    {
     "name": "stdout",
     "output_type": "stream",
     "text": [
      "A's mean average check - 83.34409768573194\n",
      "B's mean average check - 79.63247781334981\n"
     ]
    }
   ],
   "source": [
    "print(\"A's mean average check -\",avcha_new['avch'].mean())\n",
    "print(\"B's mean average check -\",avchb_new['avch'].mean())"
   ]
  },
  {
   "cell_type": "markdown",
   "id": "f4d133e8",
   "metadata": {},
   "source": [
    "Now its clear outliers had B so much in front of A's average check earlier, both overall and daily. Averages are about the same with B's average smaller by 4%"
   ]
  },
  {
   "cell_type": "markdown",
   "id": "a00b3910",
   "metadata": {},
   "source": [
    "- <b>H<sub>0</sub></b> - difference in average-checks between A and B are statistically insignificant (filtered data)\n",
    "- <b>H<sub>1</sub></b> - difference in average-checks between A and B are statistically significant (filtered data)\n",
    "- $\\alpha$ = 0.05"
   ]
  },
  {
   "cell_type": "code",
   "execution_count": 72,
   "id": "ed10fa6e",
   "metadata": {},
   "outputs": [
    {
     "name": "stdout",
     "output_type": "stream",
     "text": [
      "0.5868740020824459\n",
      "Fail to Reject H0\n"
     ]
    }
   ],
   "source": [
    "testing_average(avcha_new['avch'],avchb_new['avch'],alpha=0.05)"
   ]
  },
  {
   "cell_type": "markdown",
   "id": "7e9b97cb",
   "metadata": {},
   "source": [
    "Now it all makes sense. The averages for both overall and daily average-checks are pretty close, and indeed H0 is not rejected. Turns out it was indeed outliers that earlier, when calculating the same for the raw data, made the surprising result."
   ]
  },
  {
   "cell_type": "markdown",
   "id": "cfbe08f9",
   "metadata": {},
   "source": [
    "- **Make a decision based on the test results. The possible decisions are: 1. Stop the test, consider one of the groups the leader. 2. Stop the test, conclude that there is no difference between the groups. 3. Continue the test**"
   ]
  },
  {
   "cell_type": "markdown",
   "id": "b68b3e11",
   "metadata": {},
   "source": [
    "## Test Evaluation"
   ]
  },
  {
   "cell_type": "markdown",
   "id": "26bcf4de",
   "metadata": {},
   "source": [
    "- Average check\n",
    "<div>All results concerning average check were pretty ambiguous, besides one that turned out to be affected a lot by outliers. The plots for cumulative average check and \"B relative to A average check\" had the same motive - B had some single high order that made it go past A, and following that jump B's numbers were in a shallow dive whereas A's numbers were going up. The plot for cumulative revenue share the motive of the jump at 19/08 with the latters, however in its case the incline for B was better. But that was before filtering the data.</div>\n",
    "- Conversion Rate\n",
    "<div>all results showed B's in favor - the statistic checks for overall and daily conversion as well as the daily conversion plot. The overall conversion of B is bigger than A's conversion by 16%, which is pretty decisive</div>\n",
    "- Conclusion\n",
    "<p>A new feature was tested by the B group, while A group was the control.</p>\n",
    "<p>Results for both average check and conversion are consistent - No apparent effect of the new feature tested on average check; A clear and positive effect of it on conversion.</p>\n",
    "<p>Therefore, the test is adviced to stop. The information gathered is likely the right one. <b>B is good for conversion, but has no effect on average check.</b> That should be remembered before putting B into action </p>"
   ]
  }
 ],
 "metadata": {
  "ExecuteTimeLog": [
   {
    "duration": 1787,
    "start_time": "2022-02-07T21:58:49.586Z"
   },
   {
    "duration": 660,
    "start_time": "2022-02-07T21:58:51.376Z"
   },
   {
    "duration": 18,
    "start_time": "2022-02-07T21:58:52.040Z"
   },
   {
    "duration": 13,
    "start_time": "2022-02-07T21:58:52.062Z"
   },
   {
    "duration": 478,
    "start_time": "2022-02-07T21:58:52.078Z"
   },
   {
    "duration": -1696,
    "start_time": "2022-02-07T21:58:54.257Z"
   },
   {
    "duration": -1696,
    "start_time": "2022-02-07T21:58:54.259Z"
   },
   {
    "duration": -1696,
    "start_time": "2022-02-07T21:58:54.261Z"
   },
   {
    "duration": -1696,
    "start_time": "2022-02-07T21:58:54.263Z"
   },
   {
    "duration": -1696,
    "start_time": "2022-02-07T21:58:54.264Z"
   },
   {
    "duration": -1697,
    "start_time": "2022-02-07T21:58:54.266Z"
   },
   {
    "duration": -1698,
    "start_time": "2022-02-07T21:58:54.269Z"
   },
   {
    "duration": -1700,
    "start_time": "2022-02-07T21:58:54.272Z"
   },
   {
    "duration": -1701,
    "start_time": "2022-02-07T21:58:54.274Z"
   },
   {
    "duration": -1701,
    "start_time": "2022-02-07T21:58:54.276Z"
   },
   {
    "duration": -1702,
    "start_time": "2022-02-07T21:58:54.278Z"
   },
   {
    "duration": -1706,
    "start_time": "2022-02-07T21:58:54.284Z"
   },
   {
    "duration": -1707,
    "start_time": "2022-02-07T21:58:54.286Z"
   },
   {
    "duration": -1709,
    "start_time": "2022-02-07T21:58:54.289Z"
   },
   {
    "duration": -1710,
    "start_time": "2022-02-07T21:58:54.291Z"
   },
   {
    "duration": -1711,
    "start_time": "2022-02-07T21:58:54.294Z"
   },
   {
    "duration": -1712,
    "start_time": "2022-02-07T21:58:54.296Z"
   },
   {
    "duration": -1725,
    "start_time": "2022-02-07T21:58:54.311Z"
   },
   {
    "duration": -1727,
    "start_time": "2022-02-07T21:58:54.314Z"
   },
   {
    "duration": -1728,
    "start_time": "2022-02-07T21:58:54.316Z"
   },
   {
    "duration": -1732,
    "start_time": "2022-02-07T21:58:54.322Z"
   },
   {
    "duration": -1694,
    "start_time": "2022-02-07T21:58:54.325Z"
   },
   {
    "duration": -1694,
    "start_time": "2022-02-07T21:58:54.327Z"
   },
   {
    "duration": -1695,
    "start_time": "2022-02-07T21:58:54.329Z"
   },
   {
    "duration": -1694,
    "start_time": "2022-02-07T21:58:54.330Z"
   },
   {
    "duration": -1695,
    "start_time": "2022-02-07T21:58:54.333Z"
   },
   {
    "duration": -1696,
    "start_time": "2022-02-07T21:58:54.335Z"
   },
   {
    "duration": -1699,
    "start_time": "2022-02-07T21:58:54.340Z"
   },
   {
    "duration": -1700,
    "start_time": "2022-02-07T21:58:54.342Z"
   },
   {
    "duration": -1701,
    "start_time": "2022-02-07T21:58:54.345Z"
   },
   {
    "duration": -1702,
    "start_time": "2022-02-07T21:58:54.347Z"
   },
   {
    "duration": -1703,
    "start_time": "2022-02-07T21:58:54.349Z"
   },
   {
    "duration": -1703,
    "start_time": "2022-02-07T21:58:54.351Z"
   },
   {
    "duration": -1763,
    "start_time": "2022-02-07T21:58:54.412Z"
   },
   {
    "duration": -1766,
    "start_time": "2022-02-07T21:58:54.417Z"
   },
   {
    "duration": -1776,
    "start_time": "2022-02-07T21:58:54.428Z"
   },
   {
    "duration": -1776,
    "start_time": "2022-02-07T21:58:54.430Z"
   },
   {
    "duration": -1777,
    "start_time": "2022-02-07T21:58:54.433Z"
   },
   {
    "duration": -1779,
    "start_time": "2022-02-07T21:58:54.436Z"
   },
   {
    "duration": -1779,
    "start_time": "2022-02-07T21:58:54.438Z"
   },
   {
    "duration": -1780,
    "start_time": "2022-02-07T21:58:54.440Z"
   },
   {
    "duration": -1780,
    "start_time": "2022-02-07T21:58:54.442Z"
   },
   {
    "duration": -1781,
    "start_time": "2022-02-07T21:58:54.444Z"
   },
   {
    "duration": -1781,
    "start_time": "2022-02-07T21:58:54.446Z"
   },
   {
    "duration": -1782,
    "start_time": "2022-02-07T21:58:54.449Z"
   },
   {
    "duration": -1783,
    "start_time": "2022-02-07T21:58:54.451Z"
   },
   {
    "duration": -1783,
    "start_time": "2022-02-07T21:58:54.453Z"
   },
   {
    "duration": -1779,
    "start_time": "2022-02-07T21:58:54.513Z"
   },
   {
    "duration": -1780,
    "start_time": "2022-02-07T21:58:54.516Z"
   },
   {
    "duration": -1782,
    "start_time": "2022-02-07T21:58:54.521Z"
   },
   {
    "duration": -1783,
    "start_time": "2022-02-07T21:58:54.524Z"
   },
   {
    "duration": -1783,
    "start_time": "2022-02-07T21:58:54.526Z"
   },
   {
    "duration": -1783,
    "start_time": "2022-02-07T21:58:54.528Z"
   },
   {
    "duration": -1780,
    "start_time": "2022-02-07T21:58:54.530Z"
   },
   {
    "duration": -1780,
    "start_time": "2022-02-07T21:58:54.532Z"
   },
   {
    "duration": -1781,
    "start_time": "2022-02-07T21:58:54.535Z"
   },
   {
    "duration": -1781,
    "start_time": "2022-02-07T21:58:54.537Z"
   },
   {
    "duration": -1780,
    "start_time": "2022-02-07T21:58:54.539Z"
   },
   {
    "duration": -1780,
    "start_time": "2022-02-07T21:58:54.541Z"
   },
   {
    "duration": -1780,
    "start_time": "2022-02-07T21:58:54.544Z"
   },
   {
    "duration": -1780,
    "start_time": "2022-02-07T21:58:54.546Z"
   },
   {
    "duration": 6,
    "start_time": "2022-02-07T22:02:05.231Z"
   },
   {
    "duration": 25,
    "start_time": "2022-02-07T22:02:06.004Z"
   },
   {
    "duration": 31,
    "start_time": "2022-02-07T22:02:06.869Z"
   },
   {
    "duration": 11,
    "start_time": "2022-02-07T22:02:07.302Z"
   },
   {
    "duration": 382,
    "start_time": "2022-02-07T22:02:07.667Z"
   },
   {
    "duration": 13,
    "start_time": "2022-02-07T22:02:08.384Z"
   },
   {
    "duration": 5,
    "start_time": "2022-02-07T22:02:08.700Z"
   },
   {
    "duration": 10,
    "start_time": "2022-02-07T22:02:09.349Z"
   },
   {
    "duration": 12,
    "start_time": "2022-02-07T22:02:09.656Z"
   },
   {
    "duration": 370,
    "start_time": "2022-02-07T22:02:10.198Z"
   },
   {
    "duration": 16,
    "start_time": "2022-02-07T22:02:10.753Z"
   },
   {
    "duration": 23,
    "start_time": "2022-02-07T22:02:12.288Z"
   },
   {
    "duration": 7,
    "start_time": "2022-02-07T22:02:12.614Z"
   },
   {
    "duration": 14,
    "start_time": "2022-02-07T22:02:13.242Z"
   },
   {
    "duration": 9,
    "start_time": "2022-02-07T22:02:14.260Z"
   },
   {
    "duration": 14,
    "start_time": "2022-02-07T22:02:14.817Z"
   },
   {
    "duration": 11,
    "start_time": "2022-02-07T22:02:15.118Z"
   },
   {
    "duration": 330,
    "start_time": "2022-02-07T22:02:15.394Z"
   },
   {
    "duration": 13,
    "start_time": "2022-02-07T22:02:15.929Z"
   },
   {
    "duration": 11,
    "start_time": "2022-02-07T22:02:16.195Z"
   },
   {
    "duration": 7,
    "start_time": "2022-02-07T22:02:17.149Z"
   },
   {
    "duration": 362,
    "start_time": "2022-02-07T22:02:18.660Z"
   },
   {
    "duration": -1712,
    "start_time": "2022-02-07T22:02:20.736Z"
   },
   {
    "duration": 5,
    "start_time": "2022-02-07T22:02:19.699Z"
   },
   {
    "duration": 588,
    "start_time": "2022-02-07T22:02:21.029Z"
   },
   {
    "duration": 26,
    "start_time": "2022-02-07T22:02:21.999Z"
   },
   {
    "duration": 558,
    "start_time": "2022-02-07T22:02:22.383Z"
   },
   {
    "duration": 27,
    "start_time": "2022-02-07T22:02:23.361Z"
   },
   {
    "duration": 513,
    "start_time": "2022-02-07T22:02:23.662Z"
   },
   {
    "duration": 24,
    "start_time": "2022-02-07T22:02:24.485Z"
   },
   {
    "duration": -754,
    "start_time": "2022-02-08T18:31:53.424Z"
   },
   {
    "duration": -756,
    "start_time": "2022-02-08T18:31:53.428Z"
   },
   {
    "duration": -918,
    "start_time": "2022-02-08T18:31:53.591Z"
   },
   {
    "duration": -920,
    "start_time": "2022-02-08T18:31:53.595Z"
   },
   {
    "duration": -923,
    "start_time": "2022-02-08T18:31:53.599Z"
   },
   {
    "duration": -927,
    "start_time": "2022-02-08T18:31:53.605Z"
   },
   {
    "duration": -930,
    "start_time": "2022-02-08T18:31:53.609Z"
   },
   {
    "duration": 382,
    "start_time": "2022-02-08T18:31:53.426Z"
   },
   {
    "duration": 13,
    "start_time": "2022-02-08T18:31:53.797Z"
   },
   {
    "duration": 7,
    "start_time": "2022-02-08T18:31:53.805Z"
   },
   {
    "duration": 6,
    "start_time": "2022-02-08T18:31:53.807Z"
   },
   {
    "duration": 5,
    "start_time": "2022-02-08T18:31:53.810Z"
   },
   {
    "duration": 269,
    "start_time": "2022-02-08T18:31:54.450Z"
   },
   {
    "duration": 247,
    "start_time": "2022-02-08T18:31:54.476Z"
   },
   {
    "duration": -160,
    "start_time": "2022-02-08T18:31:54.885Z"
   },
   {
    "duration": -164,
    "start_time": "2022-02-08T18:31:54.890Z"
   },
   {
    "duration": -167,
    "start_time": "2022-02-08T18:31:54.894Z"
   },
   {
    "duration": -168,
    "start_time": "2022-02-08T18:31:54.897Z"
   },
   {
    "duration": -171,
    "start_time": "2022-02-08T18:31:54.902Z"
   },
   {
    "duration": -173,
    "start_time": "2022-02-08T18:31:54.905Z"
   },
   {
    "duration": -174,
    "start_time": "2022-02-08T18:31:54.908Z"
   },
   {
    "duration": -176,
    "start_time": "2022-02-08T18:31:54.911Z"
   },
   {
    "duration": -178,
    "start_time": "2022-02-08T18:31:54.915Z"
   },
   {
    "duration": -181,
    "start_time": "2022-02-08T18:31:54.919Z"
   },
   {
    "duration": -182,
    "start_time": "2022-02-08T18:31:54.922Z"
   },
   {
    "duration": -185,
    "start_time": "2022-02-08T18:31:54.926Z"
   },
   {
    "duration": -187,
    "start_time": "2022-02-08T18:31:54.929Z"
   },
   {
    "duration": -189,
    "start_time": "2022-02-08T18:31:54.933Z"
   },
   {
    "duration": -192,
    "start_time": "2022-02-08T18:31:54.937Z"
   },
   {
    "duration": -195,
    "start_time": "2022-02-08T18:31:54.941Z"
   },
   {
    "duration": -195,
    "start_time": "2022-02-08T18:31:54.943Z"
   },
   {
    "duration": -197,
    "start_time": "2022-02-08T18:31:54.947Z"
   },
   {
    "duration": -201,
    "start_time": "2022-02-08T18:31:54.952Z"
   },
   {
    "duration": -202,
    "start_time": "2022-02-08T18:31:54.955Z"
   },
   {
    "duration": -205,
    "start_time": "2022-02-08T18:31:54.959Z"
   },
   {
    "duration": -206,
    "start_time": "2022-02-08T18:31:54.962Z"
   },
   {
    "duration": -208,
    "start_time": "2022-02-08T18:31:54.965Z"
   },
   {
    "duration": -211,
    "start_time": "2022-02-08T18:31:54.970Z"
   },
   {
    "duration": -213,
    "start_time": "2022-02-08T18:31:54.973Z"
   },
   {
    "duration": 276,
    "start_time": "2022-02-08T18:31:54.763Z"
   },
   {
    "duration": -193,
    "start_time": "2022-02-08T18:31:55.235Z"
   },
   {
    "duration": -195,
    "start_time": "2022-02-08T18:31:55.239Z"
   },
   {
    "duration": -198,
    "start_time": "2022-02-08T18:31:55.243Z"
   },
   {
    "duration": -199,
    "start_time": "2022-02-08T18:31:55.245Z"
   },
   {
    "duration": -201,
    "start_time": "2022-02-08T18:31:55.249Z"
   },
   {
    "duration": -206,
    "start_time": "2022-02-08T18:31:55.255Z"
   },
   {
    "duration": -208,
    "start_time": "2022-02-08T18:31:55.258Z"
   },
   {
    "duration": -211,
    "start_time": "2022-02-08T18:31:55.262Z"
   },
   {
    "duration": -212,
    "start_time": "2022-02-08T18:31:55.265Z"
   },
   {
    "duration": -216,
    "start_time": "2022-02-08T18:31:55.270Z"
   },
   {
    "duration": -217,
    "start_time": "2022-02-08T18:31:55.273Z"
   },
   {
    "duration": -220,
    "start_time": "2022-02-08T18:31:55.277Z"
   },
   {
    "duration": -221,
    "start_time": "2022-02-08T18:31:55.279Z"
   },
   {
    "duration": -465,
    "start_time": "2022-02-08T18:31:55.525Z"
   },
   {
    "duration": -468,
    "start_time": "2022-02-08T18:31:55.529Z"
   },
   {
    "duration": -473,
    "start_time": "2022-02-08T18:31:55.536Z"
   },
   {
    "duration": -475,
    "start_time": "2022-02-08T18:31:55.539Z"
   },
   {
    "duration": -477,
    "start_time": "2022-02-08T18:31:55.542Z"
   },
   {
    "duration": -477,
    "start_time": "2022-02-08T18:31:55.544Z"
   },
   {
    "duration": -479,
    "start_time": "2022-02-08T18:31:55.547Z"
   },
   {
    "duration": -484,
    "start_time": "2022-02-08T18:31:55.553Z"
   },
   {
    "duration": -486,
    "start_time": "2022-02-08T18:31:55.557Z"
   },
   {
    "duration": -487,
    "start_time": "2022-02-08T18:31:55.559Z"
   },
   {
    "duration": -488,
    "start_time": "2022-02-08T18:31:55.562Z"
   },
   {
    "duration": 255,
    "start_time": "2022-02-08T18:31:55.105Z"
   },
   {
    "duration": -214,
    "start_time": "2022-02-08T18:31:55.576Z"
   },
   {
    "duration": 1538,
    "start_time": "2022-02-08T18:32:12.582Z"
   },
   {
    "duration": 724,
    "start_time": "2022-02-08T18:32:15.754Z"
   },
   {
    "duration": 13,
    "start_time": "2022-02-08T18:32:24.027Z"
   },
   {
    "duration": 7,
    "start_time": "2022-02-08T18:32:25.252Z"
   },
   {
    "duration": 392,
    "start_time": "2022-02-08T18:32:28.016Z"
   },
   {
    "duration": 10,
    "start_time": "2022-02-08T18:32:31.605Z"
   },
   {
    "duration": 17,
    "start_time": "2022-02-08T18:32:36.683Z"
   },
   {
    "duration": 25,
    "start_time": "2022-02-08T18:32:40.556Z"
   },
   {
    "duration": 10,
    "start_time": "2022-02-08T18:32:42.872Z"
   },
   {
    "duration": 303,
    "start_time": "2022-02-08T18:32:43.580Z"
   },
   {
    "duration": 16,
    "start_time": "2022-02-08T18:32:47.493Z"
   },
   {
    "duration": 6,
    "start_time": "2022-02-08T18:32:51.054Z"
   },
   {
    "duration": 9,
    "start_time": "2022-02-08T18:32:53.804Z"
   },
   {
    "duration": 12,
    "start_time": "2022-02-08T18:32:56.276Z"
   },
   {
    "duration": 349,
    "start_time": "2022-02-08T18:32:56.993Z"
   },
   {
    "duration": 17,
    "start_time": "2022-02-08T18:32:58.700Z"
   },
   {
    "duration": 26,
    "start_time": "2022-02-08T18:33:03.340Z"
   },
   {
    "duration": 7,
    "start_time": "2022-02-08T18:33:05.020Z"
   },
   {
    "duration": 9,
    "start_time": "2022-02-08T18:33:07.735Z"
   },
   {
    "duration": 7,
    "start_time": "2022-02-08T18:33:09.873Z"
   },
   {
    "duration": 11,
    "start_time": "2022-02-08T18:33:12.281Z"
   },
   {
    "duration": 9,
    "start_time": "2022-02-08T18:33:12.739Z"
   },
   {
    "duration": 287,
    "start_time": "2022-02-08T18:33:13.138Z"
   },
   {
    "duration": 17,
    "start_time": "2022-02-08T18:33:16.484Z"
   },
   {
    "duration": 11,
    "start_time": "2022-02-08T18:33:19.724Z"
   },
   {
    "duration": 7,
    "start_time": "2022-02-08T18:33:21.716Z"
   },
   {
    "duration": 302,
    "start_time": "2022-02-08T18:33:23.254Z"
   },
   {
    "duration": 274,
    "start_time": "2022-02-08T18:33:27.331Z"
   },
   {
    "duration": 6,
    "start_time": "2022-02-08T18:33:31.356Z"
   },
   {
    "duration": 704,
    "start_time": "2022-02-08T18:33:36.450Z"
   },
   {
    "duration": 23,
    "start_time": "2022-02-08T18:33:39.539Z"
   },
   {
    "duration": 548,
    "start_time": "2022-02-08T18:33:40.163Z"
   },
   {
    "duration": 25,
    "start_time": "2022-02-08T18:33:51.992Z"
   },
   {
    "duration": 515,
    "start_time": "2022-02-08T18:33:52.548Z"
   },
   {
    "duration": 22,
    "start_time": "2022-02-08T18:33:53.817Z"
   },
   {
    "duration": 704,
    "start_time": "2022-02-08T18:33:54.404Z"
   },
   {
    "duration": 501,
    "start_time": "2022-02-08T18:33:55.900Z"
   },
   {
    "duration": 9,
    "start_time": "2022-02-08T18:33:57.440Z"
   },
   {
    "duration": 11,
    "start_time": "2022-02-08T18:33:57.691Z"
   },
   {
    "duration": 11,
    "start_time": "2022-02-08T18:33:58.804Z"
   },
   {
    "duration": 521,
    "start_time": "2022-02-08T18:34:02.356Z"
   },
   {
    "duration": 8,
    "start_time": "2022-02-08T18:34:02.971Z"
   },
   {
    "duration": 5,
    "start_time": "2022-02-08T18:34:04.198Z"
   },
   {
    "duration": 7,
    "start_time": "2022-02-08T18:34:04.490Z"
   },
   {
    "duration": 7,
    "start_time": "2022-02-08T18:34:04.827Z"
   },
   {
    "duration": 73,
    "start_time": "2022-02-08T18:34:05.933Z"
   },
   {
    "duration": 8,
    "start_time": "2022-02-08T18:34:06.242Z"
   },
   {
    "duration": 5,
    "start_time": "2022-02-08T18:34:07.339Z"
   },
   {
    "duration": 11,
    "start_time": "2022-02-08T18:34:07.889Z"
   },
   {
    "duration": 23,
    "start_time": "2022-02-08T18:34:08.140Z"
   },
   {
    "duration": 6,
    "start_time": "2022-02-08T18:34:08.480Z"
   },
   {
    "duration": 7,
    "start_time": "2022-02-08T18:34:09.091Z"
   },
   {
    "duration": 14,
    "start_time": "2022-02-08T18:34:10.447Z"
   },
   {
    "duration": 22,
    "start_time": "2022-02-08T18:34:10.817Z"
   },
   {
    "duration": 8,
    "start_time": "2022-02-08T18:34:11.351Z"
   },
   {
    "duration": 23,
    "start_time": "2022-02-08T18:34:11.865Z"
   },
   {
    "duration": 27,
    "start_time": "2022-02-08T18:34:12.370Z"
   },
   {
    "duration": 7,
    "start_time": "2022-02-08T18:34:12.915Z"
   },
   {
    "duration": 7,
    "start_time": "2022-02-08T18:34:13.156Z"
   },
   {
    "duration": 6,
    "start_time": "2022-02-08T18:34:13.754Z"
   },
   {
    "duration": 5,
    "start_time": "2022-02-08T18:34:14.042Z"
   },
   {
    "duration": 8,
    "start_time": "2022-02-08T18:34:14.889Z"
   },
   {
    "duration": 5,
    "start_time": "2022-02-08T18:34:15.801Z"
   },
   {
    "duration": 23,
    "start_time": "2022-02-08T18:34:16.516Z"
   },
   {
    "duration": 6,
    "start_time": "2022-02-08T18:34:16.739Z"
   },
   {
    "duration": 8,
    "start_time": "2022-02-08T18:34:17.363Z"
   },
   {
    "duration": 921,
    "start_time": "2022-02-08T18:55:36.160Z"
   },
   {
    "duration": 895,
    "start_time": "2022-02-08T18:55:42.432Z"
   },
   {
    "duration": 588,
    "start_time": "2022-02-08T18:56:33.220Z"
   },
   {
    "duration": 596,
    "start_time": "2022-02-08T18:56:39.740Z"
   },
   {
    "duration": 7,
    "start_time": "2022-02-08T19:19:18.535Z"
   },
   {
    "duration": 287,
    "start_time": "2022-02-08T19:23:24.702Z"
   },
   {
    "duration": 387,
    "start_time": "2022-02-08T19:23:30.949Z"
   },
   {
    "duration": 7386,
    "start_time": "2022-02-08T19:24:48.427Z"
   },
   {
    "duration": 6,
    "start_time": "2022-02-08T19:25:58.444Z"
   },
   {
    "duration": 7,
    "start_time": "2022-02-08T19:26:21.266Z"
   },
   {
    "duration": 5,
    "start_time": "2022-02-08T19:27:38.234Z"
   },
   {
    "duration": 740,
    "start_time": "2022-02-08T19:51:12.781Z"
   },
   {
    "duration": 1482,
    "start_time": "2022-02-08T19:51:21.544Z"
   },
   {
    "duration": 756,
    "start_time": "2022-02-08T19:51:23.029Z"
   },
   {
    "duration": 12,
    "start_time": "2022-02-08T19:51:23.788Z"
   },
   {
    "duration": 9,
    "start_time": "2022-02-08T19:51:23.803Z"
   },
   {
    "duration": 7,
    "start_time": "2022-02-08T19:51:23.815Z"
   },
   {
    "duration": 7,
    "start_time": "2022-02-08T19:51:23.824Z"
   },
   {
    "duration": 34,
    "start_time": "2022-02-08T19:51:23.833Z"
   },
   {
    "duration": 20,
    "start_time": "2022-02-08T19:51:23.871Z"
   },
   {
    "duration": 9,
    "start_time": "2022-02-08T19:51:23.894Z"
   },
   {
    "duration": 502,
    "start_time": "2022-02-08T19:51:23.905Z"
   },
   {
    "duration": 478,
    "start_time": "2022-02-08T19:51:23.936Z"
   },
   {
    "duration": 468,
    "start_time": "2022-02-08T19:51:23.947Z"
   },
   {
    "duration": 456,
    "start_time": "2022-02-08T19:51:23.961Z"
   },
   {
    "duration": 451,
    "start_time": "2022-02-08T19:51:23.967Z"
   },
   {
    "duration": 446,
    "start_time": "2022-02-08T19:51:23.973Z"
   },
   {
    "duration": 443,
    "start_time": "2022-02-08T19:51:23.978Z"
   },
   {
    "duration": 441,
    "start_time": "2022-02-08T19:51:23.981Z"
   },
   {
    "duration": 438,
    "start_time": "2022-02-08T19:51:23.985Z"
   },
   {
    "duration": 436,
    "start_time": "2022-02-08T19:51:23.989Z"
   },
   {
    "duration": 432,
    "start_time": "2022-02-08T19:51:23.994Z"
   },
   {
    "duration": 430,
    "start_time": "2022-02-08T19:51:23.997Z"
   },
   {
    "duration": 427,
    "start_time": "2022-02-08T19:51:24.001Z"
   },
   {
    "duration": 425,
    "start_time": "2022-02-08T19:51:24.004Z"
   },
   {
    "duration": 424,
    "start_time": "2022-02-08T19:51:24.007Z"
   },
   {
    "duration": 421,
    "start_time": "2022-02-08T19:51:24.011Z"
   },
   {
    "duration": 418,
    "start_time": "2022-02-08T19:51:24.015Z"
   },
   {
    "duration": 415,
    "start_time": "2022-02-08T19:51:24.020Z"
   },
   {
    "duration": 413,
    "start_time": "2022-02-08T19:51:24.023Z"
   },
   {
    "duration": 412,
    "start_time": "2022-02-08T19:51:24.026Z"
   },
   {
    "duration": 410,
    "start_time": "2022-02-08T19:51:24.030Z"
   },
   {
    "duration": 408,
    "start_time": "2022-02-08T19:51:24.033Z"
   },
   {
    "duration": 406,
    "start_time": "2022-02-08T19:51:24.037Z"
   },
   {
    "duration": 403,
    "start_time": "2022-02-08T19:51:24.041Z"
   },
   {
    "duration": 401,
    "start_time": "2022-02-08T19:51:24.044Z"
   },
   {
    "duration": 411,
    "start_time": "2022-02-08T19:51:24.047Z"
   },
   {
    "duration": 410,
    "start_time": "2022-02-08T19:51:24.050Z"
   },
   {
    "duration": 407,
    "start_time": "2022-02-08T19:51:24.054Z"
   },
   {
    "duration": 405,
    "start_time": "2022-02-08T19:51:24.058Z"
   },
   {
    "duration": 394,
    "start_time": "2022-02-08T19:51:24.070Z"
   },
   {
    "duration": 392,
    "start_time": "2022-02-08T19:51:24.074Z"
   },
   {
    "duration": 388,
    "start_time": "2022-02-08T19:51:24.079Z"
   },
   {
    "duration": 386,
    "start_time": "2022-02-08T19:51:24.083Z"
   },
   {
    "duration": 383,
    "start_time": "2022-02-08T19:51:24.087Z"
   },
   {
    "duration": 381,
    "start_time": "2022-02-08T19:51:24.091Z"
   },
   {
    "duration": 379,
    "start_time": "2022-02-08T19:51:24.095Z"
   },
   {
    "duration": 376,
    "start_time": "2022-02-08T19:51:24.099Z"
   },
   {
    "duration": 363,
    "start_time": "2022-02-08T19:51:24.114Z"
   },
   {
    "duration": 360,
    "start_time": "2022-02-08T19:51:24.118Z"
   },
   {
    "duration": 358,
    "start_time": "2022-02-08T19:51:24.121Z"
   },
   {
    "duration": 356,
    "start_time": "2022-02-08T19:51:24.124Z"
   },
   {
    "duration": 354,
    "start_time": "2022-02-08T19:51:24.128Z"
   },
   {
    "duration": 352,
    "start_time": "2022-02-08T19:51:24.131Z"
   },
   {
    "duration": 349,
    "start_time": "2022-02-08T19:51:24.135Z"
   },
   {
    "duration": 348,
    "start_time": "2022-02-08T19:51:24.138Z"
   },
   {
    "duration": 345,
    "start_time": "2022-02-08T19:51:24.142Z"
   },
   {
    "duration": 343,
    "start_time": "2022-02-08T19:51:24.145Z"
   },
   {
    "duration": 340,
    "start_time": "2022-02-08T19:51:24.149Z"
   },
   {
    "duration": 339,
    "start_time": "2022-02-08T19:51:24.152Z"
   },
   {
    "duration": 337,
    "start_time": "2022-02-08T19:51:24.155Z"
   },
   {
    "duration": 334,
    "start_time": "2022-02-08T19:51:24.159Z"
   },
   {
    "duration": 332,
    "start_time": "2022-02-08T19:51:24.162Z"
   },
   {
    "duration": 393,
    "start_time": "2022-02-08T19:51:24.166Z"
   },
   {
    "duration": 383,
    "start_time": "2022-02-08T19:51:24.177Z"
   },
   {
    "duration": 380,
    "start_time": "2022-02-08T19:51:24.182Z"
   },
   {
    "duration": 377,
    "start_time": "2022-02-08T19:51:24.186Z"
   },
   {
    "duration": 375,
    "start_time": "2022-02-08T19:51:24.190Z"
   },
   {
    "duration": 11,
    "start_time": "2022-02-08T19:53:32.687Z"
   },
   {
    "duration": 14,
    "start_time": "2022-02-08T19:53:41.315Z"
   },
   {
    "duration": 1679,
    "start_time": "2022-02-08T19:53:54.418Z"
   },
   {
    "duration": 863,
    "start_time": "2022-02-08T19:53:56.099Z"
   },
   {
    "duration": 13,
    "start_time": "2022-02-08T19:53:56.965Z"
   },
   {
    "duration": 18,
    "start_time": "2022-02-08T19:53:56.981Z"
   },
   {
    "duration": 23,
    "start_time": "2022-02-08T19:53:57.002Z"
   },
   {
    "duration": 12,
    "start_time": "2022-02-08T19:53:57.028Z"
   },
   {
    "duration": 29,
    "start_time": "2022-02-08T19:53:57.043Z"
   },
   {
    "duration": 20,
    "start_time": "2022-02-08T19:53:57.076Z"
   },
   {
    "duration": 12,
    "start_time": "2022-02-08T19:53:57.100Z"
   },
   {
    "duration": 18,
    "start_time": "2022-02-08T19:53:57.115Z"
   },
   {
    "duration": 10,
    "start_time": "2022-02-08T19:53:57.160Z"
   },
   {
    "duration": 7,
    "start_time": "2022-02-08T19:53:57.172Z"
   },
   {
    "duration": 9,
    "start_time": "2022-02-08T19:53:57.182Z"
   },
   {
    "duration": 14,
    "start_time": "2022-02-08T19:53:57.193Z"
   },
   {
    "duration": 56,
    "start_time": "2022-02-08T19:53:57.209Z"
   },
   {
    "duration": 17,
    "start_time": "2022-02-08T19:53:57.267Z"
   },
   {
    "duration": 23,
    "start_time": "2022-02-08T19:53:57.286Z"
   },
   {
    "duration": 9,
    "start_time": "2022-02-08T19:53:57.311Z"
   },
   {
    "duration": 11,
    "start_time": "2022-02-08T19:53:57.363Z"
   },
   {
    "duration": 14,
    "start_time": "2022-02-08T19:53:57.377Z"
   },
   {
    "duration": 14,
    "start_time": "2022-02-08T19:53:57.393Z"
   },
   {
    "duration": 14,
    "start_time": "2022-02-08T19:53:57.410Z"
   },
   {
    "duration": 685,
    "start_time": "2022-02-08T19:53:57.460Z"
   },
   {
    "duration": 438,
    "start_time": "2022-02-08T19:53:57.712Z"
   },
   {
    "duration": 433,
    "start_time": "2022-02-08T19:53:57.719Z"
   },
   {
    "duration": 426,
    "start_time": "2022-02-08T19:53:57.728Z"
   },
   {
    "duration": 421,
    "start_time": "2022-02-08T19:53:57.735Z"
   },
   {
    "duration": 418,
    "start_time": "2022-02-08T19:53:57.740Z"
   },
   {
    "duration": 414,
    "start_time": "2022-02-08T19:53:57.746Z"
   },
   {
    "duration": 412,
    "start_time": "2022-02-08T19:53:57.750Z"
   },
   {
    "duration": 411,
    "start_time": "2022-02-08T19:53:57.753Z"
   },
   {
    "duration": 409,
    "start_time": "2022-02-08T19:53:57.757Z"
   },
   {
    "duration": 408,
    "start_time": "2022-02-08T19:53:57.760Z"
   },
   {
    "duration": 404,
    "start_time": "2022-02-08T19:53:57.765Z"
   },
   {
    "duration": 403,
    "start_time": "2022-02-08T19:53:57.768Z"
   },
   {
    "duration": 402,
    "start_time": "2022-02-08T19:53:57.771Z"
   },
   {
    "duration": 400,
    "start_time": "2022-02-08T19:53:57.775Z"
   },
   {
    "duration": 397,
    "start_time": "2022-02-08T19:53:57.779Z"
   },
   {
    "duration": 395,
    "start_time": "2022-02-08T19:53:57.783Z"
   },
   {
    "duration": 393,
    "start_time": "2022-02-08T19:53:57.787Z"
   },
   {
    "duration": 391,
    "start_time": "2022-02-08T19:53:57.790Z"
   },
   {
    "duration": 389,
    "start_time": "2022-02-08T19:53:57.794Z"
   },
   {
    "duration": 387,
    "start_time": "2022-02-08T19:53:57.798Z"
   },
   {
    "duration": 376,
    "start_time": "2022-02-08T19:53:57.810Z"
   },
   {
    "duration": 372,
    "start_time": "2022-02-08T19:53:57.816Z"
   },
   {
    "duration": 369,
    "start_time": "2022-02-08T19:53:57.820Z"
   },
   {
    "duration": 368,
    "start_time": "2022-02-08T19:53:57.823Z"
   },
   {
    "duration": 365,
    "start_time": "2022-02-08T19:53:57.828Z"
   },
   {
    "duration": 365,
    "start_time": "2022-02-08T19:53:57.831Z"
   },
   {
    "duration": 363,
    "start_time": "2022-02-08T19:53:57.835Z"
   },
   {
    "duration": 360,
    "start_time": "2022-02-08T19:53:57.839Z"
   },
   {
    "duration": 359,
    "start_time": "2022-02-08T19:53:57.842Z"
   },
   {
    "duration": 357,
    "start_time": "2022-02-08T19:53:57.846Z"
   },
   {
    "duration": 354,
    "start_time": "2022-02-08T19:53:57.850Z"
   },
   {
    "duration": 351,
    "start_time": "2022-02-08T19:53:57.854Z"
   },
   {
    "duration": 348,
    "start_time": "2022-02-08T19:53:57.857Z"
   },
   {
    "duration": 400,
    "start_time": "2022-02-08T19:53:57.861Z"
   },
   {
    "duration": 398,
    "start_time": "2022-02-08T19:53:57.865Z"
   },
   {
    "duration": 390,
    "start_time": "2022-02-08T19:53:57.875Z"
   },
   {
    "duration": 384,
    "start_time": "2022-02-08T19:53:57.883Z"
   },
   {
    "duration": 378,
    "start_time": "2022-02-08T19:53:57.892Z"
   },
   {
    "duration": 375,
    "start_time": "2022-02-08T19:53:57.897Z"
   },
   {
    "duration": 374,
    "start_time": "2022-02-08T19:53:57.900Z"
   },
   {
    "duration": 372,
    "start_time": "2022-02-08T19:53:57.904Z"
   },
   {
    "duration": 371,
    "start_time": "2022-02-08T19:53:57.907Z"
   },
   {
    "duration": 361,
    "start_time": "2022-02-08T19:53:57.919Z"
   },
   {
    "duration": 1589,
    "start_time": "2022-02-08T19:54:35.446Z"
   },
   {
    "duration": 1117,
    "start_time": "2022-02-08T19:54:37.039Z"
   },
   {
    "duration": 15,
    "start_time": "2022-02-08T19:54:38.159Z"
   },
   {
    "duration": 16,
    "start_time": "2022-02-08T19:54:38.177Z"
   },
   {
    "duration": 12,
    "start_time": "2022-02-08T19:54:38.195Z"
   },
   {
    "duration": 19,
    "start_time": "2022-02-08T19:54:38.210Z"
   },
   {
    "duration": 40,
    "start_time": "2022-02-08T19:54:38.231Z"
   },
   {
    "duration": 23,
    "start_time": "2022-02-08T19:54:38.276Z"
   },
   {
    "duration": 10,
    "start_time": "2022-02-08T19:54:38.303Z"
   },
   {
    "duration": 45,
    "start_time": "2022-02-08T19:54:38.316Z"
   },
   {
    "duration": 13,
    "start_time": "2022-02-08T19:54:38.364Z"
   },
   {
    "duration": 7,
    "start_time": "2022-02-08T19:54:38.380Z"
   },
   {
    "duration": 9,
    "start_time": "2022-02-08T19:54:38.390Z"
   },
   {
    "duration": 12,
    "start_time": "2022-02-08T19:54:38.401Z"
   },
   {
    "duration": 57,
    "start_time": "2022-02-08T19:54:38.416Z"
   },
   {
    "duration": 18,
    "start_time": "2022-02-08T19:54:38.476Z"
   },
   {
    "duration": 24,
    "start_time": "2022-02-08T19:54:38.497Z"
   },
   {
    "duration": 48,
    "start_time": "2022-02-08T19:54:38.523Z"
   },
   {
    "duration": 17,
    "start_time": "2022-02-08T19:54:38.574Z"
   },
   {
    "duration": 8,
    "start_time": "2022-02-08T19:54:38.593Z"
   },
   {
    "duration": 20,
    "start_time": "2022-02-08T19:54:38.603Z"
   },
   {
    "duration": 8,
    "start_time": "2022-02-08T19:54:38.626Z"
   },
   {
    "duration": 12,
    "start_time": "2022-02-08T19:54:38.661Z"
   },
   {
    "duration": 16,
    "start_time": "2022-02-08T19:54:38.676Z"
   },
   {
    "duration": 13,
    "start_time": "2022-02-08T19:54:38.695Z"
   },
   {
    "duration": 10,
    "start_time": "2022-02-08T19:54:38.710Z"
   },
   {
    "duration": 30,
    "start_time": "2022-02-08T19:54:38.760Z"
   },
   {
    "duration": 18,
    "start_time": "2022-02-08T19:54:38.792Z"
   },
   {
    "duration": 11,
    "start_time": "2022-02-08T19:54:38.812Z"
   },
   {
    "duration": 508,
    "start_time": "2022-02-08T19:54:38.825Z"
   },
   {
    "duration": 37,
    "start_time": "2022-02-08T19:54:39.335Z"
   },
   {
    "duration": 435,
    "start_time": "2022-02-08T19:54:39.374Z"
   },
   {
    "duration": 26,
    "start_time": "2022-02-08T19:54:39.811Z"
   },
   {
    "duration": 428,
    "start_time": "2022-02-08T19:54:39.840Z"
   },
   {
    "duration": 26,
    "start_time": "2022-02-08T19:54:40.270Z"
   },
   {
    "duration": 639,
    "start_time": "2022-02-08T19:54:40.299Z"
   },
   {
    "duration": 557,
    "start_time": "2022-02-08T19:54:40.941Z"
   },
   {
    "duration": 9,
    "start_time": "2022-02-08T19:54:41.500Z"
   },
   {
    "duration": 12,
    "start_time": "2022-02-08T19:54:41.512Z"
   },
   {
    "duration": 43,
    "start_time": "2022-02-08T19:54:41.527Z"
   },
   {
    "duration": 554,
    "start_time": "2022-02-08T19:54:41.573Z"
   },
   {
    "duration": 9,
    "start_time": "2022-02-08T19:54:42.129Z"
   },
   {
    "duration": 6,
    "start_time": "2022-02-08T19:54:42.160Z"
   },
   {
    "duration": 8,
    "start_time": "2022-02-08T19:54:42.169Z"
   },
   {
    "duration": 8,
    "start_time": "2022-02-08T19:54:42.180Z"
   },
   {
    "duration": 8,
    "start_time": "2022-02-08T19:54:42.191Z"
   },
   {
    "duration": 12,
    "start_time": "2022-02-08T19:54:42.201Z"
   },
   {
    "duration": 48,
    "start_time": "2022-02-08T19:54:42.216Z"
   },
   {
    "duration": 22,
    "start_time": "2022-02-08T19:54:42.267Z"
   },
   {
    "duration": 27,
    "start_time": "2022-02-08T19:54:42.292Z"
   },
   {
    "duration": 44,
    "start_time": "2022-02-08T19:54:42.322Z"
   },
   {
    "duration": 10,
    "start_time": "2022-02-08T19:54:42.369Z"
   },
   {
    "duration": 20,
    "start_time": "2022-02-08T19:54:42.381Z"
   },
   {
    "duration": 27,
    "start_time": "2022-02-08T19:54:42.404Z"
   },
   {
    "duration": 32,
    "start_time": "2022-02-08T19:54:42.434Z"
   },
   {
    "duration": 40,
    "start_time": "2022-02-08T19:54:42.468Z"
   },
   {
    "duration": 32,
    "start_time": "2022-02-08T19:54:42.510Z"
   },
   {
    "duration": 18,
    "start_time": "2022-02-08T19:54:42.545Z"
   },
   {
    "duration": 13,
    "start_time": "2022-02-08T19:54:42.565Z"
   },
   {
    "duration": 12,
    "start_time": "2022-02-08T19:54:42.581Z"
   },
   {
    "duration": 6,
    "start_time": "2022-02-08T19:54:42.596Z"
   },
   {
    "duration": 9,
    "start_time": "2022-02-08T19:54:42.604Z"
   },
   {
    "duration": 44,
    "start_time": "2022-02-08T19:54:42.616Z"
   },
   {
    "duration": 40,
    "start_time": "2022-02-08T19:54:42.663Z"
   },
   {
    "duration": 7,
    "start_time": "2022-02-08T19:54:42.706Z"
   },
   {
    "duration": 45,
    "start_time": "2022-02-08T19:54:42.715Z"
   },
   {
    "duration": 476,
    "start_time": "2022-02-08T20:00:26.342Z"
   },
   {
    "duration": 632,
    "start_time": "2022-02-08T20:00:34.685Z"
   },
   {
    "duration": 9,
    "start_time": "2022-02-08T20:50:26.102Z"
   },
   {
    "duration": 528,
    "start_time": "2022-02-08T20:50:34.802Z"
   },
   {
    "duration": 18,
    "start_time": "2022-02-08T20:50:39.240Z"
   },
   {
    "duration": 404,
    "start_time": "2022-02-08T20:51:16.826Z"
   },
   {
    "duration": 25,
    "start_time": "2022-02-08T20:51:46.384Z"
   },
   {
    "duration": 18,
    "start_time": "2022-02-08T20:52:00.529Z"
   },
   {
    "duration": 25,
    "start_time": "2022-02-08T20:52:13.686Z"
   },
   {
    "duration": 639,
    "start_time": "2022-02-08T20:53:03.312Z"
   },
   {
    "duration": 586,
    "start_time": "2022-02-08T20:53:23.209Z"
   },
   {
    "duration": 597,
    "start_time": "2022-02-08T20:53:48.972Z"
   },
   {
    "duration": 771,
    "start_time": "2022-02-08T20:53:56.101Z"
   },
   {
    "duration": 600,
    "start_time": "2022-02-08T20:54:05.587Z"
   },
   {
    "duration": 621,
    "start_time": "2022-02-08T20:54:19.292Z"
   },
   {
    "duration": 11,
    "start_time": "2022-02-08T20:54:40.522Z"
   },
   {
    "duration": 642,
    "start_time": "2022-02-08T20:54:42.798Z"
   },
   {
    "duration": 611,
    "start_time": "2022-02-08T20:55:35.138Z"
   },
   {
    "duration": 674,
    "start_time": "2022-02-08T20:56:42.888Z"
   },
   {
    "duration": 618,
    "start_time": "2022-02-08T20:57:07.233Z"
   },
   {
    "duration": 696,
    "start_time": "2022-02-08T20:57:34.909Z"
   },
   {
    "duration": 485,
    "start_time": "2022-02-08T21:07:29.382Z"
   },
   {
    "duration": 744,
    "start_time": "2022-02-08T21:10:43.410Z"
   },
   {
    "duration": 878,
    "start_time": "2022-02-08T21:11:44.756Z"
   },
   {
    "duration": 134,
    "start_time": "2022-02-08T21:58:36.953Z"
   },
   {
    "duration": 119,
    "start_time": "2022-02-08T22:01:38.864Z"
   },
   {
    "duration": 612,
    "start_time": "2022-02-08T22:20:42.736Z"
   },
   {
    "duration": 10,
    "start_time": "2022-02-08T22:27:50.467Z"
   },
   {
    "duration": 1474,
    "start_time": "2022-02-08T22:27:59.185Z"
   },
   {
    "duration": 830,
    "start_time": "2022-02-08T22:28:00.662Z"
   },
   {
    "duration": 13,
    "start_time": "2022-02-08T22:28:01.495Z"
   },
   {
    "duration": 17,
    "start_time": "2022-02-08T22:28:01.510Z"
   },
   {
    "duration": 16,
    "start_time": "2022-02-08T22:28:01.529Z"
   },
   {
    "duration": 9,
    "start_time": "2022-02-08T22:28:01.547Z"
   },
   {
    "duration": 17,
    "start_time": "2022-02-08T22:28:01.558Z"
   },
   {
    "duration": 23,
    "start_time": "2022-02-08T22:28:01.579Z"
   },
   {
    "duration": 15,
    "start_time": "2022-02-08T22:28:01.605Z"
   },
   {
    "duration": 13,
    "start_time": "2022-02-08T22:28:01.622Z"
   },
   {
    "duration": 13,
    "start_time": "2022-02-08T22:28:01.659Z"
   },
   {
    "duration": 6,
    "start_time": "2022-02-08T22:28:01.675Z"
   },
   {
    "duration": 14,
    "start_time": "2022-02-08T22:28:01.684Z"
   },
   {
    "duration": 16,
    "start_time": "2022-02-08T22:28:01.700Z"
   },
   {
    "duration": 53,
    "start_time": "2022-02-08T22:28:01.718Z"
   },
   {
    "duration": 18,
    "start_time": "2022-02-08T22:28:01.773Z"
   },
   {
    "duration": 24,
    "start_time": "2022-02-08T22:28:01.793Z"
   },
   {
    "duration": 41,
    "start_time": "2022-02-08T22:28:01.820Z"
   },
   {
    "duration": 11,
    "start_time": "2022-02-08T22:28:01.863Z"
   },
   {
    "duration": 16,
    "start_time": "2022-02-08T22:28:01.876Z"
   },
   {
    "duration": 15,
    "start_time": "2022-02-08T22:28:01.895Z"
   },
   {
    "duration": 9,
    "start_time": "2022-02-08T22:28:01.912Z"
   },
   {
    "duration": 41,
    "start_time": "2022-02-08T22:28:01.928Z"
   },
   {
    "duration": 16,
    "start_time": "2022-02-08T22:28:01.972Z"
   },
   {
    "duration": 10,
    "start_time": "2022-02-08T22:28:01.991Z"
   },
   {
    "duration": 13,
    "start_time": "2022-02-08T22:28:02.004Z"
   },
   {
    "duration": 52,
    "start_time": "2022-02-08T22:28:02.019Z"
   },
   {
    "duration": 17,
    "start_time": "2022-02-08T22:28:02.074Z"
   },
   {
    "duration": 7,
    "start_time": "2022-02-08T22:28:02.093Z"
   },
   {
    "duration": 512,
    "start_time": "2022-02-08T22:28:02.103Z"
   },
   {
    "duration": 42,
    "start_time": "2022-02-08T22:28:02.618Z"
   },
   {
    "duration": 423,
    "start_time": "2022-02-08T22:28:02.662Z"
   },
   {
    "duration": 25,
    "start_time": "2022-02-08T22:28:03.087Z"
   },
   {
    "duration": 397,
    "start_time": "2022-02-08T22:28:03.115Z"
   },
   {
    "duration": 44,
    "start_time": "2022-02-08T22:28:03.515Z"
   },
   {
    "duration": 575,
    "start_time": "2022-02-08T22:28:03.562Z"
   },
   {
    "duration": 642,
    "start_time": "2022-02-08T22:28:04.140Z"
   },
   {
    "duration": 8,
    "start_time": "2022-02-08T22:28:04.785Z"
   },
   {
    "duration": 16,
    "start_time": "2022-02-08T22:28:04.795Z"
   },
   {
    "duration": 11,
    "start_time": "2022-02-08T22:28:04.814Z"
   },
   {
    "duration": 902,
    "start_time": "2022-02-08T22:28:04.828Z"
   },
   {
    "duration": 9,
    "start_time": "2022-02-08T22:28:05.732Z"
   },
   {
    "duration": 5,
    "start_time": "2022-02-08T22:28:05.759Z"
   },
   {
    "duration": 6,
    "start_time": "2022-02-08T22:28:05.767Z"
   },
   {
    "duration": 9,
    "start_time": "2022-02-08T22:28:05.776Z"
   },
   {
    "duration": 98,
    "start_time": "2022-02-08T22:28:05.788Z"
   },
   {
    "duration": 12,
    "start_time": "2022-02-08T22:28:05.888Z"
   },
   {
    "duration": 8,
    "start_time": "2022-02-08T22:28:05.902Z"
   },
   {
    "duration": 18,
    "start_time": "2022-02-08T22:28:05.912Z"
   },
   {
    "duration": 45,
    "start_time": "2022-02-08T22:28:05.932Z"
   },
   {
    "duration": 8,
    "start_time": "2022-02-08T22:28:05.979Z"
   },
   {
    "duration": 8,
    "start_time": "2022-02-08T22:28:05.989Z"
   },
   {
    "duration": 12,
    "start_time": "2022-02-08T22:28:05.999Z"
   },
   {
    "duration": 56,
    "start_time": "2022-02-08T22:28:06.013Z"
   },
   {
    "duration": 7,
    "start_time": "2022-02-08T22:28:06.071Z"
   },
   {
    "duration": 20,
    "start_time": "2022-02-08T22:28:06.080Z"
   },
   {
    "duration": 28,
    "start_time": "2022-02-08T22:28:06.103Z"
   },
   {
    "duration": 6,
    "start_time": "2022-02-08T22:28:06.162Z"
   },
   {
    "duration": 7,
    "start_time": "2022-02-08T22:28:06.171Z"
   },
   {
    "duration": 7,
    "start_time": "2022-02-08T22:28:06.181Z"
   },
   {
    "duration": 8,
    "start_time": "2022-02-08T22:28:06.191Z"
   },
   {
    "duration": 9,
    "start_time": "2022-02-08T22:28:06.202Z"
   },
   {
    "duration": 8,
    "start_time": "2022-02-08T22:28:06.260Z"
   },
   {
    "duration": 26,
    "start_time": "2022-02-08T22:28:06.270Z"
   },
   {
    "duration": 5,
    "start_time": "2022-02-08T22:28:06.299Z"
   },
   {
    "duration": 10,
    "start_time": "2022-02-08T22:28:06.306Z"
   },
   {
    "duration": 11,
    "start_time": "2022-02-08T22:32:05.704Z"
   },
   {
    "duration": 1414,
    "start_time": "2022-02-08T22:33:58.114Z"
   },
   {
    "duration": 774,
    "start_time": "2022-02-08T22:33:59.531Z"
   },
   {
    "duration": 13,
    "start_time": "2022-02-08T22:34:00.308Z"
   },
   {
    "duration": 11,
    "start_time": "2022-02-08T22:34:00.324Z"
   },
   {
    "duration": 11,
    "start_time": "2022-02-08T22:34:00.337Z"
   },
   {
    "duration": 14,
    "start_time": "2022-02-08T22:34:00.350Z"
   },
   {
    "duration": 18,
    "start_time": "2022-02-08T22:34:00.366Z"
   },
   {
    "duration": 27,
    "start_time": "2022-02-08T22:34:00.388Z"
   },
   {
    "duration": 22,
    "start_time": "2022-02-08T22:34:00.418Z"
   },
   {
    "duration": 23,
    "start_time": "2022-02-08T22:34:00.442Z"
   },
   {
    "duration": 13,
    "start_time": "2022-02-08T22:34:00.467Z"
   },
   {
    "duration": 12,
    "start_time": "2022-02-08T22:34:00.482Z"
   },
   {
    "duration": 19,
    "start_time": "2022-02-08T22:34:00.496Z"
   },
   {
    "duration": 19,
    "start_time": "2022-02-08T22:34:00.518Z"
   },
   {
    "duration": 42,
    "start_time": "2022-02-08T22:34:00.540Z"
   },
   {
    "duration": 23,
    "start_time": "2022-02-08T22:34:00.585Z"
   },
   {
    "duration": 25,
    "start_time": "2022-02-08T22:34:00.610Z"
   },
   {
    "duration": 27,
    "start_time": "2022-02-08T22:34:00.638Z"
   },
   {
    "duration": 13,
    "start_time": "2022-02-08T22:34:00.669Z"
   },
   {
    "duration": 11,
    "start_time": "2022-02-08T22:34:00.686Z"
   },
   {
    "duration": 24,
    "start_time": "2022-02-08T22:34:00.700Z"
   },
   {
    "duration": 38,
    "start_time": "2022-02-08T22:34:00.728Z"
   },
   {
    "duration": 12,
    "start_time": "2022-02-08T22:34:00.775Z"
   },
   {
    "duration": 17,
    "start_time": "2022-02-08T22:34:00.792Z"
   },
   {
    "duration": 53,
    "start_time": "2022-02-08T22:34:00.812Z"
   },
   {
    "duration": 15,
    "start_time": "2022-02-08T22:34:00.868Z"
   },
   {
    "duration": 29,
    "start_time": "2022-02-08T22:34:00.885Z"
   },
   {
    "duration": 19,
    "start_time": "2022-02-08T22:34:00.916Z"
   },
   {
    "duration": 24,
    "start_time": "2022-02-08T22:34:00.937Z"
   },
   {
    "duration": 521,
    "start_time": "2022-02-08T22:34:00.964Z"
   },
   {
    "duration": 30,
    "start_time": "2022-02-08T22:34:01.488Z"
   },
   {
    "duration": 460,
    "start_time": "2022-02-08T22:34:01.520Z"
   },
   {
    "duration": 25,
    "start_time": "2022-02-08T22:34:01.982Z"
   },
   {
    "duration": 415,
    "start_time": "2022-02-08T22:34:02.010Z"
   },
   {
    "duration": 39,
    "start_time": "2022-02-08T22:34:02.427Z"
   },
   {
    "duration": 549,
    "start_time": "2022-02-08T22:34:02.468Z"
   },
   {
    "duration": 626,
    "start_time": "2022-02-08T22:34:03.020Z"
   },
   {
    "duration": 16,
    "start_time": "2022-02-08T22:34:03.648Z"
   },
   {
    "duration": 13,
    "start_time": "2022-02-08T22:34:03.666Z"
   },
   {
    "duration": 21,
    "start_time": "2022-02-08T22:34:03.682Z"
   },
   {
    "duration": 797,
    "start_time": "2022-02-08T22:34:03.705Z"
   },
   {
    "duration": 11,
    "start_time": "2022-02-08T22:34:04.505Z"
   },
   {
    "duration": 6,
    "start_time": "2022-02-08T22:34:04.519Z"
   },
   {
    "duration": 7,
    "start_time": "2022-02-08T22:34:04.558Z"
   },
   {
    "duration": 10,
    "start_time": "2022-02-08T22:34:04.568Z"
   },
   {
    "duration": 101,
    "start_time": "2022-02-08T22:34:04.580Z"
   },
   {
    "duration": 12,
    "start_time": "2022-02-08T22:34:04.683Z"
   },
   {
    "duration": 7,
    "start_time": "2022-02-08T22:34:04.697Z"
   },
   {
    "duration": 16,
    "start_time": "2022-02-08T22:34:04.706Z"
   },
   {
    "duration": 57,
    "start_time": "2022-02-08T22:34:04.724Z"
   },
   {
    "duration": 6,
    "start_time": "2022-02-08T22:34:04.783Z"
   },
   {
    "duration": 8,
    "start_time": "2022-02-08T22:34:04.791Z"
   },
   {
    "duration": 15,
    "start_time": "2022-02-08T22:34:04.801Z"
   },
   {
    "duration": 49,
    "start_time": "2022-02-08T22:34:04.819Z"
   },
   {
    "duration": 8,
    "start_time": "2022-02-08T22:34:04.870Z"
   },
   {
    "duration": 20,
    "start_time": "2022-02-08T22:34:04.880Z"
   },
   {
    "duration": 59,
    "start_time": "2022-02-08T22:34:04.902Z"
   },
   {
    "duration": 5,
    "start_time": "2022-02-08T22:34:04.963Z"
   },
   {
    "duration": 8,
    "start_time": "2022-02-08T22:34:04.971Z"
   },
   {
    "duration": 10,
    "start_time": "2022-02-08T22:34:04.981Z"
   },
   {
    "duration": 8,
    "start_time": "2022-02-08T22:34:04.993Z"
   },
   {
    "duration": 8,
    "start_time": "2022-02-08T22:34:05.003Z"
   },
   {
    "duration": 49,
    "start_time": "2022-02-08T22:34:05.013Z"
   },
   {
    "duration": 25,
    "start_time": "2022-02-08T22:34:05.065Z"
   },
   {
    "duration": 6,
    "start_time": "2022-02-08T22:34:05.092Z"
   },
   {
    "duration": 9,
    "start_time": "2022-02-08T22:34:05.100Z"
   },
   {
    "duration": 1518,
    "start_time": "2022-02-08T22:34:29.214Z"
   },
   {
    "duration": 815,
    "start_time": "2022-02-08T22:34:30.734Z"
   },
   {
    "duration": 14,
    "start_time": "2022-02-08T22:34:31.553Z"
   },
   {
    "duration": 11,
    "start_time": "2022-02-08T22:34:31.570Z"
   },
   {
    "duration": 12,
    "start_time": "2022-02-08T22:34:31.584Z"
   },
   {
    "duration": 10,
    "start_time": "2022-02-08T22:34:31.598Z"
   },
   {
    "duration": 51,
    "start_time": "2022-02-08T22:34:31.610Z"
   },
   {
    "duration": 22,
    "start_time": "2022-02-08T22:34:31.665Z"
   },
   {
    "duration": 14,
    "start_time": "2022-02-08T22:34:31.690Z"
   },
   {
    "duration": 12,
    "start_time": "2022-02-08T22:34:31.707Z"
   },
   {
    "duration": 41,
    "start_time": "2022-02-08T22:34:31.721Z"
   },
   {
    "duration": 11,
    "start_time": "2022-02-08T22:34:31.764Z"
   },
   {
    "duration": 12,
    "start_time": "2022-02-08T22:34:31.779Z"
   },
   {
    "duration": 20,
    "start_time": "2022-02-08T22:34:31.793Z"
   },
   {
    "duration": 44,
    "start_time": "2022-02-08T22:34:31.816Z"
   },
   {
    "duration": 18,
    "start_time": "2022-02-08T22:34:31.862Z"
   },
   {
    "duration": 23,
    "start_time": "2022-02-08T22:34:31.882Z"
   },
   {
    "duration": 7,
    "start_time": "2022-02-08T22:34:31.907Z"
   },
   {
    "duration": 47,
    "start_time": "2022-02-08T22:34:31.916Z"
   },
   {
    "duration": 7,
    "start_time": "2022-02-08T22:34:31.966Z"
   },
   {
    "duration": 16,
    "start_time": "2022-02-08T22:34:31.976Z"
   },
   {
    "duration": 16,
    "start_time": "2022-02-08T22:34:31.994Z"
   },
   {
    "duration": 16,
    "start_time": "2022-02-08T22:34:32.016Z"
   },
   {
    "duration": 35,
    "start_time": "2022-02-08T22:34:32.036Z"
   },
   {
    "duration": 13,
    "start_time": "2022-02-08T22:34:32.073Z"
   },
   {
    "duration": 12,
    "start_time": "2022-02-08T22:34:32.088Z"
   },
   {
    "duration": 23,
    "start_time": "2022-02-08T22:34:32.102Z"
   },
   {
    "duration": 47,
    "start_time": "2022-02-08T22:34:32.127Z"
   },
   {
    "duration": 8,
    "start_time": "2022-02-08T22:34:32.176Z"
   },
   {
    "duration": 511,
    "start_time": "2022-02-08T22:34:32.187Z"
   },
   {
    "duration": 27,
    "start_time": "2022-02-08T22:34:32.700Z"
   },
   {
    "duration": 439,
    "start_time": "2022-02-08T22:34:32.730Z"
   },
   {
    "duration": 25,
    "start_time": "2022-02-08T22:34:33.171Z"
   },
   {
    "duration": 411,
    "start_time": "2022-02-08T22:34:33.198Z"
   },
   {
    "duration": 28,
    "start_time": "2022-02-08T22:34:33.612Z"
   },
   {
    "duration": 576,
    "start_time": "2022-02-08T22:34:33.643Z"
   },
   {
    "duration": 625,
    "start_time": "2022-02-08T22:34:34.222Z"
   },
   {
    "duration": 12,
    "start_time": "2022-02-08T22:34:34.849Z"
   },
   {
    "duration": 13,
    "start_time": "2022-02-08T22:34:34.863Z"
   },
   {
    "duration": 10,
    "start_time": "2022-02-08T22:34:34.879Z"
   },
   {
    "duration": 945,
    "start_time": "2022-02-08T22:34:34.892Z"
   },
   {
    "duration": 20,
    "start_time": "2022-02-08T22:34:35.840Z"
   },
   {
    "duration": 9,
    "start_time": "2022-02-08T22:34:35.869Z"
   },
   {
    "duration": 19,
    "start_time": "2022-02-08T22:34:35.880Z"
   },
   {
    "duration": 14,
    "start_time": "2022-02-08T22:34:35.901Z"
   },
   {
    "duration": 91,
    "start_time": "2022-02-08T22:34:35.917Z"
   },
   {
    "duration": 17,
    "start_time": "2022-02-08T22:34:36.010Z"
   },
   {
    "duration": 27,
    "start_time": "2022-02-08T22:34:36.032Z"
   },
   {
    "duration": 16,
    "start_time": "2022-02-08T22:34:36.062Z"
   },
   {
    "duration": 36,
    "start_time": "2022-02-08T22:34:36.081Z"
   },
   {
    "duration": 9,
    "start_time": "2022-02-08T22:34:36.120Z"
   },
   {
    "duration": 29,
    "start_time": "2022-02-08T22:34:36.132Z"
   },
   {
    "duration": 16,
    "start_time": "2022-02-08T22:34:36.164Z"
   },
   {
    "duration": 26,
    "start_time": "2022-02-08T22:34:36.183Z"
   },
   {
    "duration": 49,
    "start_time": "2022-02-08T22:34:36.212Z"
   },
   {
    "duration": 27,
    "start_time": "2022-02-08T22:34:36.263Z"
   },
   {
    "duration": 33,
    "start_time": "2022-02-08T22:34:36.292Z"
   },
   {
    "duration": 32,
    "start_time": "2022-02-08T22:34:36.327Z"
   },
   {
    "duration": 10,
    "start_time": "2022-02-08T22:34:36.362Z"
   },
   {
    "duration": 15,
    "start_time": "2022-02-08T22:34:36.374Z"
   },
   {
    "duration": 9,
    "start_time": "2022-02-08T22:34:36.391Z"
   },
   {
    "duration": 8,
    "start_time": "2022-02-08T22:34:36.402Z"
   },
   {
    "duration": 6,
    "start_time": "2022-02-08T22:34:36.413Z"
   },
   {
    "duration": 66,
    "start_time": "2022-02-08T22:34:36.421Z"
   },
   {
    "duration": 7,
    "start_time": "2022-02-08T22:34:36.489Z"
   },
   {
    "duration": 13,
    "start_time": "2022-02-08T22:34:36.499Z"
   },
   {
    "duration": 1742,
    "start_time": "2022-02-08T22:59:34.181Z"
   },
   {
    "duration": 808,
    "start_time": "2022-02-08T22:59:35.926Z"
   },
   {
    "duration": 13,
    "start_time": "2022-02-08T22:59:36.737Z"
   },
   {
    "duration": 12,
    "start_time": "2022-02-08T22:59:36.753Z"
   },
   {
    "duration": 11,
    "start_time": "2022-02-08T22:59:36.767Z"
   },
   {
    "duration": 8,
    "start_time": "2022-02-08T22:59:36.781Z"
   },
   {
    "duration": 17,
    "start_time": "2022-02-08T22:59:36.792Z"
   },
   {
    "duration": 57,
    "start_time": "2022-02-08T22:59:36.813Z"
   },
   {
    "duration": 12,
    "start_time": "2022-02-08T22:59:36.873Z"
   },
   {
    "duration": 15,
    "start_time": "2022-02-08T22:59:36.888Z"
   },
   {
    "duration": 15,
    "start_time": "2022-02-08T22:59:36.906Z"
   },
   {
    "duration": 37,
    "start_time": "2022-02-08T22:59:36.923Z"
   },
   {
    "duration": 10,
    "start_time": "2022-02-08T22:59:36.962Z"
   },
   {
    "duration": 13,
    "start_time": "2022-02-08T22:59:36.974Z"
   },
   {
    "duration": 16,
    "start_time": "2022-02-08T22:59:36.990Z"
   },
   {
    "duration": 58,
    "start_time": "2022-02-08T22:59:37.008Z"
   },
   {
    "duration": 25,
    "start_time": "2022-02-08T22:59:37.068Z"
   },
   {
    "duration": 7,
    "start_time": "2022-02-08T22:59:37.095Z"
   },
   {
    "duration": 10,
    "start_time": "2022-02-08T22:59:37.105Z"
   },
   {
    "duration": 46,
    "start_time": "2022-02-08T22:59:37.118Z"
   },
   {
    "duration": 15,
    "start_time": "2022-02-08T22:59:37.167Z"
   },
   {
    "duration": 22,
    "start_time": "2022-02-08T22:59:37.185Z"
   },
   {
    "duration": 12,
    "start_time": "2022-02-08T22:59:37.213Z"
   },
   {
    "duration": 41,
    "start_time": "2022-02-08T22:59:37.230Z"
   },
   {
    "duration": 12,
    "start_time": "2022-02-08T22:59:37.274Z"
   },
   {
    "duration": 15,
    "start_time": "2022-02-08T22:59:37.289Z"
   },
   {
    "duration": 28,
    "start_time": "2022-02-08T22:59:37.306Z"
   },
   {
    "duration": 38,
    "start_time": "2022-02-08T22:59:37.337Z"
   },
   {
    "duration": 10,
    "start_time": "2022-02-08T22:59:37.377Z"
   },
   {
    "duration": 579,
    "start_time": "2022-02-08T22:59:37.391Z"
   },
   {
    "duration": 34,
    "start_time": "2022-02-08T22:59:37.973Z"
   },
   {
    "duration": 467,
    "start_time": "2022-02-08T22:59:38.009Z"
   },
   {
    "duration": 26,
    "start_time": "2022-02-08T22:59:38.478Z"
   },
   {
    "duration": 475,
    "start_time": "2022-02-08T22:59:38.506Z"
   },
   {
    "duration": 26,
    "start_time": "2022-02-08T22:59:38.983Z"
   },
   {
    "duration": 694,
    "start_time": "2022-02-08T22:59:39.012Z"
   },
   {
    "duration": 696,
    "start_time": "2022-02-08T22:59:39.709Z"
   },
   {
    "duration": 8,
    "start_time": "2022-02-08T22:59:40.408Z"
   },
   {
    "duration": 14,
    "start_time": "2022-02-08T22:59:40.419Z"
   },
   {
    "duration": 15,
    "start_time": "2022-02-08T22:59:40.460Z"
   },
   {
    "duration": 996,
    "start_time": "2022-02-08T22:59:40.478Z"
   },
   {
    "duration": 11,
    "start_time": "2022-02-08T22:59:41.477Z"
   },
   {
    "duration": 12,
    "start_time": "2022-02-08T22:59:41.491Z"
   },
   {
    "duration": 10,
    "start_time": "2022-02-08T22:59:41.506Z"
   },
   {
    "duration": 42,
    "start_time": "2022-02-08T22:59:41.520Z"
   },
   {
    "duration": 84,
    "start_time": "2022-02-08T22:59:41.564Z"
   },
   {
    "duration": 12,
    "start_time": "2022-02-08T22:59:41.659Z"
   },
   {
    "duration": 8,
    "start_time": "2022-02-08T22:59:41.674Z"
   },
   {
    "duration": 21,
    "start_time": "2022-02-08T22:59:41.685Z"
   },
   {
    "duration": 67,
    "start_time": "2022-02-08T22:59:41.710Z"
   },
   {
    "duration": 6,
    "start_time": "2022-02-08T22:59:41.780Z"
   },
   {
    "duration": 13,
    "start_time": "2022-02-08T22:59:41.789Z"
   },
   {
    "duration": 14,
    "start_time": "2022-02-08T22:59:41.805Z"
   },
   {
    "duration": 54,
    "start_time": "2022-02-08T22:59:41.821Z"
   },
   {
    "duration": 9,
    "start_time": "2022-02-08T22:59:41.879Z"
   },
   {
    "duration": 27,
    "start_time": "2022-02-08T22:59:41.890Z"
   },
   {
    "duration": 68,
    "start_time": "2022-02-08T22:59:41.920Z"
   },
   {
    "duration": 7,
    "start_time": "2022-02-08T22:59:41.992Z"
   },
   {
    "duration": 9,
    "start_time": "2022-02-08T22:59:42.002Z"
   },
   {
    "duration": 45,
    "start_time": "2022-02-08T22:59:42.015Z"
   },
   {
    "duration": 6,
    "start_time": "2022-02-08T22:59:42.063Z"
   },
   {
    "duration": 19,
    "start_time": "2022-02-08T22:59:42.072Z"
   },
   {
    "duration": 6,
    "start_time": "2022-02-08T22:59:42.094Z"
   },
   {
    "duration": 26,
    "start_time": "2022-02-08T22:59:42.102Z"
   },
   {
    "duration": 7,
    "start_time": "2022-02-08T22:59:42.158Z"
   },
   {
    "duration": 11,
    "start_time": "2022-02-08T22:59:42.168Z"
   },
   {
    "duration": 590,
    "start_time": "2022-02-08T23:25:17.384Z"
   },
   {
    "duration": 1145,
    "start_time": "2022-02-08T23:29:54.753Z"
   },
   {
    "duration": 1096,
    "start_time": "2022-02-08T23:30:51.909Z"
   },
   {
    "duration": 1497,
    "start_time": "2022-02-08T23:55:38.726Z"
   },
   {
    "duration": 745,
    "start_time": "2022-02-08T23:55:40.225Z"
   },
   {
    "duration": 12,
    "start_time": "2022-02-08T23:55:40.973Z"
   },
   {
    "duration": 9,
    "start_time": "2022-02-08T23:55:40.989Z"
   },
   {
    "duration": 11,
    "start_time": "2022-02-08T23:55:41.000Z"
   },
   {
    "duration": 9,
    "start_time": "2022-02-08T23:55:41.014Z"
   },
   {
    "duration": 18,
    "start_time": "2022-02-08T23:55:41.060Z"
   },
   {
    "duration": 22,
    "start_time": "2022-02-08T23:55:41.082Z"
   },
   {
    "duration": 10,
    "start_time": "2022-02-08T23:55:41.108Z"
   },
   {
    "duration": 47,
    "start_time": "2022-02-08T23:55:41.121Z"
   },
   {
    "duration": 14,
    "start_time": "2022-02-08T23:55:41.170Z"
   },
   {
    "duration": 5,
    "start_time": "2022-02-08T23:55:41.187Z"
   },
   {
    "duration": 10,
    "start_time": "2022-02-08T23:55:41.194Z"
   },
   {
    "duration": 13,
    "start_time": "2022-02-08T23:55:41.206Z"
   },
   {
    "duration": 16,
    "start_time": "2022-02-08T23:55:41.260Z"
   },
   {
    "duration": 17,
    "start_time": "2022-02-08T23:55:41.278Z"
   },
   {
    "duration": 22,
    "start_time": "2022-02-08T23:55:41.297Z"
   },
   {
    "duration": 43,
    "start_time": "2022-02-08T23:55:41.322Z"
   },
   {
    "duration": 10,
    "start_time": "2022-02-08T23:55:41.367Z"
   },
   {
    "duration": 9,
    "start_time": "2022-02-08T23:55:41.379Z"
   },
   {
    "duration": 10,
    "start_time": "2022-02-08T23:55:41.390Z"
   },
   {
    "duration": 8,
    "start_time": "2022-02-08T23:55:41.403Z"
   },
   {
    "duration": 11,
    "start_time": "2022-02-08T23:55:41.462Z"
   },
   {
    "duration": 15,
    "start_time": "2022-02-08T23:55:41.476Z"
   },
   {
    "duration": 11,
    "start_time": "2022-02-08T23:55:41.493Z"
   },
   {
    "duration": 7,
    "start_time": "2022-02-08T23:55:41.507Z"
   },
   {
    "duration": 55,
    "start_time": "2022-02-08T23:55:41.517Z"
   },
   {
    "duration": 17,
    "start_time": "2022-02-08T23:55:41.575Z"
   },
   {
    "duration": 6,
    "start_time": "2022-02-08T23:55:41.595Z"
   },
   {
    "duration": 509,
    "start_time": "2022-02-08T23:55:41.603Z"
   },
   {
    "duration": 29,
    "start_time": "2022-02-08T23:55:42.114Z"
   },
   {
    "duration": 428,
    "start_time": "2022-02-08T23:55:42.160Z"
   },
   {
    "duration": 27,
    "start_time": "2022-02-08T23:55:42.591Z"
   },
   {
    "duration": 458,
    "start_time": "2022-02-08T23:55:42.621Z"
   },
   {
    "duration": 28,
    "start_time": "2022-02-08T23:55:43.081Z"
   },
   {
    "duration": 596,
    "start_time": "2022-02-08T23:55:43.111Z"
   },
   {
    "duration": 1084,
    "start_time": "2022-02-08T23:55:43.709Z"
   },
   {
    "duration": 650,
    "start_time": "2022-02-08T23:55:44.795Z"
   },
   {
    "duration": 17,
    "start_time": "2022-02-08T23:55:45.449Z"
   },
   {
    "duration": 11,
    "start_time": "2022-02-08T23:55:45.469Z"
   },
   {
    "duration": 12,
    "start_time": "2022-02-08T23:55:45.483Z"
   },
   {
    "duration": 919,
    "start_time": "2022-02-08T23:55:45.497Z"
   },
   {
    "duration": 10,
    "start_time": "2022-02-08T23:55:46.420Z"
   },
   {
    "duration": 27,
    "start_time": "2022-02-08T23:55:46.433Z"
   },
   {
    "duration": 8,
    "start_time": "2022-02-08T23:55:46.464Z"
   },
   {
    "duration": 12,
    "start_time": "2022-02-08T23:55:46.475Z"
   },
   {
    "duration": 8,
    "start_time": "2022-02-08T23:55:46.490Z"
   },
   {
    "duration": 13,
    "start_time": "2022-02-08T23:55:46.500Z"
   },
   {
    "duration": 49,
    "start_time": "2022-02-08T23:55:46.516Z"
   },
   {
    "duration": 17,
    "start_time": "2022-02-08T23:55:46.568Z"
   },
   {
    "duration": 27,
    "start_time": "2022-02-08T23:55:46.588Z"
   },
   {
    "duration": 5,
    "start_time": "2022-02-08T23:55:46.617Z"
   },
   {
    "duration": 7,
    "start_time": "2022-02-08T23:55:46.660Z"
   },
   {
    "duration": 12,
    "start_time": "2022-02-08T23:55:46.669Z"
   },
   {
    "duration": 23,
    "start_time": "2022-02-08T23:55:46.683Z"
   },
   {
    "duration": 51,
    "start_time": "2022-02-08T23:55:46.708Z"
   },
   {
    "duration": 25,
    "start_time": "2022-02-08T23:55:46.761Z"
   },
   {
    "duration": 70,
    "start_time": "2022-02-08T23:55:46.790Z"
   },
   {
    "duration": 7,
    "start_time": "2022-02-08T23:55:46.863Z"
   },
   {
    "duration": 8,
    "start_time": "2022-02-08T23:55:46.873Z"
   },
   {
    "duration": 6,
    "start_time": "2022-02-08T23:55:46.884Z"
   },
   {
    "duration": 7,
    "start_time": "2022-02-08T23:55:46.893Z"
   },
   {
    "duration": 61,
    "start_time": "2022-02-08T23:55:46.903Z"
   },
   {
    "duration": 7,
    "start_time": "2022-02-08T23:55:46.966Z"
   },
   {
    "duration": 33,
    "start_time": "2022-02-08T23:55:46.975Z"
   },
   {
    "duration": 6,
    "start_time": "2022-02-08T23:55:47.011Z"
   },
   {
    "duration": 43,
    "start_time": "2022-02-08T23:55:47.019Z"
   },
   {
    "duration": 1491,
    "start_time": "2022-02-08T23:55:56.459Z"
   },
   {
    "duration": 777,
    "start_time": "2022-02-08T23:55:57.953Z"
   },
   {
    "duration": 13,
    "start_time": "2022-02-08T23:55:58.733Z"
   },
   {
    "duration": 8,
    "start_time": "2022-02-08T23:55:58.749Z"
   },
   {
    "duration": 10,
    "start_time": "2022-02-08T23:55:58.760Z"
   },
   {
    "duration": 8,
    "start_time": "2022-02-08T23:55:58.772Z"
   },
   {
    "duration": 19,
    "start_time": "2022-02-08T23:55:58.782Z"
   },
   {
    "duration": 20,
    "start_time": "2022-02-08T23:55:58.805Z"
   },
   {
    "duration": 8,
    "start_time": "2022-02-08T23:55:58.861Z"
   },
   {
    "duration": 11,
    "start_time": "2022-02-08T23:55:58.872Z"
   },
   {
    "duration": 12,
    "start_time": "2022-02-08T23:55:58.886Z"
   },
   {
    "duration": 5,
    "start_time": "2022-02-08T23:55:58.901Z"
   },
   {
    "duration": 52,
    "start_time": "2022-02-08T23:55:58.909Z"
   },
   {
    "duration": 14,
    "start_time": "2022-02-08T23:55:58.963Z"
   },
   {
    "duration": 14,
    "start_time": "2022-02-08T23:55:58.980Z"
   },
   {
    "duration": 17,
    "start_time": "2022-02-08T23:55:58.996Z"
   },
   {
    "duration": 63,
    "start_time": "2022-02-08T23:55:59.016Z"
   },
   {
    "duration": 7,
    "start_time": "2022-02-08T23:55:59.081Z"
   },
   {
    "duration": 11,
    "start_time": "2022-02-08T23:55:59.090Z"
   },
   {
    "duration": 7,
    "start_time": "2022-02-08T23:55:59.103Z"
   },
   {
    "duration": 48,
    "start_time": "2022-02-08T23:55:59.113Z"
   },
   {
    "duration": 10,
    "start_time": "2022-02-08T23:55:59.163Z"
   },
   {
    "duration": 11,
    "start_time": "2022-02-08T23:55:59.180Z"
   },
   {
    "duration": 13,
    "start_time": "2022-02-08T23:55:59.195Z"
   },
   {
    "duration": 56,
    "start_time": "2022-02-08T23:55:59.211Z"
   },
   {
    "duration": 9,
    "start_time": "2022-02-08T23:55:59.269Z"
   },
   {
    "duration": 23,
    "start_time": "2022-02-08T23:55:59.280Z"
   },
   {
    "duration": 20,
    "start_time": "2022-02-08T23:55:59.310Z"
   },
   {
    "duration": 30,
    "start_time": "2022-02-08T23:55:59.333Z"
   },
   {
    "duration": 494,
    "start_time": "2022-02-08T23:55:59.365Z"
   },
   {
    "duration": 28,
    "start_time": "2022-02-08T23:55:59.861Z"
   },
   {
    "duration": 442,
    "start_time": "2022-02-08T23:55:59.891Z"
   },
   {
    "duration": 34,
    "start_time": "2022-02-08T23:56:00.335Z"
   },
   {
    "duration": 413,
    "start_time": "2022-02-08T23:56:00.371Z"
   },
   {
    "duration": 28,
    "start_time": "2022-02-08T23:56:00.786Z"
   },
   {
    "duration": 588,
    "start_time": "2022-02-08T23:56:00.816Z"
   },
   {
    "duration": 1152,
    "start_time": "2022-02-08T23:56:01.407Z"
   },
   {
    "duration": 602,
    "start_time": "2022-02-08T23:56:02.562Z"
   },
   {
    "duration": 10,
    "start_time": "2022-02-08T23:56:03.167Z"
   },
   {
    "duration": 13,
    "start_time": "2022-02-08T23:56:03.181Z"
   },
   {
    "duration": 12,
    "start_time": "2022-02-08T23:56:03.197Z"
   },
   {
    "duration": 1008,
    "start_time": "2022-02-08T23:56:03.212Z"
   },
   {
    "duration": 12,
    "start_time": "2022-02-08T23:56:04.223Z"
   },
   {
    "duration": 28,
    "start_time": "2022-02-08T23:56:04.238Z"
   },
   {
    "duration": 8,
    "start_time": "2022-02-08T23:56:04.269Z"
   },
   {
    "duration": 15,
    "start_time": "2022-02-08T23:56:04.280Z"
   },
   {
    "duration": 9,
    "start_time": "2022-02-08T23:56:04.297Z"
   },
   {
    "duration": 52,
    "start_time": "2022-02-08T23:56:04.309Z"
   },
   {
    "duration": 8,
    "start_time": "2022-02-08T23:56:04.364Z"
   },
   {
    "duration": 17,
    "start_time": "2022-02-08T23:56:04.375Z"
   },
   {
    "duration": 65,
    "start_time": "2022-02-08T23:56:04.394Z"
   },
   {
    "duration": 8,
    "start_time": "2022-02-08T23:56:04.462Z"
   },
   {
    "duration": 9,
    "start_time": "2022-02-08T23:56:04.473Z"
   },
   {
    "duration": 14,
    "start_time": "2022-02-08T23:56:04.485Z"
   },
   {
    "duration": 66,
    "start_time": "2022-02-08T23:56:04.502Z"
   },
   {
    "duration": 8,
    "start_time": "2022-02-08T23:56:04.571Z"
   },
   {
    "duration": 20,
    "start_time": "2022-02-08T23:56:04.582Z"
   },
   {
    "duration": 64,
    "start_time": "2022-02-08T23:56:04.605Z"
   },
   {
    "duration": 10,
    "start_time": "2022-02-08T23:56:04.672Z"
   },
   {
    "duration": 10,
    "start_time": "2022-02-08T23:56:04.684Z"
   },
   {
    "duration": 7,
    "start_time": "2022-02-08T23:56:04.696Z"
   },
   {
    "duration": 7,
    "start_time": "2022-02-08T23:56:04.705Z"
   },
   {
    "duration": 47,
    "start_time": "2022-02-08T23:56:04.715Z"
   },
   {
    "duration": 7,
    "start_time": "2022-02-08T23:56:04.765Z"
   },
   {
    "duration": 28,
    "start_time": "2022-02-08T23:56:04.775Z"
   },
   {
    "duration": 7,
    "start_time": "2022-02-08T23:56:04.806Z"
   },
   {
    "duration": 52,
    "start_time": "2022-02-08T23:56:04.816Z"
   },
   {
    "duration": 432,
    "start_time": "2022-02-09T00:02:18.847Z"
   },
   {
    "duration": 1621,
    "start_time": "2022-02-09T00:07:16.490Z"
   },
   {
    "duration": 787,
    "start_time": "2022-02-09T00:07:18.114Z"
   },
   {
    "duration": 14,
    "start_time": "2022-02-09T00:07:18.904Z"
   },
   {
    "duration": 8,
    "start_time": "2022-02-09T00:07:18.921Z"
   },
   {
    "duration": 12,
    "start_time": "2022-02-09T00:07:18.932Z"
   },
   {
    "duration": 8,
    "start_time": "2022-02-09T00:07:18.947Z"
   },
   {
    "duration": 23,
    "start_time": "2022-02-09T00:07:18.957Z"
   },
   {
    "duration": 22,
    "start_time": "2022-02-09T00:07:18.984Z"
   },
   {
    "duration": 8,
    "start_time": "2022-02-09T00:07:19.009Z"
   },
   {
    "duration": 46,
    "start_time": "2022-02-09T00:07:19.020Z"
   },
   {
    "duration": 11,
    "start_time": "2022-02-09T00:07:19.068Z"
   },
   {
    "duration": 9,
    "start_time": "2022-02-09T00:07:19.082Z"
   },
   {
    "duration": 10,
    "start_time": "2022-02-09T00:07:19.094Z"
   },
   {
    "duration": 55,
    "start_time": "2022-02-09T00:07:19.107Z"
   },
   {
    "duration": 18,
    "start_time": "2022-02-09T00:07:19.165Z"
   },
   {
    "duration": 17,
    "start_time": "2022-02-09T00:07:19.185Z"
   },
   {
    "duration": 60,
    "start_time": "2022-02-09T00:07:19.204Z"
   },
   {
    "duration": 9,
    "start_time": "2022-02-09T00:07:19.267Z"
   },
   {
    "duration": 14,
    "start_time": "2022-02-09T00:07:19.278Z"
   },
   {
    "duration": 9,
    "start_time": "2022-02-09T00:07:19.294Z"
   },
   {
    "duration": 55,
    "start_time": "2022-02-09T00:07:19.307Z"
   },
   {
    "duration": 11,
    "start_time": "2022-02-09T00:07:19.365Z"
   },
   {
    "duration": 13,
    "start_time": "2022-02-09T00:07:19.384Z"
   },
   {
    "duration": 18,
    "start_time": "2022-02-09T00:07:19.401Z"
   },
   {
    "duration": 14,
    "start_time": "2022-02-09T00:07:19.461Z"
   },
   {
    "duration": 11,
    "start_time": "2022-02-09T00:07:19.478Z"
   },
   {
    "duration": 26,
    "start_time": "2022-02-09T00:07:19.492Z"
   },
   {
    "duration": 40,
    "start_time": "2022-02-09T00:07:19.521Z"
   },
   {
    "duration": 6,
    "start_time": "2022-02-09T00:07:19.564Z"
   },
   {
    "duration": 518,
    "start_time": "2022-02-09T00:07:19.572Z"
   },
   {
    "duration": 28,
    "start_time": "2022-02-09T00:07:20.092Z"
   },
   {
    "duration": 433,
    "start_time": "2022-02-09T00:07:20.123Z"
   },
   {
    "duration": 25,
    "start_time": "2022-02-09T00:07:20.560Z"
   },
   {
    "duration": 403,
    "start_time": "2022-02-09T00:07:20.588Z"
   },
   {
    "duration": 30,
    "start_time": "2022-02-09T00:07:20.995Z"
   },
   {
    "duration": 597,
    "start_time": "2022-02-09T00:07:21.028Z"
   },
   {
    "duration": 1111,
    "start_time": "2022-02-09T00:07:21.628Z"
   },
   {
    "duration": 633,
    "start_time": "2022-02-09T00:07:22.741Z"
   },
   {
    "duration": 9,
    "start_time": "2022-02-09T00:07:23.376Z"
   },
   {
    "duration": 13,
    "start_time": "2022-02-09T00:07:23.388Z"
   },
   {
    "duration": 14,
    "start_time": "2022-02-09T00:07:23.403Z"
   },
   {
    "duration": 1005,
    "start_time": "2022-02-09T00:07:23.461Z"
   },
   {
    "duration": 23,
    "start_time": "2022-02-09T00:07:24.477Z"
   },
   {
    "duration": 97,
    "start_time": "2022-02-09T00:07:24.503Z"
   },
   {
    "duration": 100,
    "start_time": "2022-02-09T00:07:24.604Z"
   },
   {
    "duration": 19,
    "start_time": "2022-02-09T00:07:24.708Z"
   },
   {
    "duration": 7,
    "start_time": "2022-02-09T00:07:24.729Z"
   },
   {
    "duration": 11,
    "start_time": "2022-02-09T00:07:24.739Z"
   },
   {
    "duration": 6,
    "start_time": "2022-02-09T00:07:24.753Z"
   },
   {
    "duration": 16,
    "start_time": "2022-02-09T00:07:24.761Z"
   },
   {
    "duration": 26,
    "start_time": "2022-02-09T00:07:24.780Z"
   },
   {
    "duration": 6,
    "start_time": "2022-02-09T00:07:24.808Z"
   },
   {
    "duration": 8,
    "start_time": "2022-02-09T00:07:24.816Z"
   },
   {
    "duration": 44,
    "start_time": "2022-02-09T00:07:24.826Z"
   },
   {
    "duration": 19,
    "start_time": "2022-02-09T00:07:24.872Z"
   },
   {
    "duration": 8,
    "start_time": "2022-02-09T00:07:24.893Z"
   },
   {
    "duration": 55,
    "start_time": "2022-02-09T00:07:24.904Z"
   },
   {
    "duration": 31,
    "start_time": "2022-02-09T00:07:24.962Z"
   },
   {
    "duration": 5,
    "start_time": "2022-02-09T00:07:24.995Z"
   },
   {
    "duration": 8,
    "start_time": "2022-02-09T00:07:25.003Z"
   },
   {
    "duration": 8,
    "start_time": "2022-02-09T00:07:25.013Z"
   },
   {
    "duration": 5,
    "start_time": "2022-02-09T00:07:25.060Z"
   },
   {
    "duration": 8,
    "start_time": "2022-02-09T00:07:25.068Z"
   },
   {
    "duration": 11,
    "start_time": "2022-02-09T00:07:25.078Z"
   },
   {
    "duration": 25,
    "start_time": "2022-02-09T00:07:25.092Z"
   },
   {
    "duration": 43,
    "start_time": "2022-02-09T00:07:25.120Z"
   },
   {
    "duration": 10,
    "start_time": "2022-02-09T00:07:25.165Z"
   },
   {
    "duration": 454,
    "start_time": "2022-02-09T00:09:30.076Z"
   },
   {
    "duration": 1312,
    "start_time": "2022-02-09T16:25:26.434Z"
   },
   {
    "duration": 281,
    "start_time": "2022-02-09T16:25:27.748Z"
   },
   {
    "duration": 10,
    "start_time": "2022-02-09T16:25:28.032Z"
   },
   {
    "duration": 23,
    "start_time": "2022-02-09T16:25:28.044Z"
   },
   {
    "duration": 15,
    "start_time": "2022-02-09T16:25:28.069Z"
   },
   {
    "duration": 14,
    "start_time": "2022-02-09T16:25:28.086Z"
   },
   {
    "duration": 14,
    "start_time": "2022-02-09T16:25:28.102Z"
   },
   {
    "duration": 13,
    "start_time": "2022-02-09T16:25:28.119Z"
   },
   {
    "duration": 29,
    "start_time": "2022-02-09T16:25:28.134Z"
   },
   {
    "duration": 21,
    "start_time": "2022-02-09T16:25:28.165Z"
   },
   {
    "duration": 15,
    "start_time": "2022-02-09T16:25:28.188Z"
   },
   {
    "duration": 15,
    "start_time": "2022-02-09T16:25:28.205Z"
   },
   {
    "duration": 19,
    "start_time": "2022-02-09T16:25:28.222Z"
   },
   {
    "duration": 28,
    "start_time": "2022-02-09T16:25:28.243Z"
   },
   {
    "duration": 20,
    "start_time": "2022-02-09T16:25:28.273Z"
   },
   {
    "duration": 15,
    "start_time": "2022-02-09T16:25:28.295Z"
   },
   {
    "duration": 26,
    "start_time": "2022-02-09T16:25:28.312Z"
   },
   {
    "duration": 5,
    "start_time": "2022-02-09T16:25:28.339Z"
   },
   {
    "duration": 28,
    "start_time": "2022-02-09T16:25:28.346Z"
   },
   {
    "duration": 10,
    "start_time": "2022-02-09T16:25:28.376Z"
   },
   {
    "duration": 27,
    "start_time": "2022-02-09T16:25:28.389Z"
   },
   {
    "duration": 23,
    "start_time": "2022-02-09T16:25:28.418Z"
   },
   {
    "duration": 27,
    "start_time": "2022-02-09T16:25:28.445Z"
   },
   {
    "duration": 25,
    "start_time": "2022-02-09T16:25:28.475Z"
   },
   {
    "duration": 11,
    "start_time": "2022-02-09T16:25:28.502Z"
   },
   {
    "duration": 24,
    "start_time": "2022-02-09T16:25:28.514Z"
   },
   {
    "duration": 26,
    "start_time": "2022-02-09T16:25:28.540Z"
   },
   {
    "duration": 19,
    "start_time": "2022-02-09T16:25:28.568Z"
   },
   {
    "duration": 13,
    "start_time": "2022-02-09T16:25:28.589Z"
   },
   {
    "duration": 358,
    "start_time": "2022-02-09T16:25:28.604Z"
   },
   {
    "duration": 15,
    "start_time": "2022-02-09T16:25:28.964Z"
   },
   {
    "duration": 367,
    "start_time": "2022-02-09T16:25:28.981Z"
   },
   {
    "duration": 18,
    "start_time": "2022-02-09T16:25:29.351Z"
   },
   {
    "duration": 296,
    "start_time": "2022-02-09T16:25:29.372Z"
   },
   {
    "duration": 21,
    "start_time": "2022-02-09T16:25:29.670Z"
   },
   {
    "duration": 465,
    "start_time": "2022-02-09T16:25:29.709Z"
   },
   {
    "duration": 836,
    "start_time": "2022-02-09T16:25:30.176Z"
   },
   {
    "duration": 510,
    "start_time": "2022-02-09T16:25:31.014Z"
   },
   {
    "duration": 6,
    "start_time": "2022-02-09T16:25:31.525Z"
   },
   {
    "duration": 20,
    "start_time": "2022-02-09T16:25:31.533Z"
   },
   {
    "duration": 23,
    "start_time": "2022-02-09T16:25:31.555Z"
   },
   {
    "duration": 691,
    "start_time": "2022-02-09T16:25:31.580Z"
   },
   {
    "duration": 8,
    "start_time": "2022-02-09T16:25:32.273Z"
   },
   {
    "duration": 5,
    "start_time": "2022-02-09T16:25:32.283Z"
   },
   {
    "duration": 19,
    "start_time": "2022-02-09T16:25:32.290Z"
   },
   {
    "duration": 17,
    "start_time": "2022-02-09T16:25:32.311Z"
   },
   {
    "duration": 13,
    "start_time": "2022-02-09T16:25:32.331Z"
   },
   {
    "duration": 40,
    "start_time": "2022-02-09T16:25:32.347Z"
   },
   {
    "duration": 32,
    "start_time": "2022-02-09T16:25:32.389Z"
   },
   {
    "duration": 32,
    "start_time": "2022-02-09T16:25:32.423Z"
   },
   {
    "duration": 33,
    "start_time": "2022-02-09T16:25:32.457Z"
   },
   {
    "duration": 27,
    "start_time": "2022-02-09T16:25:32.492Z"
   },
   {
    "duration": 20,
    "start_time": "2022-02-09T16:25:32.521Z"
   },
   {
    "duration": 26,
    "start_time": "2022-02-09T16:25:32.543Z"
   },
   {
    "duration": 33,
    "start_time": "2022-02-09T16:25:32.571Z"
   },
   {
    "duration": 8,
    "start_time": "2022-02-09T16:25:32.607Z"
   },
   {
    "duration": 40,
    "start_time": "2022-02-09T16:25:32.617Z"
   },
   {
    "duration": 19,
    "start_time": "2022-02-09T16:25:32.659Z"
   },
   {
    "duration": 7,
    "start_time": "2022-02-09T16:25:32.680Z"
   },
   {
    "duration": 19,
    "start_time": "2022-02-09T16:25:32.689Z"
   },
   {
    "duration": 10,
    "start_time": "2022-02-09T16:25:32.711Z"
   },
   {
    "duration": 10,
    "start_time": "2022-02-09T16:25:32.723Z"
   },
   {
    "duration": 31,
    "start_time": "2022-02-09T16:25:32.736Z"
   },
   {
    "duration": 61,
    "start_time": "2022-02-09T16:25:32.769Z"
   },
   {
    "duration": 26,
    "start_time": "2022-02-09T16:25:32.832Z"
   },
   {
    "duration": 22,
    "start_time": "2022-02-09T16:25:32.860Z"
   },
   {
    "duration": 15,
    "start_time": "2022-02-09T16:25:32.884Z"
   },
   {
    "duration": 451,
    "start_time": "2022-02-09T16:33:48.989Z"
   },
   {
    "duration": 52,
    "start_time": "2022-02-09T16:42:33.221Z"
   },
   {
    "duration": 12,
    "start_time": "2022-02-09T16:43:31.832Z"
   },
   {
    "duration": 6,
    "start_time": "2022-02-09T16:44:17.880Z"
   },
   {
    "duration": 7,
    "start_time": "2022-02-09T16:44:50.013Z"
   },
   {
    "duration": 420,
    "start_time": "2022-02-09T18:37:36.850Z"
   },
   {
    "duration": 1487,
    "start_time": "2022-02-09T18:37:47.506Z"
   },
   {
    "duration": 769,
    "start_time": "2022-02-09T18:37:48.995Z"
   },
   {
    "duration": 13,
    "start_time": "2022-02-09T18:37:49.767Z"
   },
   {
    "duration": 8,
    "start_time": "2022-02-09T18:37:49.782Z"
   },
   {
    "duration": 9,
    "start_time": "2022-02-09T18:37:49.792Z"
   },
   {
    "duration": 9,
    "start_time": "2022-02-09T18:37:49.803Z"
   },
   {
    "duration": 59,
    "start_time": "2022-02-09T18:37:49.815Z"
   },
   {
    "duration": 20,
    "start_time": "2022-02-09T18:37:49.878Z"
   },
   {
    "duration": 9,
    "start_time": "2022-02-09T18:37:49.901Z"
   },
   {
    "duration": 11,
    "start_time": "2022-02-09T18:37:49.912Z"
   },
   {
    "duration": 10,
    "start_time": "2022-02-09T18:37:49.960Z"
   },
   {
    "duration": 7,
    "start_time": "2022-02-09T18:37:49.972Z"
   },
   {
    "duration": 10,
    "start_time": "2022-02-09T18:37:49.981Z"
   },
   {
    "duration": 13,
    "start_time": "2022-02-09T18:37:49.994Z"
   },
   {
    "duration": 55,
    "start_time": "2022-02-09T18:37:50.010Z"
   },
   {
    "duration": 17,
    "start_time": "2022-02-09T18:37:50.067Z"
   },
   {
    "duration": 23,
    "start_time": "2022-02-09T18:37:50.086Z"
   },
   {
    "duration": 7,
    "start_time": "2022-02-09T18:37:50.112Z"
   },
   {
    "duration": 10,
    "start_time": "2022-02-09T18:37:50.158Z"
   },
   {
    "duration": 6,
    "start_time": "2022-02-09T18:37:50.171Z"
   },
   {
    "duration": 11,
    "start_time": "2022-02-09T18:37:50.180Z"
   },
   {
    "duration": 8,
    "start_time": "2022-02-09T18:37:50.193Z"
   },
   {
    "duration": 53,
    "start_time": "2022-02-09T18:37:50.207Z"
   },
   {
    "duration": 14,
    "start_time": "2022-02-09T18:37:50.264Z"
   },
   {
    "duration": 12,
    "start_time": "2022-02-09T18:37:50.281Z"
   },
   {
    "duration": 14,
    "start_time": "2022-02-09T18:37:50.295Z"
   },
   {
    "duration": 50,
    "start_time": "2022-02-09T18:37:50.311Z"
   },
   {
    "duration": 17,
    "start_time": "2022-02-09T18:37:50.364Z"
   },
   {
    "duration": 9,
    "start_time": "2022-02-09T18:37:50.384Z"
   },
   {
    "duration": 522,
    "start_time": "2022-02-09T18:37:50.395Z"
   },
   {
    "duration": 508,
    "start_time": "2022-02-09T18:37:50.920Z"
   },
   {
    "duration": 41,
    "start_time": "2022-02-09T18:37:51.431Z"
   },
   {
    "duration": 423,
    "start_time": "2022-02-09T18:37:51.475Z"
   },
   {
    "duration": 26,
    "start_time": "2022-02-09T18:37:51.900Z"
   },
   {
    "duration": 420,
    "start_time": "2022-02-09T18:37:51.928Z"
   },
   {
    "duration": 31,
    "start_time": "2022-02-09T18:37:52.350Z"
   },
   {
    "duration": 549,
    "start_time": "2022-02-09T18:37:52.384Z"
   },
   {
    "duration": 1144,
    "start_time": "2022-02-09T18:37:52.935Z"
   },
   {
    "duration": 683,
    "start_time": "2022-02-09T18:37:54.083Z"
   },
   {
    "duration": 8,
    "start_time": "2022-02-09T18:37:54.768Z"
   },
   {
    "duration": 12,
    "start_time": "2022-02-09T18:37:54.778Z"
   },
   {
    "duration": 10,
    "start_time": "2022-02-09T18:37:54.792Z"
   },
   {
    "duration": 819,
    "start_time": "2022-02-09T18:37:54.804Z"
   },
   {
    "duration": 8,
    "start_time": "2022-02-09T18:37:55.625Z"
   },
   {
    "duration": 24,
    "start_time": "2022-02-09T18:37:55.636Z"
   },
   {
    "duration": 9,
    "start_time": "2022-02-09T18:37:55.662Z"
   },
   {
    "duration": 14,
    "start_time": "2022-02-09T18:37:55.673Z"
   },
   {
    "duration": 7,
    "start_time": "2022-02-09T18:37:55.690Z"
   },
   {
    "duration": 11,
    "start_time": "2022-02-09T18:37:55.700Z"
   },
   {
    "duration": 227,
    "start_time": "2022-02-09T18:37:55.714Z"
   },
   {
    "duration": 19,
    "start_time": "2022-02-09T18:37:55.944Z"
   },
   {
    "duration": 17,
    "start_time": "2022-02-09T18:37:55.965Z"
   },
   {
    "duration": 6,
    "start_time": "2022-02-09T18:37:55.984Z"
   },
   {
    "duration": 17,
    "start_time": "2022-02-09T18:37:55.992Z"
   },
   {
    "duration": 62,
    "start_time": "2022-02-09T18:37:56.011Z"
   },
   {
    "duration": 11,
    "start_time": "2022-02-09T18:37:56.075Z"
   },
   {
    "duration": 8,
    "start_time": "2022-02-09T18:37:56.089Z"
   },
   {
    "duration": 14,
    "start_time": "2022-02-09T18:37:56.100Z"
   },
   {
    "duration": 53,
    "start_time": "2022-02-09T18:37:56.116Z"
   },
   {
    "duration": 8,
    "start_time": "2022-02-09T18:37:56.172Z"
   },
   {
    "duration": 22,
    "start_time": "2022-02-09T18:37:56.182Z"
   },
   {
    "duration": 63,
    "start_time": "2022-02-09T18:37:56.207Z"
   },
   {
    "duration": 6,
    "start_time": "2022-02-09T18:37:56.273Z"
   },
   {
    "duration": 9,
    "start_time": "2022-02-09T18:37:56.282Z"
   },
   {
    "duration": 10,
    "start_time": "2022-02-09T18:37:56.294Z"
   },
   {
    "duration": 8,
    "start_time": "2022-02-09T18:37:56.306Z"
   },
   {
    "duration": 45,
    "start_time": "2022-02-09T18:37:56.317Z"
   },
   {
    "duration": 231,
    "start_time": "2022-02-09T18:37:56.369Z"
   },
   {
    "duration": 6,
    "start_time": "2022-02-09T18:37:56.602Z"
   },
   {
    "duration": 51,
    "start_time": "2022-02-09T18:37:56.611Z"
   },
   {
    "duration": 6,
    "start_time": "2022-02-09T18:37:56.665Z"
   },
   {
    "duration": 8,
    "start_time": "2022-02-09T18:37:56.674Z"
   },
   {
    "duration": 12,
    "start_time": "2022-02-09T18:38:55.643Z"
   },
   {
    "duration": 1585,
    "start_time": "2022-02-09T18:43:54.551Z"
   },
   {
    "duration": 937,
    "start_time": "2022-02-09T18:43:56.139Z"
   },
   {
    "duration": 12,
    "start_time": "2022-02-09T18:43:57.080Z"
   },
   {
    "duration": 15,
    "start_time": "2022-02-09T18:43:57.094Z"
   },
   {
    "duration": 10,
    "start_time": "2022-02-09T18:43:57.112Z"
   },
   {
    "duration": 8,
    "start_time": "2022-02-09T18:43:57.125Z"
   },
   {
    "duration": 48,
    "start_time": "2022-02-09T18:43:57.135Z"
   },
   {
    "duration": 31,
    "start_time": "2022-02-09T18:43:57.188Z"
   },
   {
    "duration": 36,
    "start_time": "2022-02-09T18:43:57.223Z"
   },
   {
    "duration": 14,
    "start_time": "2022-02-09T18:43:57.266Z"
   },
   {
    "duration": 14,
    "start_time": "2022-02-09T18:43:57.282Z"
   },
   {
    "duration": 7,
    "start_time": "2022-02-09T18:43:57.299Z"
   },
   {
    "duration": 11,
    "start_time": "2022-02-09T18:43:57.308Z"
   },
   {
    "duration": 53,
    "start_time": "2022-02-09T18:43:57.321Z"
   },
   {
    "duration": 18,
    "start_time": "2022-02-09T18:43:57.376Z"
   },
   {
    "duration": 18,
    "start_time": "2022-02-09T18:43:57.397Z"
   },
   {
    "duration": 56,
    "start_time": "2022-02-09T18:43:57.418Z"
   },
   {
    "duration": 8,
    "start_time": "2022-02-09T18:43:57.477Z"
   },
   {
    "duration": 12,
    "start_time": "2022-02-09T18:43:57.487Z"
   },
   {
    "duration": 7,
    "start_time": "2022-02-09T18:43:57.501Z"
   },
   {
    "duration": 49,
    "start_time": "2022-02-09T18:43:57.511Z"
   },
   {
    "duration": 9,
    "start_time": "2022-02-09T18:43:57.562Z"
   },
   {
    "duration": 11,
    "start_time": "2022-02-09T18:43:57.577Z"
   },
   {
    "duration": 17,
    "start_time": "2022-02-09T18:43:57.592Z"
   },
   {
    "duration": 55,
    "start_time": "2022-02-09T18:43:57.611Z"
   },
   {
    "duration": 14,
    "start_time": "2022-02-09T18:43:57.669Z"
   },
   {
    "duration": 25,
    "start_time": "2022-02-09T18:43:57.685Z"
   },
   {
    "duration": 18,
    "start_time": "2022-02-09T18:43:57.713Z"
   },
   {
    "duration": 5,
    "start_time": "2022-02-09T18:43:57.760Z"
   },
   {
    "duration": 492,
    "start_time": "2022-02-09T18:43:57.767Z"
   },
   {
    "duration": 510,
    "start_time": "2022-02-09T18:43:58.261Z"
   },
   {
    "duration": 28,
    "start_time": "2022-02-09T18:43:58.774Z"
   },
   {
    "duration": 446,
    "start_time": "2022-02-09T18:43:58.804Z"
   },
   {
    "duration": 26,
    "start_time": "2022-02-09T18:43:59.259Z"
   },
   {
    "duration": 594,
    "start_time": "2022-02-09T18:43:59.288Z"
   },
   {
    "duration": 40,
    "start_time": "2022-02-09T18:43:59.885Z"
   },
   {
    "duration": 585,
    "start_time": "2022-02-09T18:43:59.928Z"
   },
   {
    "duration": 1165,
    "start_time": "2022-02-09T18:44:00.516Z"
   },
   {
    "duration": 672,
    "start_time": "2022-02-09T18:44:01.683Z"
   },
   {
    "duration": 9,
    "start_time": "2022-02-09T18:44:02.360Z"
   },
   {
    "duration": 14,
    "start_time": "2022-02-09T18:44:02.371Z"
   },
   {
    "duration": 13,
    "start_time": "2022-02-09T18:44:02.388Z"
   },
   {
    "duration": 1189,
    "start_time": "2022-02-09T18:44:02.404Z"
   },
   {
    "duration": 9,
    "start_time": "2022-02-09T18:44:03.595Z"
   },
   {
    "duration": 8,
    "start_time": "2022-02-09T18:44:03.607Z"
   },
   {
    "duration": 7,
    "start_time": "2022-02-09T18:44:03.618Z"
   },
   {
    "duration": 40,
    "start_time": "2022-02-09T18:44:03.628Z"
   },
   {
    "duration": 8,
    "start_time": "2022-02-09T18:44:03.671Z"
   },
   {
    "duration": 11,
    "start_time": "2022-02-09T18:44:03.683Z"
   },
   {
    "duration": 380,
    "start_time": "2022-02-09T18:44:03.697Z"
   },
   {
    "duration": 8,
    "start_time": "2022-02-09T18:44:04.080Z"
   },
   {
    "duration": 17,
    "start_time": "2022-02-09T18:44:04.091Z"
   },
   {
    "duration": 6,
    "start_time": "2022-02-09T18:44:04.111Z"
   },
   {
    "duration": 56,
    "start_time": "2022-02-09T18:44:04.120Z"
   },
   {
    "duration": 24,
    "start_time": "2022-02-09T18:44:04.180Z"
   },
   {
    "duration": 5,
    "start_time": "2022-02-09T18:44:04.207Z"
   },
   {
    "duration": 13,
    "start_time": "2022-02-09T18:44:04.214Z"
   },
   {
    "duration": 40,
    "start_time": "2022-02-09T18:44:04.229Z"
   },
   {
    "duration": 19,
    "start_time": "2022-02-09T18:44:04.271Z"
   },
   {
    "duration": 9,
    "start_time": "2022-02-09T18:44:04.292Z"
   },
   {
    "duration": 58,
    "start_time": "2022-02-09T18:44:04.303Z"
   },
   {
    "duration": 30,
    "start_time": "2022-02-09T18:44:04.363Z"
   },
   {
    "duration": 5,
    "start_time": "2022-02-09T18:44:04.396Z"
   },
   {
    "duration": 8,
    "start_time": "2022-02-09T18:44:04.404Z"
   },
   {
    "duration": 45,
    "start_time": "2022-02-09T18:44:04.414Z"
   },
   {
    "duration": 4,
    "start_time": "2022-02-09T18:44:04.462Z"
   },
   {
    "duration": 7,
    "start_time": "2022-02-09T18:44:04.469Z"
   },
   {
    "duration": 239,
    "start_time": "2022-02-09T18:44:04.484Z"
   },
   {
    "duration": 10,
    "start_time": "2022-02-09T18:44:04.726Z"
   },
   {
    "duration": 23,
    "start_time": "2022-02-09T18:44:04.739Z"
   },
   {
    "duration": 25,
    "start_time": "2022-02-09T18:44:04.765Z"
   },
   {
    "duration": 9,
    "start_time": "2022-02-09T18:44:04.793Z"
   },
   {
    "duration": 11,
    "start_time": "2022-02-09T18:44:04.804Z"
   },
   {
    "duration": 1064,
    "start_time": "2022-02-09T19:09:36.627Z"
   },
   {
    "duration": 561,
    "start_time": "2022-02-09T19:09:37.692Z"
   },
   {
    "duration": 11,
    "start_time": "2022-02-09T19:09:38.255Z"
   },
   {
    "duration": 5,
    "start_time": "2022-02-09T19:09:38.268Z"
   },
   {
    "duration": 8,
    "start_time": "2022-02-09T19:09:38.275Z"
   },
   {
    "duration": 7,
    "start_time": "2022-02-09T19:09:38.284Z"
   },
   {
    "duration": 10,
    "start_time": "2022-02-09T19:09:38.292Z"
   },
   {
    "duration": 12,
    "start_time": "2022-02-09T19:09:38.304Z"
   },
   {
    "duration": 5,
    "start_time": "2022-02-09T19:09:38.317Z"
   },
   {
    "duration": 7,
    "start_time": "2022-02-09T19:09:38.323Z"
   },
   {
    "duration": 41,
    "start_time": "2022-02-09T19:09:38.331Z"
   },
   {
    "duration": 3,
    "start_time": "2022-02-09T19:09:38.374Z"
   },
   {
    "duration": 8,
    "start_time": "2022-02-09T19:09:38.378Z"
   },
   {
    "duration": 9,
    "start_time": "2022-02-09T19:09:38.387Z"
   },
   {
    "duration": 11,
    "start_time": "2022-02-09T19:09:38.397Z"
   },
   {
    "duration": 13,
    "start_time": "2022-02-09T19:09:38.410Z"
   },
   {
    "duration": 47,
    "start_time": "2022-02-09T19:09:38.424Z"
   },
   {
    "duration": 5,
    "start_time": "2022-02-09T19:09:38.473Z"
   },
   {
    "duration": 7,
    "start_time": "2022-02-09T19:09:38.479Z"
   },
   {
    "duration": 4,
    "start_time": "2022-02-09T19:09:38.487Z"
   },
   {
    "duration": 11,
    "start_time": "2022-02-09T19:09:38.493Z"
   },
   {
    "duration": 17,
    "start_time": "2022-02-09T19:09:38.506Z"
   },
   {
    "duration": 11,
    "start_time": "2022-02-09T19:09:38.526Z"
   },
   {
    "duration": 36,
    "start_time": "2022-02-09T19:09:38.540Z"
   },
   {
    "duration": 8,
    "start_time": "2022-02-09T19:09:38.578Z"
   },
   {
    "duration": 7,
    "start_time": "2022-02-09T19:09:38.588Z"
   },
   {
    "duration": 18,
    "start_time": "2022-02-09T19:09:38.596Z"
   },
   {
    "duration": 10,
    "start_time": "2022-02-09T19:09:38.615Z"
   },
   {
    "duration": 6,
    "start_time": "2022-02-09T19:09:38.627Z"
   },
   {
    "duration": 373,
    "start_time": "2022-02-09T19:09:38.634Z"
   },
   {
    "duration": 404,
    "start_time": "2022-02-09T19:09:39.008Z"
   },
   {
    "duration": 16,
    "start_time": "2022-02-09T19:09:39.413Z"
   },
   {
    "duration": 250,
    "start_time": "2022-02-09T19:09:39.431Z"
   },
   {
    "duration": 15,
    "start_time": "2022-02-09T19:09:39.682Z"
   },
   {
    "duration": 230,
    "start_time": "2022-02-09T19:09:39.698Z"
   },
   {
    "duration": 15,
    "start_time": "2022-02-09T19:09:39.930Z"
   },
   {
    "duration": 384,
    "start_time": "2022-02-09T19:09:39.947Z"
   },
   {
    "duration": 694,
    "start_time": "2022-02-09T19:09:40.333Z"
   },
   {
    "duration": 446,
    "start_time": "2022-02-09T19:09:41.028Z"
   },
   {
    "duration": 5,
    "start_time": "2022-02-09T19:09:41.475Z"
   },
   {
    "duration": 8,
    "start_time": "2022-02-09T19:09:41.481Z"
   },
   {
    "duration": 5,
    "start_time": "2022-02-09T19:09:41.491Z"
   },
   {
    "duration": 519,
    "start_time": "2022-02-09T19:09:41.498Z"
   },
   {
    "duration": 8,
    "start_time": "2022-02-09T19:09:42.019Z"
   },
   {
    "duration": 4,
    "start_time": "2022-02-09T19:09:42.028Z"
   },
   {
    "duration": 5,
    "start_time": "2022-02-09T19:09:42.034Z"
   },
   {
    "duration": 5,
    "start_time": "2022-02-09T19:09:42.041Z"
   },
   {
    "duration": 5,
    "start_time": "2022-02-09T19:09:42.072Z"
   },
   {
    "duration": 8,
    "start_time": "2022-02-09T19:09:42.079Z"
   },
   {
    "duration": 108,
    "start_time": "2022-02-09T19:09:42.089Z"
   },
   {
    "duration": 5,
    "start_time": "2022-02-09T19:09:42.198Z"
   },
   {
    "duration": 33,
    "start_time": "2022-02-09T19:09:42.204Z"
   },
   {
    "duration": 4,
    "start_time": "2022-02-09T19:09:42.239Z"
   },
   {
    "duration": 10,
    "start_time": "2022-02-09T19:09:42.245Z"
   },
   {
    "duration": 18,
    "start_time": "2022-02-09T19:09:42.256Z"
   },
   {
    "duration": 7,
    "start_time": "2022-02-09T19:09:42.276Z"
   },
   {
    "duration": 11,
    "start_time": "2022-02-09T19:09:42.285Z"
   },
   {
    "duration": 11,
    "start_time": "2022-02-09T19:09:42.297Z"
   },
   {
    "duration": 12,
    "start_time": "2022-02-09T19:09:42.310Z"
   },
   {
    "duration": 9,
    "start_time": "2022-02-09T19:09:42.324Z"
   },
   {
    "duration": 16,
    "start_time": "2022-02-09T19:09:42.334Z"
   },
   {
    "duration": 28,
    "start_time": "2022-02-09T19:09:42.352Z"
   },
   {
    "duration": 3,
    "start_time": "2022-02-09T19:09:42.382Z"
   },
   {
    "duration": 7,
    "start_time": "2022-02-09T19:09:42.387Z"
   },
   {
    "duration": 8,
    "start_time": "2022-02-09T19:09:42.396Z"
   },
   {
    "duration": 8,
    "start_time": "2022-02-09T19:09:42.406Z"
   },
   {
    "duration": 9,
    "start_time": "2022-02-09T19:09:42.415Z"
   },
   {
    "duration": 110,
    "start_time": "2022-02-09T19:09:42.429Z"
   },
   {
    "duration": 7,
    "start_time": "2022-02-09T19:09:42.541Z"
   },
   {
    "duration": 4,
    "start_time": "2022-02-09T19:09:42.549Z"
   },
   {
    "duration": 28,
    "start_time": "2022-02-09T19:09:42.554Z"
   },
   {
    "duration": 3,
    "start_time": "2022-02-09T19:09:42.584Z"
   },
   {
    "duration": 7,
    "start_time": "2022-02-09T19:09:42.589Z"
   },
   {
    "duration": 218,
    "start_time": "2022-02-13T23:28:45.706Z"
   },
   {
    "duration": 1138,
    "start_time": "2022-02-13T23:28:51.530Z"
   },
   {
    "duration": 365,
    "start_time": "2022-02-13T23:28:52.670Z"
   },
   {
    "duration": 9,
    "start_time": "2022-02-13T23:28:53.037Z"
   },
   {
    "duration": 5,
    "start_time": "2022-02-13T23:28:53.048Z"
   },
   {
    "duration": 7,
    "start_time": "2022-02-13T23:28:53.055Z"
   },
   {
    "duration": 5,
    "start_time": "2022-02-13T23:28:53.063Z"
   },
   {
    "duration": 11,
    "start_time": "2022-02-13T23:28:53.070Z"
   },
   {
    "duration": 14,
    "start_time": "2022-02-13T23:28:53.083Z"
   },
   {
    "duration": 37,
    "start_time": "2022-02-13T23:28:53.100Z"
   },
   {
    "duration": 8,
    "start_time": "2022-02-13T23:28:53.139Z"
   },
   {
    "duration": 7,
    "start_time": "2022-02-13T23:28:53.149Z"
   },
   {
    "duration": 5,
    "start_time": "2022-02-13T23:28:53.158Z"
   },
   {
    "duration": 7,
    "start_time": "2022-02-13T23:28:53.164Z"
   },
   {
    "duration": 9,
    "start_time": "2022-02-13T23:28:53.172Z"
   },
   {
    "duration": 11,
    "start_time": "2022-02-13T23:28:53.182Z"
   },
   {
    "duration": 44,
    "start_time": "2022-02-13T23:28:53.195Z"
   },
   {
    "duration": 14,
    "start_time": "2022-02-13T23:28:53.241Z"
   },
   {
    "duration": 4,
    "start_time": "2022-02-13T23:28:53.256Z"
   },
   {
    "duration": 8,
    "start_time": "2022-02-13T23:28:53.262Z"
   },
   {
    "duration": 5,
    "start_time": "2022-02-13T23:28:53.271Z"
   },
   {
    "duration": 7,
    "start_time": "2022-02-13T23:28:53.277Z"
   },
   {
    "duration": 6,
    "start_time": "2022-02-13T23:28:53.286Z"
   },
   {
    "duration": 7,
    "start_time": "2022-02-13T23:28:53.332Z"
   },
   {
    "duration": 12,
    "start_time": "2022-02-13T23:28:53.342Z"
   },
   {
    "duration": 9,
    "start_time": "2022-02-13T23:28:53.356Z"
   },
   {
    "duration": 5,
    "start_time": "2022-02-13T23:28:53.366Z"
   },
   {
    "duration": 12,
    "start_time": "2022-02-13T23:28:53.372Z"
   },
   {
    "duration": 10,
    "start_time": "2022-02-13T23:28:53.386Z"
   },
   {
    "duration": 34,
    "start_time": "2022-02-13T23:28:53.398Z"
   },
   {
    "duration": 341,
    "start_time": "2022-02-13T23:28:53.434Z"
   },
   {
    "duration": 298,
    "start_time": "2022-02-13T23:28:53.776Z"
   },
   {
    "duration": 17,
    "start_time": "2022-02-13T23:28:54.076Z"
   },
   {
    "duration": 264,
    "start_time": "2022-02-13T23:28:54.094Z"
   },
   {
    "duration": 15,
    "start_time": "2022-02-13T23:28:54.359Z"
   },
   {
    "duration": 230,
    "start_time": "2022-02-13T23:28:54.376Z"
   },
   {
    "duration": 27,
    "start_time": "2022-02-13T23:28:54.608Z"
   },
   {
    "duration": 377,
    "start_time": "2022-02-13T23:28:54.637Z"
   },
   {
    "duration": 692,
    "start_time": "2022-02-13T23:28:55.016Z"
   },
   {
    "duration": 451,
    "start_time": "2022-02-13T23:28:55.710Z"
   },
   {
    "duration": 6,
    "start_time": "2022-02-13T23:28:56.162Z"
   },
   {
    "duration": 11,
    "start_time": "2022-02-13T23:28:56.170Z"
   },
   {
    "duration": 8,
    "start_time": "2022-02-13T23:28:56.183Z"
   },
   {
    "duration": 573,
    "start_time": "2022-02-13T23:28:56.193Z"
   },
   {
    "duration": 7,
    "start_time": "2022-02-13T23:28:56.768Z"
   },
   {
    "duration": 6,
    "start_time": "2022-02-13T23:28:56.777Z"
   },
   {
    "duration": 6,
    "start_time": "2022-02-13T23:28:56.784Z"
   },
   {
    "duration": 5,
    "start_time": "2022-02-13T23:28:56.792Z"
   },
   {
    "duration": 34,
    "start_time": "2022-02-13T23:28:56.799Z"
   },
   {
    "duration": 10,
    "start_time": "2022-02-13T23:28:56.835Z"
   },
   {
    "duration": 127,
    "start_time": "2022-02-13T23:28:56.847Z"
   },
   {
    "duration": 5,
    "start_time": "2022-02-13T23:28:56.976Z"
   },
   {
    "duration": 14,
    "start_time": "2022-02-13T23:28:56.983Z"
   },
   {
    "duration": 5,
    "start_time": "2022-02-13T23:28:56.999Z"
   },
   {
    "duration": 10,
    "start_time": "2022-02-13T23:28:57.030Z"
   },
   {
    "duration": 16,
    "start_time": "2022-02-13T23:28:57.042Z"
   },
   {
    "duration": 7,
    "start_time": "2022-02-13T23:28:57.060Z"
   },
   {
    "duration": 6,
    "start_time": "2022-02-13T23:28:57.068Z"
   },
   {
    "duration": 8,
    "start_time": "2022-02-13T23:28:57.075Z"
   },
   {
    "duration": 53,
    "start_time": "2022-02-13T23:28:57.085Z"
   },
   {
    "duration": 5,
    "start_time": "2022-02-13T23:28:57.140Z"
   },
   {
    "duration": 14,
    "start_time": "2022-02-13T23:28:57.146Z"
   },
   {
    "duration": 19,
    "start_time": "2022-02-13T23:28:57.161Z"
   },
   {
    "duration": 4,
    "start_time": "2022-02-13T23:28:57.182Z"
   },
   {
    "duration": 6,
    "start_time": "2022-02-13T23:28:57.187Z"
   },
   {
    "duration": 4,
    "start_time": "2022-02-13T23:28:57.230Z"
   },
   {
    "duration": 6,
    "start_time": "2022-02-13T23:28:57.236Z"
   },
   {
    "duration": 5,
    "start_time": "2022-02-13T23:28:57.243Z"
   },
   {
    "duration": 136,
    "start_time": "2022-02-13T23:28:57.253Z"
   },
   {
    "duration": 7,
    "start_time": "2022-02-13T23:28:57.391Z"
   },
   {
    "duration": 4,
    "start_time": "2022-02-13T23:28:57.400Z"
   },
   {
    "duration": 42,
    "start_time": "2022-02-13T23:28:57.406Z"
   },
   {
    "duration": 8,
    "start_time": "2022-02-13T23:28:57.450Z"
   },
   {
    "duration": 7,
    "start_time": "2022-02-13T23:28:57.460Z"
   },
   {
    "duration": 1151,
    "start_time": "2022-02-23T02:14:58.683Z"
   },
   {
    "duration": 514,
    "start_time": "2022-02-23T02:14:59.836Z"
   },
   {
    "duration": 12,
    "start_time": "2022-02-23T02:15:00.352Z"
   },
   {
    "duration": 7,
    "start_time": "2022-02-23T02:15:00.366Z"
   },
   {
    "duration": 17,
    "start_time": "2022-02-23T02:15:00.375Z"
   },
   {
    "duration": 15,
    "start_time": "2022-02-23T02:15:00.394Z"
   },
   {
    "duration": 35,
    "start_time": "2022-02-23T02:15:00.412Z"
   },
   {
    "duration": 34,
    "start_time": "2022-02-23T02:15:00.451Z"
   },
   {
    "duration": 8,
    "start_time": "2022-02-23T02:15:00.488Z"
   },
   {
    "duration": 16,
    "start_time": "2022-02-23T02:15:00.498Z"
   },
   {
    "duration": 18,
    "start_time": "2022-02-23T02:15:00.515Z"
   },
   {
    "duration": 12,
    "start_time": "2022-02-23T02:15:00.535Z"
   },
   {
    "duration": 26,
    "start_time": "2022-02-23T02:15:00.550Z"
   },
   {
    "duration": 15,
    "start_time": "2022-02-23T02:15:00.578Z"
   },
   {
    "duration": 19,
    "start_time": "2022-02-23T02:15:00.595Z"
   },
   {
    "duration": 26,
    "start_time": "2022-02-23T02:15:00.616Z"
   },
   {
    "duration": 16,
    "start_time": "2022-02-23T02:15:00.645Z"
   },
   {
    "duration": 33,
    "start_time": "2022-02-23T02:15:00.663Z"
   },
   {
    "duration": 12,
    "start_time": "2022-02-23T02:15:00.699Z"
   },
   {
    "duration": 8,
    "start_time": "2022-02-23T02:15:00.713Z"
   },
   {
    "duration": 13,
    "start_time": "2022-02-23T02:15:00.724Z"
   },
   {
    "duration": 18,
    "start_time": "2022-02-23T02:15:00.740Z"
   },
   {
    "duration": 16,
    "start_time": "2022-02-23T02:15:00.765Z"
   },
   {
    "duration": 19,
    "start_time": "2022-02-23T02:15:00.785Z"
   },
   {
    "duration": 11,
    "start_time": "2022-02-23T02:15:00.806Z"
   },
   {
    "duration": 9,
    "start_time": "2022-02-23T02:15:00.819Z"
   },
   {
    "duration": 30,
    "start_time": "2022-02-23T02:15:00.830Z"
   },
   {
    "duration": 14,
    "start_time": "2022-02-23T02:15:00.862Z"
   },
   {
    "duration": 15,
    "start_time": "2022-02-23T02:15:00.877Z"
   },
   {
    "duration": 370,
    "start_time": "2022-02-23T02:15:00.893Z"
   },
   {
    "duration": 344,
    "start_time": "2022-02-23T02:15:01.264Z"
   },
   {
    "duration": 20,
    "start_time": "2022-02-23T02:15:01.610Z"
   },
   {
    "duration": 302,
    "start_time": "2022-02-23T02:15:01.632Z"
   },
   {
    "duration": 29,
    "start_time": "2022-02-23T02:15:01.937Z"
   },
   {
    "duration": 286,
    "start_time": "2022-02-23T02:15:01.968Z"
   },
   {
    "duration": 20,
    "start_time": "2022-02-23T02:15:02.256Z"
   },
   {
    "duration": 408,
    "start_time": "2022-02-23T02:15:02.277Z"
   },
   {
    "duration": 760,
    "start_time": "2022-02-23T02:15:02.687Z"
   },
   {
    "duration": 542,
    "start_time": "2022-02-23T02:15:03.448Z"
   },
   {
    "duration": 6,
    "start_time": "2022-02-23T02:15:03.992Z"
   },
   {
    "duration": 15,
    "start_time": "2022-02-23T02:15:04.001Z"
   },
   {
    "duration": 12,
    "start_time": "2022-02-23T02:15:04.018Z"
   },
   {
    "duration": 705,
    "start_time": "2022-02-23T02:15:04.033Z"
   },
   {
    "duration": 7,
    "start_time": "2022-02-23T02:15:04.740Z"
   },
   {
    "duration": 4,
    "start_time": "2022-02-23T02:15:04.759Z"
   },
   {
    "duration": 7,
    "start_time": "2022-02-23T02:15:04.765Z"
   },
   {
    "duration": 9,
    "start_time": "2022-02-23T02:15:04.773Z"
   },
   {
    "duration": 5,
    "start_time": "2022-02-23T02:15:04.784Z"
   },
   {
    "duration": 11,
    "start_time": "2022-02-23T02:15:04.790Z"
   },
   {
    "duration": 129,
    "start_time": "2022-02-23T02:15:04.803Z"
   },
   {
    "duration": 5,
    "start_time": "2022-02-23T02:15:04.933Z"
   },
   {
    "duration": 25,
    "start_time": "2022-02-23T02:15:04.940Z"
   },
   {
    "duration": 5,
    "start_time": "2022-02-23T02:15:04.966Z"
   },
   {
    "duration": 17,
    "start_time": "2022-02-23T02:15:04.972Z"
   },
   {
    "duration": 20,
    "start_time": "2022-02-23T02:15:04.991Z"
   },
   {
    "duration": 10,
    "start_time": "2022-02-23T02:15:05.014Z"
   },
   {
    "duration": 35,
    "start_time": "2022-02-23T02:15:05.026Z"
   },
   {
    "duration": 13,
    "start_time": "2022-02-23T02:15:05.063Z"
   },
   {
    "duration": 16,
    "start_time": "2022-02-23T02:15:05.078Z"
   },
   {
    "duration": 6,
    "start_time": "2022-02-23T02:15:05.096Z"
   },
   {
    "duration": 15,
    "start_time": "2022-02-23T02:15:05.103Z"
   },
   {
    "duration": 58,
    "start_time": "2022-02-23T02:15:05.120Z"
   },
   {
    "duration": 4,
    "start_time": "2022-02-23T02:15:05.180Z"
   },
   {
    "duration": 6,
    "start_time": "2022-02-23T02:15:05.186Z"
   },
   {
    "duration": 6,
    "start_time": "2022-02-23T02:15:05.194Z"
   },
   {
    "duration": 9,
    "start_time": "2022-02-23T02:15:05.202Z"
   },
   {
    "duration": 16,
    "start_time": "2022-02-23T02:15:05.213Z"
   },
   {
    "duration": 147,
    "start_time": "2022-02-23T02:15:05.235Z"
   },
   {
    "duration": 9,
    "start_time": "2022-02-23T02:15:05.384Z"
   },
   {
    "duration": 11,
    "start_time": "2022-02-23T02:15:05.394Z"
   },
   {
    "duration": 24,
    "start_time": "2022-02-23T02:15:05.407Z"
   },
   {
    "duration": 29,
    "start_time": "2022-02-23T02:15:05.433Z"
   },
   {
    "duration": 8,
    "start_time": "2022-02-23T02:15:05.465Z"
   },
   {
    "duration": 14,
    "start_time": "2022-02-23T02:15:18.670Z"
   },
   {
    "duration": 6,
    "start_time": "2022-02-23T02:15:46.171Z"
   },
   {
    "duration": 5,
    "start_time": "2022-02-23T02:15:56.541Z"
   },
   {
    "duration": 6,
    "start_time": "2022-02-23T02:16:06.528Z"
   },
   {
    "duration": 6,
    "start_time": "2022-02-23T02:16:13.208Z"
   }
  ],
  "kernelspec": {
   "display_name": "Python 3",
   "language": "python",
   "name": "python3"
  },
  "language_info": {
   "codemirror_mode": {
    "name": "ipython",
    "version": 3
   },
   "file_extension": ".py",
   "mimetype": "text/x-python",
   "name": "python",
   "nbconvert_exporter": "python",
   "pygments_lexer": "ipython3",
   "version": "3.8.8"
  },
  "toc": {
   "base_numbering": 1,
   "nav_menu": {},
   "number_sections": true,
   "sideBar": true,
   "skip_h1_title": true,
   "title_cell": "Table of Contents",
   "title_sidebar": "Contents",
   "toc_cell": false,
   "toc_position": {},
   "toc_section_display": true,
   "toc_window_display": true
  }
 },
 "nbformat": 4,
 "nbformat_minor": 5
}
